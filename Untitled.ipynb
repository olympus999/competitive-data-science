{
 "cells": [
  {
   "cell_type": "markdown",
   "metadata": {},
   "source": [
    "# Main"
   ]
  },
  {
   "cell_type": "markdown",
   "metadata": {},
   "source": [
    "## Read data, print head and shape"
   ]
  },
  {
   "cell_type": "code",
   "execution_count": 1,
   "metadata": {
    "ExecuteTime": {
     "end_time": "2020-11-13T16:24:05.754737Z",
     "start_time": "2020-11-13T16:24:04.644015Z"
    }
   },
   "outputs": [],
   "source": [
    "import pandas as pd\n",
    "import numpy as np\n",
    "import os\n",
    "import matplotlib.pyplot as plt    "
   ]
  },
  {
   "cell_type": "code",
   "execution_count": 2,
   "metadata": {
    "ExecuteTime": {
     "end_time": "2020-11-13T16:24:05.766450Z",
     "start_time": "2020-11-13T16:24:05.757075Z"
    },
    "hidden": true
   },
   "outputs": [
    {
     "data": {
      "text/plain": [
       "['items.csv',\n",
       " 'item_categories.csv',\n",
       " 'sales_train.csv',\n",
       " 'sample_submission.csv',\n",
       " 'shops.csv',\n",
       " 'test.csv']"
      ]
     },
     "execution_count": 2,
     "metadata": {},
     "output_type": "execute_result"
    }
   ],
   "source": [
    "os.listdir('../input/')"
   ]
  },
  {
   "cell_type": "code",
   "execution_count": 3,
   "metadata": {
    "ExecuteTime": {
     "end_time": "2020-11-13T16:24:07.688027Z",
     "start_time": "2020-11-13T16:24:05.769041Z"
    },
    "hidden": true
   },
   "outputs": [],
   "source": [
    "df_items = pd.read_csv('../input/items.csv')\n",
    "df_item_categories = pd.read_csv('../input/item_categories.csv')\n",
    "df_sales = pd.read_csv('../input/sales_train.csv')\n",
    "df_sample_submission = pd.read_csv('../input/sample_submission.csv')\n",
    "df_shops = pd.read_csv('../input/shops.csv')\n",
    "df_test = pd.read_csv('../input/test.csv')"
   ]
  },
  {
   "cell_type": "code",
   "execution_count": 4,
   "metadata": {
    "ExecuteTime": {
     "end_time": "2020-11-13T16:24:07.702844Z",
     "start_time": "2020-11-13T16:24:07.689848Z"
    },
    "hidden": true
   },
   "outputs": [
    {
     "name": "stdout",
     "output_type": "stream",
     "text": [
      "(22170, 3)\n"
     ]
    },
    {
     "data": {
      "text/html": [
       "<div>\n",
       "<style scoped>\n",
       "    .dataframe tbody tr th:only-of-type {\n",
       "        vertical-align: middle;\n",
       "    }\n",
       "\n",
       "    .dataframe tbody tr th {\n",
       "        vertical-align: top;\n",
       "    }\n",
       "\n",
       "    .dataframe thead th {\n",
       "        text-align: right;\n",
       "    }\n",
       "</style>\n",
       "<table border=\"1\" class=\"dataframe\">\n",
       "  <thead>\n",
       "    <tr style=\"text-align: right;\">\n",
       "      <th></th>\n",
       "      <th>item_name</th>\n",
       "      <th>item_id</th>\n",
       "      <th>item_category_id</th>\n",
       "    </tr>\n",
       "  </thead>\n",
       "  <tbody>\n",
       "    <tr>\n",
       "      <th>0</th>\n",
       "      <td>! ВО ВЛАСТИ НАВАЖДЕНИЯ (ПЛАСТ.)         D</td>\n",
       "      <td>0</td>\n",
       "      <td>40</td>\n",
       "    </tr>\n",
       "    <tr>\n",
       "      <th>1</th>\n",
       "      <td>!ABBYY FineReader 12 Professional Edition Full...</td>\n",
       "      <td>1</td>\n",
       "      <td>76</td>\n",
       "    </tr>\n",
       "    <tr>\n",
       "      <th>2</th>\n",
       "      <td>***В ЛУЧАХ СЛАВЫ   (UNV)                    D</td>\n",
       "      <td>2</td>\n",
       "      <td>40</td>\n",
       "    </tr>\n",
       "    <tr>\n",
       "      <th>3</th>\n",
       "      <td>***ГОЛУБАЯ ВОЛНА  (Univ)                      D</td>\n",
       "      <td>3</td>\n",
       "      <td>40</td>\n",
       "    </tr>\n",
       "    <tr>\n",
       "      <th>4</th>\n",
       "      <td>***КОРОБКА (СТЕКЛО)                       D</td>\n",
       "      <td>4</td>\n",
       "      <td>40</td>\n",
       "    </tr>\n",
       "  </tbody>\n",
       "</table>\n",
       "</div>"
      ],
      "text/plain": [
       "                                           item_name  item_id  \\\n",
       "0          ! ВО ВЛАСТИ НАВАЖДЕНИЯ (ПЛАСТ.)         D        0   \n",
       "1  !ABBYY FineReader 12 Professional Edition Full...        1   \n",
       "2      ***В ЛУЧАХ СЛАВЫ   (UNV)                    D        2   \n",
       "3    ***ГОЛУБАЯ ВОЛНА  (Univ)                      D        3   \n",
       "4        ***КОРОБКА (СТЕКЛО)                       D        4   \n",
       "\n",
       "   item_category_id  \n",
       "0                40  \n",
       "1                76  \n",
       "2                40  \n",
       "3                40  \n",
       "4                40  "
      ]
     },
     "execution_count": 4,
     "metadata": {},
     "output_type": "execute_result"
    }
   ],
   "source": [
    "print(df_items.shape)\n",
    "df_items.head()"
   ]
  },
  {
   "cell_type": "code",
   "execution_count": 5,
   "metadata": {
    "ExecuteTime": {
     "end_time": "2020-11-13T16:24:07.715737Z",
     "start_time": "2020-11-13T16:24:07.706202Z"
    },
    "hidden": true
   },
   "outputs": [
    {
     "name": "stdout",
     "output_type": "stream",
     "text": [
      "(84, 2)\n"
     ]
    },
    {
     "data": {
      "text/html": [
       "<div>\n",
       "<style scoped>\n",
       "    .dataframe tbody tr th:only-of-type {\n",
       "        vertical-align: middle;\n",
       "    }\n",
       "\n",
       "    .dataframe tbody tr th {\n",
       "        vertical-align: top;\n",
       "    }\n",
       "\n",
       "    .dataframe thead th {\n",
       "        text-align: right;\n",
       "    }\n",
       "</style>\n",
       "<table border=\"1\" class=\"dataframe\">\n",
       "  <thead>\n",
       "    <tr style=\"text-align: right;\">\n",
       "      <th></th>\n",
       "      <th>item_category_name</th>\n",
       "      <th>item_category_id</th>\n",
       "    </tr>\n",
       "  </thead>\n",
       "  <tbody>\n",
       "    <tr>\n",
       "      <th>0</th>\n",
       "      <td>PC - Гарнитуры/Наушники</td>\n",
       "      <td>0</td>\n",
       "    </tr>\n",
       "    <tr>\n",
       "      <th>1</th>\n",
       "      <td>Аксессуары - PS2</td>\n",
       "      <td>1</td>\n",
       "    </tr>\n",
       "    <tr>\n",
       "      <th>2</th>\n",
       "      <td>Аксессуары - PS3</td>\n",
       "      <td>2</td>\n",
       "    </tr>\n",
       "    <tr>\n",
       "      <th>3</th>\n",
       "      <td>Аксессуары - PS4</td>\n",
       "      <td>3</td>\n",
       "    </tr>\n",
       "    <tr>\n",
       "      <th>4</th>\n",
       "      <td>Аксессуары - PSP</td>\n",
       "      <td>4</td>\n",
       "    </tr>\n",
       "  </tbody>\n",
       "</table>\n",
       "</div>"
      ],
      "text/plain": [
       "        item_category_name  item_category_id\n",
       "0  PC - Гарнитуры/Наушники                 0\n",
       "1         Аксессуары - PS2                 1\n",
       "2         Аксессуары - PS3                 2\n",
       "3         Аксессуары - PS4                 3\n",
       "4         Аксессуары - PSP                 4"
      ]
     },
     "execution_count": 5,
     "metadata": {},
     "output_type": "execute_result"
    }
   ],
   "source": [
    "print(df_item_categories.shape)\n",
    "df_item_categories.head()"
   ]
  },
  {
   "cell_type": "code",
   "execution_count": 6,
   "metadata": {
    "ExecuteTime": {
     "end_time": "2020-11-13T16:24:07.736890Z",
     "start_time": "2020-11-13T16:24:07.718276Z"
    },
    "hidden": true
   },
   "outputs": [
    {
     "name": "stdout",
     "output_type": "stream",
     "text": [
      "(2935849, 6)\n"
     ]
    },
    {
     "data": {
      "text/html": [
       "<div>\n",
       "<style scoped>\n",
       "    .dataframe tbody tr th:only-of-type {\n",
       "        vertical-align: middle;\n",
       "    }\n",
       "\n",
       "    .dataframe tbody tr th {\n",
       "        vertical-align: top;\n",
       "    }\n",
       "\n",
       "    .dataframe thead th {\n",
       "        text-align: right;\n",
       "    }\n",
       "</style>\n",
       "<table border=\"1\" class=\"dataframe\">\n",
       "  <thead>\n",
       "    <tr style=\"text-align: right;\">\n",
       "      <th></th>\n",
       "      <th>date</th>\n",
       "      <th>date_block_num</th>\n",
       "      <th>shop_id</th>\n",
       "      <th>item_id</th>\n",
       "      <th>item_price</th>\n",
       "      <th>item_cnt_day</th>\n",
       "    </tr>\n",
       "  </thead>\n",
       "  <tbody>\n",
       "    <tr>\n",
       "      <th>0</th>\n",
       "      <td>02.01.2013</td>\n",
       "      <td>0</td>\n",
       "      <td>59</td>\n",
       "      <td>22154</td>\n",
       "      <td>999.00</td>\n",
       "      <td>1.0</td>\n",
       "    </tr>\n",
       "    <tr>\n",
       "      <th>1</th>\n",
       "      <td>03.01.2013</td>\n",
       "      <td>0</td>\n",
       "      <td>25</td>\n",
       "      <td>2552</td>\n",
       "      <td>899.00</td>\n",
       "      <td>1.0</td>\n",
       "    </tr>\n",
       "    <tr>\n",
       "      <th>2</th>\n",
       "      <td>05.01.2013</td>\n",
       "      <td>0</td>\n",
       "      <td>25</td>\n",
       "      <td>2552</td>\n",
       "      <td>899.00</td>\n",
       "      <td>-1.0</td>\n",
       "    </tr>\n",
       "    <tr>\n",
       "      <th>3</th>\n",
       "      <td>06.01.2013</td>\n",
       "      <td>0</td>\n",
       "      <td>25</td>\n",
       "      <td>2554</td>\n",
       "      <td>1709.05</td>\n",
       "      <td>1.0</td>\n",
       "    </tr>\n",
       "    <tr>\n",
       "      <th>4</th>\n",
       "      <td>15.01.2013</td>\n",
       "      <td>0</td>\n",
       "      <td>25</td>\n",
       "      <td>2555</td>\n",
       "      <td>1099.00</td>\n",
       "      <td>1.0</td>\n",
       "    </tr>\n",
       "  </tbody>\n",
       "</table>\n",
       "</div>"
      ],
      "text/plain": [
       "         date  date_block_num  shop_id  item_id  item_price  item_cnt_day\n",
       "0  02.01.2013               0       59    22154      999.00           1.0\n",
       "1  03.01.2013               0       25     2552      899.00           1.0\n",
       "2  05.01.2013               0       25     2552      899.00          -1.0\n",
       "3  06.01.2013               0       25     2554     1709.05           1.0\n",
       "4  15.01.2013               0       25     2555     1099.00           1.0"
      ]
     },
     "execution_count": 6,
     "metadata": {},
     "output_type": "execute_result"
    }
   ],
   "source": [
    "print(df_sales.shape)\n",
    "df_sales.head()"
   ]
  },
  {
   "cell_type": "code",
   "execution_count": 7,
   "metadata": {
    "ExecuteTime": {
     "end_time": "2020-11-13T16:24:07.747718Z",
     "start_time": "2020-11-13T16:24:07.739427Z"
    },
    "hidden": true
   },
   "outputs": [
    {
     "name": "stdout",
     "output_type": "stream",
     "text": [
      "(214200, 2)\n"
     ]
    },
    {
     "data": {
      "text/html": [
       "<div>\n",
       "<style scoped>\n",
       "    .dataframe tbody tr th:only-of-type {\n",
       "        vertical-align: middle;\n",
       "    }\n",
       "\n",
       "    .dataframe tbody tr th {\n",
       "        vertical-align: top;\n",
       "    }\n",
       "\n",
       "    .dataframe thead th {\n",
       "        text-align: right;\n",
       "    }\n",
       "</style>\n",
       "<table border=\"1\" class=\"dataframe\">\n",
       "  <thead>\n",
       "    <tr style=\"text-align: right;\">\n",
       "      <th></th>\n",
       "      <th>ID</th>\n",
       "      <th>item_cnt_month</th>\n",
       "    </tr>\n",
       "  </thead>\n",
       "  <tbody>\n",
       "    <tr>\n",
       "      <th>0</th>\n",
       "      <td>0</td>\n",
       "      <td>0.5</td>\n",
       "    </tr>\n",
       "    <tr>\n",
       "      <th>1</th>\n",
       "      <td>1</td>\n",
       "      <td>0.5</td>\n",
       "    </tr>\n",
       "    <tr>\n",
       "      <th>2</th>\n",
       "      <td>2</td>\n",
       "      <td>0.5</td>\n",
       "    </tr>\n",
       "    <tr>\n",
       "      <th>3</th>\n",
       "      <td>3</td>\n",
       "      <td>0.5</td>\n",
       "    </tr>\n",
       "    <tr>\n",
       "      <th>4</th>\n",
       "      <td>4</td>\n",
       "      <td>0.5</td>\n",
       "    </tr>\n",
       "  </tbody>\n",
       "</table>\n",
       "</div>"
      ],
      "text/plain": [
       "   ID  item_cnt_month\n",
       "0   0             0.5\n",
       "1   1             0.5\n",
       "2   2             0.5\n",
       "3   3             0.5\n",
       "4   4             0.5"
      ]
     },
     "execution_count": 7,
     "metadata": {},
     "output_type": "execute_result"
    }
   ],
   "source": [
    "print(df_sample_submission.shape)\n",
    "df_sample_submission.head()"
   ]
  },
  {
   "cell_type": "code",
   "execution_count": 8,
   "metadata": {
    "ExecuteTime": {
     "end_time": "2020-11-13T16:24:07.758205Z",
     "start_time": "2020-11-13T16:24:07.750467Z"
    },
    "hidden": true
   },
   "outputs": [
    {
     "name": "stdout",
     "output_type": "stream",
     "text": [
      "(60, 2)\n"
     ]
    },
    {
     "data": {
      "text/html": [
       "<div>\n",
       "<style scoped>\n",
       "    .dataframe tbody tr th:only-of-type {\n",
       "        vertical-align: middle;\n",
       "    }\n",
       "\n",
       "    .dataframe tbody tr th {\n",
       "        vertical-align: top;\n",
       "    }\n",
       "\n",
       "    .dataframe thead th {\n",
       "        text-align: right;\n",
       "    }\n",
       "</style>\n",
       "<table border=\"1\" class=\"dataframe\">\n",
       "  <thead>\n",
       "    <tr style=\"text-align: right;\">\n",
       "      <th></th>\n",
       "      <th>shop_name</th>\n",
       "      <th>shop_id</th>\n",
       "    </tr>\n",
       "  </thead>\n",
       "  <tbody>\n",
       "    <tr>\n",
       "      <th>0</th>\n",
       "      <td>!Якутск Орджоникидзе, 56 фран</td>\n",
       "      <td>0</td>\n",
       "    </tr>\n",
       "    <tr>\n",
       "      <th>1</th>\n",
       "      <td>!Якутск ТЦ \"Центральный\" фран</td>\n",
       "      <td>1</td>\n",
       "    </tr>\n",
       "    <tr>\n",
       "      <th>2</th>\n",
       "      <td>Адыгея ТЦ \"Мега\"</td>\n",
       "      <td>2</td>\n",
       "    </tr>\n",
       "    <tr>\n",
       "      <th>3</th>\n",
       "      <td>Балашиха ТРК \"Октябрь-Киномир\"</td>\n",
       "      <td>3</td>\n",
       "    </tr>\n",
       "    <tr>\n",
       "      <th>4</th>\n",
       "      <td>Волжский ТЦ \"Волга Молл\"</td>\n",
       "      <td>4</td>\n",
       "    </tr>\n",
       "  </tbody>\n",
       "</table>\n",
       "</div>"
      ],
      "text/plain": [
       "                        shop_name  shop_id\n",
       "0   !Якутск Орджоникидзе, 56 фран        0\n",
       "1   !Якутск ТЦ \"Центральный\" фран        1\n",
       "2                Адыгея ТЦ \"Мега\"        2\n",
       "3  Балашиха ТРК \"Октябрь-Киномир\"        3\n",
       "4        Волжский ТЦ \"Волга Молл\"        4"
      ]
     },
     "execution_count": 8,
     "metadata": {},
     "output_type": "execute_result"
    }
   ],
   "source": [
    "print(df_shops.shape)\n",
    "df_shops.head()"
   ]
  },
  {
   "cell_type": "code",
   "execution_count": 9,
   "metadata": {
    "ExecuteTime": {
     "end_time": "2020-11-13T16:24:07.768855Z",
     "start_time": "2020-11-13T16:24:07.760692Z"
    },
    "hidden": true,
    "scrolled": true
   },
   "outputs": [
    {
     "name": "stdout",
     "output_type": "stream",
     "text": [
      "(214200, 3)\n"
     ]
    },
    {
     "data": {
      "text/html": [
       "<div>\n",
       "<style scoped>\n",
       "    .dataframe tbody tr th:only-of-type {\n",
       "        vertical-align: middle;\n",
       "    }\n",
       "\n",
       "    .dataframe tbody tr th {\n",
       "        vertical-align: top;\n",
       "    }\n",
       "\n",
       "    .dataframe thead th {\n",
       "        text-align: right;\n",
       "    }\n",
       "</style>\n",
       "<table border=\"1\" class=\"dataframe\">\n",
       "  <thead>\n",
       "    <tr style=\"text-align: right;\">\n",
       "      <th></th>\n",
       "      <th>ID</th>\n",
       "      <th>shop_id</th>\n",
       "      <th>item_id</th>\n",
       "    </tr>\n",
       "  </thead>\n",
       "  <tbody>\n",
       "    <tr>\n",
       "      <th>0</th>\n",
       "      <td>0</td>\n",
       "      <td>5</td>\n",
       "      <td>5037</td>\n",
       "    </tr>\n",
       "    <tr>\n",
       "      <th>1</th>\n",
       "      <td>1</td>\n",
       "      <td>5</td>\n",
       "      <td>5320</td>\n",
       "    </tr>\n",
       "    <tr>\n",
       "      <th>2</th>\n",
       "      <td>2</td>\n",
       "      <td>5</td>\n",
       "      <td>5233</td>\n",
       "    </tr>\n",
       "    <tr>\n",
       "      <th>3</th>\n",
       "      <td>3</td>\n",
       "      <td>5</td>\n",
       "      <td>5232</td>\n",
       "    </tr>\n",
       "    <tr>\n",
       "      <th>4</th>\n",
       "      <td>4</td>\n",
       "      <td>5</td>\n",
       "      <td>5268</td>\n",
       "    </tr>\n",
       "  </tbody>\n",
       "</table>\n",
       "</div>"
      ],
      "text/plain": [
       "   ID  shop_id  item_id\n",
       "0   0        5     5037\n",
       "1   1        5     5320\n",
       "2   2        5     5233\n",
       "3   3        5     5232\n",
       "4   4        5     5268"
      ]
     },
     "execution_count": 9,
     "metadata": {},
     "output_type": "execute_result"
    }
   ],
   "source": [
    "print(df_test.shape)\n",
    "df_test.head()"
   ]
  },
  {
   "cell_type": "markdown",
   "metadata": {
    "collapsed": "true",
    "heading_collapsed": true
   },
   "source": [
    "## EDA"
   ]
  },
  {
   "cell_type": "markdown",
   "metadata": {
    "heading_collapsed": true,
    "hidden": true
   },
   "source": [
    "### df_items\n"
   ]
  },
  {
   "cell_type": "code",
   "execution_count": 10,
   "metadata": {
    "ExecuteTime": {
     "end_time": "2020-11-13T16:24:07.929956Z",
     "start_time": "2020-11-13T16:24:07.770491Z"
    },
    "hidden": true
   },
   "outputs": [
    {
     "data": {
      "text/plain": [
       "<AxesSubplot:>"
      ]
     },
     "execution_count": 10,
     "metadata": {},
     "output_type": "execute_result"
    },
    {
     "data": {
      "image/png": "[encoded data removed]",
      "text/plain": [
       "<Figure size 432x288 with 1 Axes>"
      ]
     },
     "metadata": {
      "needs_background": "light"
     },
     "output_type": "display_data"
    }
   ],
   "source": [
    "df_items['item_category_id'].hist()"
   ]
  },
  {
   "cell_type": "code",
   "execution_count": 11,
   "metadata": {
    "ExecuteTime": {
     "end_time": "2020-11-13T16:24:07.937912Z",
     "start_time": "2020-11-13T16:24:07.931939Z"
    },
    "hidden": true,
    "scrolled": true
   },
   "outputs": [
    {
     "data": {
      "text/plain": [
       "0             ! ВО ВЛАСТИ НАВАЖДЕНИЯ (ПЛАСТ.)         D\n",
       "1     !ABBYY FineReader 12 Professional Edition Full...\n",
       "2         ***В ЛУЧАХ СЛАВЫ   (UNV)                    D\n",
       "3       ***ГОЛУБАЯ ВОЛНА  (Univ)                      D\n",
       "4           ***КОРОБКА (СТЕКЛО)                       D\n",
       "5     ***НОВЫЕ АМЕРИКАНСКИЕ ГРАФФИТИ  (UNI)         ...\n",
       "6              ***УДАР ПО ВОРОТАМ (UNI)               D\n",
       "7            ***УДАР ПО ВОРОТАМ-2 (UNI)               D\n",
       "8              ***ЧАЙ С МУССОЛИНИ                     D\n",
       "9         ***ШУГАРЛЭНДСКИЙ ЭКСПРЕСС (UNI)             D\n",
       "10            *ЗА ГРАНЬЮ СМЕРТИ                       D\n",
       "11            *ЛИНИЯ СМЕРТИ                           D\n",
       "12                      *МИХЕЙ И ДЖУМАНДЖИ  Сука любовь\n",
       "13            *СПАСАЯ ЭМИЛИ                           D\n",
       "14            *ЧОКНУТЫЙ ПРОФЕССОР /МАГИЯ/             D\n",
       "15               //АДРЕНАЛИН: ОДИН ПРОТИВ ВСЕХ (Регион)\n",
       "16                           //МОНГОЛ С.Бодров (Регион)\n",
       "17                      //НЕ ОСТАВЛЯЮЩИЙ СЛЕДА (Регион)\n",
       "18            /БОМБА ДЛЯ НЕВЕСТЫ /2DVD/               D\n",
       "19                            /ЗОЛОТАЯ КОЛЛЕКЦИЯ м/ф-72\n",
       "20                                   /ОДНАЖДЫ В КИТАЕ-2\n",
       "21                                      /ПОСЛЕДНИЙ ШАНС\n",
       "22                                 /ПРОКЛЯТЬЕ ЭЛЬ ЧАРРО\n",
       "23                                    /СЕВЕР И ЮГ /Ч.2/\n",
       "24                                 /СМЕРТЕЛЬНЫЙ РАСКЛАД\n",
       "25                                          /ТЫ  - ТРУП\n",
       "26                     /УМНОЖАЮЩИЙ ПЕЧАЛЬ т.2 (сер.3-4)\n",
       "27                    007 Legends [PS3, русская версия]\n",
       "28              007 Legends [PС, Jewel, русская версия]\n",
       "29               007 Legends [Xbox 360, русская версия]\n",
       "30                           007: КООРДИНАТЫ «СКАЙФОЛЛ»\n",
       "31                      007: КООРДИНАТЫ «СКАЙФОЛЛ» (BD)\n",
       "32                                                  1+1\n",
       "33                                             1+1 (BD)\n",
       "34                  10 000 ЛЕТ ДО НАШЕЙ ЭРЫ WB (регион)\n",
       "35                                        10 ЛЕТ СПУСТЯ\n",
       "36                                   10 ЛЕТ СПУСТЯ (BD)\n",
       "37                               10 ЛЕТ СПУСТЯ (регион)\n",
       "38    10 САМЫХ ПОПУЛЯРНЫХ КИНОКОМЕДИЙ ХХ ВЕКА  10DVD...\n",
       "39    10 САМЫХ ПОПУЛЯРНЫХ ОТЕЧЕСТВЕННЫХ КОМЕДИЙ ХХ В...\n",
       "40      100 Best classical melodies (mp3-CD) (Digipack)\n",
       "41       100 Best relax melodies (mp3-CD) (CD-Digipack)\n",
       "42       100 Best romantic melodies (mp3-CD) (Digipack)\n",
       "43                                   100 МИЛЛИОНОВ ЕВРО\n",
       "44    100 лучших мелодий против стресса (mp3-CD) (CD...\n",
       "45     100 лучших народных песен (mp3-CD) (CD-Digipack)\n",
       "46     100 лучших произведений Баха (mp3-CD) (Digipack)\n",
       "47    100 лучших произведений Бетховена (mp3-CD) (Di...\n",
       "48    100 лучших произведений Вивальди (mp3-CD) (CD-...\n",
       "49    100 лучших произведений Моцарта (mp3-CD) (Digi...\n",
       "Name: item_name, dtype: object"
      ]
     },
     "execution_count": 11,
     "metadata": {},
     "output_type": "execute_result"
    }
   ],
   "source": [
    "# Find words like mp3-cd as they are common\n",
    "df_items['item_name'][:50]"
   ]
  },
  {
   "cell_type": "code",
   "execution_count": 12,
   "metadata": {
    "ExecuteTime": {
     "end_time": "2020-11-13T16:24:07.951745Z",
     "start_time": "2020-11-13T16:24:07.940890Z"
    },
    "hidden": true
   },
   "outputs": [
    {
     "data": {
      "text/plain": [
       "item_name           0\n",
       "item_id             0\n",
       "item_category_id    0\n",
       "dtype: int64"
      ]
     },
     "execution_count": 12,
     "metadata": {},
     "output_type": "execute_result"
    }
   ],
   "source": [
    "df_items.isnull().sum(axis=0)"
   ]
  },
  {
   "cell_type": "markdown",
   "metadata": {
    "hidden": true
   },
   "source": [
    "### df_item_categories"
   ]
  },
  {
   "cell_type": "code",
   "execution_count": 13,
   "metadata": {
    "ExecuteTime": {
     "end_time": "2020-11-13T16:24:07.961301Z",
     "start_time": "2020-11-13T16:24:07.953418Z"
    },
    "hidden": true
   },
   "outputs": [
    {
     "data": {
      "text/html": [
       "<div>\n",
       "<style scoped>\n",
       "    .dataframe tbody tr th:only-of-type {\n",
       "        vertical-align: middle;\n",
       "    }\n",
       "\n",
       "    .dataframe tbody tr th {\n",
       "        vertical-align: top;\n",
       "    }\n",
       "\n",
       "    .dataframe thead th {\n",
       "        text-align: right;\n",
       "    }\n",
       "</style>\n",
       "<table border=\"1\" class=\"dataframe\">\n",
       "  <thead>\n",
       "    <tr style=\"text-align: right;\">\n",
       "      <th></th>\n",
       "      <th>item_category_name</th>\n",
       "      <th>item_category_id</th>\n",
       "    </tr>\n",
       "  </thead>\n",
       "  <tbody>\n",
       "    <tr>\n",
       "      <th>0</th>\n",
       "      <td>PC - Гарнитуры/Наушники</td>\n",
       "      <td>0</td>\n",
       "    </tr>\n",
       "    <tr>\n",
       "      <th>1</th>\n",
       "      <td>Аксессуары - PS2</td>\n",
       "      <td>1</td>\n",
       "    </tr>\n",
       "    <tr>\n",
       "      <th>2</th>\n",
       "      <td>Аксессуары - PS3</td>\n",
       "      <td>2</td>\n",
       "    </tr>\n",
       "    <tr>\n",
       "      <th>3</th>\n",
       "      <td>Аксессуары - PS4</td>\n",
       "      <td>3</td>\n",
       "    </tr>\n",
       "    <tr>\n",
       "      <th>4</th>\n",
       "      <td>Аксессуары - PSP</td>\n",
       "      <td>4</td>\n",
       "    </tr>\n",
       "  </tbody>\n",
       "</table>\n",
       "</div>"
      ],
      "text/plain": [
       "        item_category_name  item_category_id\n",
       "0  PC - Гарнитуры/Наушники                 0\n",
       "1         Аксессуары - PS2                 1\n",
       "2         Аксессуары - PS3                 2\n",
       "3         Аксессуары - PS4                 3\n",
       "4         Аксессуары - PSP                 4"
      ]
     },
     "execution_count": 13,
     "metadata": {},
     "output_type": "execute_result"
    }
   ],
   "source": [
    "# Find words like PS2, PS3, PS4, PSP etc as they are common\n",
    "df_item_categories.head()"
   ]
  },
  {
   "cell_type": "code",
   "execution_count": 14,
   "metadata": {
    "ExecuteTime": {
     "end_time": "2020-11-13T16:24:07.969789Z",
     "start_time": "2020-11-13T16:24:07.963161Z"
    },
    "hidden": true
   },
   "outputs": [
    {
     "data": {
      "text/plain": [
       "item_category_name    0\n",
       "item_category_id      0\n",
       "dtype: int64"
      ]
     },
     "execution_count": 14,
     "metadata": {},
     "output_type": "execute_result"
    }
   ],
   "source": [
    "df_item_categories.isnull().sum(axis=0)"
   ]
  },
  {
   "cell_type": "markdown",
   "metadata": {
    "heading_collapsed": true,
    "hidden": true
   },
   "source": [
    "### df_sales"
   ]
  },
  {
   "cell_type": "code",
   "execution_count": 15,
   "metadata": {
    "ExecuteTime": {
     "end_time": "2020-11-13T16:24:07.984271Z",
     "start_time": "2020-11-13T16:24:07.972543Z"
    },
    "hidden": true
   },
   "outputs": [
    {
     "data": {
      "text/html": [
       "<div>\n",
       "<style scoped>\n",
       "    .dataframe tbody tr th:only-of-type {\n",
       "        vertical-align: middle;\n",
       "    }\n",
       "\n",
       "    .dataframe tbody tr th {\n",
       "        vertical-align: top;\n",
       "    }\n",
       "\n",
       "    .dataframe thead th {\n",
       "        text-align: right;\n",
       "    }\n",
       "</style>\n",
       "<table border=\"1\" class=\"dataframe\">\n",
       "  <thead>\n",
       "    <tr style=\"text-align: right;\">\n",
       "      <th></th>\n",
       "      <th>date</th>\n",
       "      <th>date_block_num</th>\n",
       "      <th>shop_id</th>\n",
       "      <th>item_id</th>\n",
       "      <th>item_price</th>\n",
       "      <th>item_cnt_day</th>\n",
       "    </tr>\n",
       "  </thead>\n",
       "  <tbody>\n",
       "    <tr>\n",
       "      <th>0</th>\n",
       "      <td>02.01.2013</td>\n",
       "      <td>0</td>\n",
       "      <td>59</td>\n",
       "      <td>22154</td>\n",
       "      <td>999.00</td>\n",
       "      <td>1.0</td>\n",
       "    </tr>\n",
       "    <tr>\n",
       "      <th>1</th>\n",
       "      <td>03.01.2013</td>\n",
       "      <td>0</td>\n",
       "      <td>25</td>\n",
       "      <td>2552</td>\n",
       "      <td>899.00</td>\n",
       "      <td>1.0</td>\n",
       "    </tr>\n",
       "    <tr>\n",
       "      <th>2</th>\n",
       "      <td>05.01.2013</td>\n",
       "      <td>0</td>\n",
       "      <td>25</td>\n",
       "      <td>2552</td>\n",
       "      <td>899.00</td>\n",
       "      <td>-1.0</td>\n",
       "    </tr>\n",
       "    <tr>\n",
       "      <th>3</th>\n",
       "      <td>06.01.2013</td>\n",
       "      <td>0</td>\n",
       "      <td>25</td>\n",
       "      <td>2554</td>\n",
       "      <td>1709.05</td>\n",
       "      <td>1.0</td>\n",
       "    </tr>\n",
       "    <tr>\n",
       "      <th>4</th>\n",
       "      <td>15.01.2013</td>\n",
       "      <td>0</td>\n",
       "      <td>25</td>\n",
       "      <td>2555</td>\n",
       "      <td>1099.00</td>\n",
       "      <td>1.0</td>\n",
       "    </tr>\n",
       "  </tbody>\n",
       "</table>\n",
       "</div>"
      ],
      "text/plain": [
       "         date  date_block_num  shop_id  item_id  item_price  item_cnt_day\n",
       "0  02.01.2013               0       59    22154      999.00           1.0\n",
       "1  03.01.2013               0       25     2552      899.00           1.0\n",
       "2  05.01.2013               0       25     2552      899.00          -1.0\n",
       "3  06.01.2013               0       25     2554     1709.05           1.0\n",
       "4  15.01.2013               0       25     2555     1099.00           1.0"
      ]
     },
     "execution_count": 15,
     "metadata": {},
     "output_type": "execute_result"
    }
   ],
   "source": [
    "df_sales.head()"
   ]
  },
  {
   "cell_type": "code",
   "execution_count": 16,
   "metadata": {
    "ExecuteTime": {
     "end_time": "2020-11-13T16:24:08.111316Z",
     "start_time": "2020-11-13T16:24:07.985854Z"
    },
    "hidden": true
   },
   "outputs": [
    {
     "data": {
      "text/plain": [
       "date              0\n",
       "date_block_num    0\n",
       "shop_id           0\n",
       "item_id           0\n",
       "item_price        0\n",
       "item_cnt_day      0\n",
       "dtype: int64"
      ]
     },
     "execution_count": 16,
     "metadata": {},
     "output_type": "execute_result"
    }
   ],
   "source": [
    "df_sales.isnull().sum(axis=0)"
   ]
  },
  {
   "cell_type": "code",
   "execution_count": 17,
   "metadata": {
    "ExecuteTime": {
     "end_time": "2020-11-13T16:24:08.784965Z",
     "start_time": "2020-11-13T16:24:08.113917Z"
    },
    "hidden": true
   },
   "outputs": [
    {
     "data": {
      "text/plain": [
       "(array([2.93581e+06, 2.40000e+01, 1.10000e+01, 2.00000e+00, 1.00000e+00,\n",
       "        0.00000e+00, 0.00000e+00, 0.00000e+00, 0.00000e+00, 1.00000e+00]),\n",
       " array([ -22. ,  197.1,  416.2,  635.3,  854.4, 1073.5, 1292.6, 1511.7,\n",
       "        1730.8, 1949.9, 2169. ]),\n",
       " <BarContainer object of 10 artists>)"
      ]
     },
     "execution_count": 17,
     "metadata": {},
     "output_type": "execute_result"
    },
    {
     "data": {
      "image/png": "[encoded data removed]",
      "text/plain": [
       "<Figure size 432x288 with 1 Axes>"
      ]
     },
     "metadata": {
      "needs_background": "light"
     },
     "output_type": "display_data"
    }
   ],
   "source": [
    "plt.hist(df_sales['item_cnt_day'], log=True) "
   ]
  },
  {
   "cell_type": "code",
   "execution_count": 18,
   "metadata": {
    "ExecuteTime": {
     "end_time": "2020-11-13T16:24:09.335018Z",
     "start_time": "2020-11-13T16:24:08.788291Z"
    },
    "hidden": true
   },
   "outputs": [
    {
     "data": {
      "text/plain": [
       "(array([2.935632e+06, 2.160000e+02, 0.000000e+00, 0.000000e+00,\n",
       "        0.000000e+00, 0.000000e+00, 0.000000e+00, 0.000000e+00,\n",
       "        0.000000e+00, 1.000000e+00]),\n",
       " array([-1.000000e+00,  3.079710e+04,  6.159520e+04,  9.239330e+04,\n",
       "         1.231914e+05,  1.539895e+05,  1.847876e+05,  2.155857e+05,\n",
       "         2.463838e+05,  2.771819e+05,  3.079800e+05]),\n",
       " <BarContainer object of 10 artists>)"
      ]
     },
     "execution_count": 18,
     "metadata": {},
     "output_type": "execute_result"
    },
    {
     "data": {
      "image/png": "[encoded data removed]",
      "text/plain": [
       "<Figure size 432x288 with 1 Axes>"
      ]
     },
     "metadata": {
      "needs_background": "light"
     },
     "output_type": "display_data"
    }
   ],
   "source": [
    "plt.hist(df_sales['item_price'], log=True) "
   ]
  },
  {
   "cell_type": "code",
   "execution_count": 19,
   "metadata": {
    "ExecuteTime": {
     "end_time": "2020-11-13T16:24:09.602321Z",
     "start_time": "2020-11-13T16:24:09.337301Z"
    },
    "hidden": true
   },
   "outputs": [
    {
     "data": {
      "text/plain": [
       "(array([252097., 478228., 405580., 302591., 215212., 233462., 297932.,\n",
       "        274550., 239603., 236594.]),\n",
       " array([    0. ,  2216.9,  4433.8,  6650.7,  8867.6, 11084.5, 13301.4,\n",
       "        15518.3, 17735.2, 19952.1, 22169. ]),\n",
       " <BarContainer object of 10 artists>)"
      ]
     },
     "execution_count": 19,
     "metadata": {},
     "output_type": "execute_result"
    },
    {
     "data": {
      "image/png": "[encoded data removed]",
      "text/plain": [
       "<Figure size 432x288 with 1 Axes>"
      ]
     },
     "metadata": {
      "needs_background": "light"
     },
     "output_type": "display_data"
    }
   ],
   "source": [
    "plt.hist(df_sales['item_id'], log=True) "
   ]
  },
  {
   "cell_type": "code",
   "execution_count": 20,
   "metadata": {
    "ExecuteTime": {
     "end_time": "2020-11-13T16:24:09.990715Z",
     "start_time": "2020-11-13T16:24:09.604290Z"
    },
    "hidden": true
   },
   "outputs": [
    {
     "data": {
      "text/plain": [
       "(array([143479., 169798., 224692., 229460., 589871., 363667., 145621.,\n",
       "        346972., 243490., 478799.]),\n",
       " array([ 0. ,  5.9, 11.8, 17.7, 23.6, 29.5, 35.4, 41.3, 47.2, 53.1, 59. ]),\n",
       " <BarContainer object of 10 artists>)"
      ]
     },
     "execution_count": 20,
     "metadata": {},
     "output_type": "execute_result"
    },
    {
     "data": {
      "image/png": "[encoded data removed]",
      "text/plain": [
       "<Figure size 432x288 with 1 Axes>"
      ]
     },
     "metadata": {
      "needs_background": "light"
     },
     "output_type": "display_data"
    }
   ],
   "source": [
    "plt.hist(df_sales['shop_id'], log=True) "
   ]
  },
  {
   "cell_type": "code",
   "execution_count": 21,
   "metadata": {
    "ExecuteTime": {
     "end_time": "2020-11-13T16:24:10.275355Z",
     "start_time": "2020-11-13T16:24:09.993530Z"
    },
    "hidden": true
   },
   "outputs": [
    {
     "data": {
      "text/plain": [
       "(array([439759., 292710., 295111., 429161., 249168., 247782., 369732.,\n",
       "        230307., 165439., 216680.]),\n",
       " array([ 0. ,  3.3,  6.6,  9.9, 13.2, 16.5, 19.8, 23.1, 26.4, 29.7, 33. ]),\n",
       " <BarContainer object of 10 artists>)"
      ]
     },
     "execution_count": 21,
     "metadata": {},
     "output_type": "execute_result"
    },
    {
     "data": {
      "image/png": "[encoded data removed]",
      "text/plain": [
       "<Figure size 432x288 with 1 Axes>"
      ]
     },
     "metadata": {
      "needs_background": "light"
     },
     "output_type": "display_data"
    }
   ],
   "source": [
    "plt.hist(df_sales['date_block_num'], log=True) "
   ]
  },
  {
   "cell_type": "code",
   "execution_count": 22,
   "metadata": {
    "ExecuteTime": {
     "end_time": "2020-11-13T16:25:56.303407Z",
     "start_time": "2020-11-13T16:24:10.279363Z"
    },
    "hidden": true
   },
   "outputs": [
    {
     "data": {
      "text/plain": [
       "array([[<AxesSubplot:xlabel='shop_id', ylabel='shop_id'>,\n",
       "        <AxesSubplot:xlabel='item_id', ylabel='shop_id'>,\n",
       "        <AxesSubplot:xlabel='item_price', ylabel='shop_id'>,\n",
       "        <AxesSubplot:xlabel='item_cnt_day', ylabel='shop_id'>],\n",
       "       [<AxesSubplot:xlabel='shop_id', ylabel='item_id'>,\n",
       "        <AxesSubplot:xlabel='item_id', ylabel='item_id'>,\n",
       "        <AxesSubplot:xlabel='item_price', ylabel='item_id'>,\n",
       "        <AxesSubplot:xlabel='item_cnt_day', ylabel='item_id'>],\n",
       "       [<AxesSubplot:xlabel='shop_id', ylabel='item_price'>,\n",
       "        <AxesSubplot:xlabel='item_id', ylabel='item_price'>,\n",
       "        <AxesSubplot:xlabel='item_price', ylabel='item_price'>,\n",
       "        <AxesSubplot:xlabel='item_cnt_day', ylabel='item_price'>],\n",
       "       [<AxesSubplot:xlabel='shop_id', ylabel='item_cnt_day'>,\n",
       "        <AxesSubplot:xlabel='item_id', ylabel='item_cnt_day'>,\n",
       "        <AxesSubplot:xlabel='item_price', ylabel='item_cnt_day'>,\n",
       "        <AxesSubplot:xlabel='item_cnt_day', ylabel='item_cnt_day'>]],\n",
       "      dtype=object)"
      ]
     },
     "execution_count": 22,
     "metadata": {},
     "output_type": "execute_result"
    },
    {
     "data": {
      "image/png": "[encoded data removed]",
      "text/plain": [
       "<Figure size 432x288 with 16 Axes>"
      ]
     },
     "metadata": {
      "needs_background": "light"
     },
     "output_type": "display_data"
    }
   ],
   "source": [
    "pd.plotting.scatter_matrix(df_sales[['shop_id', 'item_id', 'item_price', 'item_cnt_day']])"
   ]
  },
  {
   "cell_type": "code",
   "execution_count": 23,
   "metadata": {
    "ExecuteTime": {
     "end_time": "2020-11-13T16:25:56.361907Z",
     "start_time": "2020-11-13T16:25:56.306110Z"
    },
    "hidden": true
   },
   "outputs": [
    {
     "data": {
      "text/html": [
       "<div>\n",
       "<style scoped>\n",
       "    .dataframe tbody tr th:only-of-type {\n",
       "        vertical-align: middle;\n",
       "    }\n",
       "\n",
       "    .dataframe tbody tr th {\n",
       "        vertical-align: top;\n",
       "    }\n",
       "\n",
       "    .dataframe thead th {\n",
       "        text-align: right;\n",
       "    }\n",
       "</style>\n",
       "<table border=\"1\" class=\"dataframe\">\n",
       "  <thead>\n",
       "    <tr style=\"text-align: right;\">\n",
       "      <th></th>\n",
       "      <th>item_price</th>\n",
       "      <th>item_cnt_day</th>\n",
       "    </tr>\n",
       "  </thead>\n",
       "  <tbody>\n",
       "    <tr>\n",
       "      <th>item_price</th>\n",
       "      <td>1.000000</td>\n",
       "      <td>0.011197</td>\n",
       "    </tr>\n",
       "    <tr>\n",
       "      <th>item_cnt_day</th>\n",
       "      <td>0.011197</td>\n",
       "      <td>1.000000</td>\n",
       "    </tr>\n",
       "  </tbody>\n",
       "</table>\n",
       "</div>"
      ],
      "text/plain": [
       "              item_price  item_cnt_day\n",
       "item_price      1.000000      0.011197\n",
       "item_cnt_day    0.011197      1.000000"
      ]
     },
     "execution_count": 23,
     "metadata": {},
     "output_type": "execute_result"
    }
   ],
   "source": [
    "df_sales[['item_price', 'item_cnt_day']].corr()"
   ]
  },
  {
   "cell_type": "code",
   "execution_count": 24,
   "metadata": {
    "ExecuteTime": {
     "end_time": "2020-11-13T16:25:56.691615Z",
     "start_time": "2020-11-13T16:25:56.366196Z"
    },
    "hidden": true
   },
   "outputs": [
    {
     "data": {
      "image/png": "[encoded data removed]",
      "text/plain": [
       "<Figure size 288x288 with 1 Axes>"
      ]
     },
     "metadata": {
      "needs_background": "light"
     },
     "output_type": "display_data"
    }
   ],
   "source": [
    "plt.matshow(df_sales.corr())\n",
    "plt.show()"
   ]
  },
  {
   "cell_type": "code",
   "execution_count": 25,
   "metadata": {
    "ExecuteTime": {
     "end_time": "2020-11-13T16:25:56.889651Z",
     "start_time": "2020-11-13T16:25:56.693599Z"
    },
    "hidden": true
   },
   "outputs": [
    {
     "data": {
      "text/html": [
       "<div>\n",
       "<style scoped>\n",
       "    .dataframe tbody tr th:only-of-type {\n",
       "        vertical-align: middle;\n",
       "    }\n",
       "\n",
       "    .dataframe tbody tr th {\n",
       "        vertical-align: top;\n",
       "    }\n",
       "\n",
       "    .dataframe thead th {\n",
       "        text-align: right;\n",
       "    }\n",
       "</style>\n",
       "<table border=\"1\" class=\"dataframe\">\n",
       "  <thead>\n",
       "    <tr style=\"text-align: right;\">\n",
       "      <th></th>\n",
       "      <th>date_block_num</th>\n",
       "      <th>shop_id</th>\n",
       "      <th>item_id</th>\n",
       "      <th>item_price</th>\n",
       "      <th>item_cnt_day</th>\n",
       "    </tr>\n",
       "  </thead>\n",
       "  <tbody>\n",
       "    <tr>\n",
       "      <th>date_block_num</th>\n",
       "      <td>1.000000</td>\n",
       "      <td>0.019273</td>\n",
       "      <td>0.009356</td>\n",
       "      <td>0.095010</td>\n",
       "      <td>0.009402</td>\n",
       "    </tr>\n",
       "    <tr>\n",
       "      <th>shop_id</th>\n",
       "      <td>0.019273</td>\n",
       "      <td>1.000000</td>\n",
       "      <td>0.029396</td>\n",
       "      <td>-0.024034</td>\n",
       "      <td>-0.005230</td>\n",
       "    </tr>\n",
       "    <tr>\n",
       "      <th>item_id</th>\n",
       "      <td>0.009356</td>\n",
       "      <td>0.029396</td>\n",
       "      <td>1.000000</td>\n",
       "      <td>-0.134104</td>\n",
       "      <td>0.016650</td>\n",
       "    </tr>\n",
       "    <tr>\n",
       "      <th>item_price</th>\n",
       "      <td>0.095010</td>\n",
       "      <td>-0.024034</td>\n",
       "      <td>-0.134104</td>\n",
       "      <td>1.000000</td>\n",
       "      <td>0.011197</td>\n",
       "    </tr>\n",
       "    <tr>\n",
       "      <th>item_cnt_day</th>\n",
       "      <td>0.009402</td>\n",
       "      <td>-0.005230</td>\n",
       "      <td>0.016650</td>\n",
       "      <td>0.011197</td>\n",
       "      <td>1.000000</td>\n",
       "    </tr>\n",
       "  </tbody>\n",
       "</table>\n",
       "</div>"
      ],
      "text/plain": [
       "                date_block_num   shop_id   item_id  item_price  item_cnt_day\n",
       "date_block_num        1.000000  0.019273  0.009356    0.095010      0.009402\n",
       "shop_id               0.019273  1.000000  0.029396   -0.024034     -0.005230\n",
       "item_id               0.009356  0.029396  1.000000   -0.134104      0.016650\n",
       "item_price            0.095010 -0.024034 -0.134104    1.000000      0.011197\n",
       "item_cnt_day          0.009402 -0.005230  0.016650    0.011197      1.000000"
      ]
     },
     "execution_count": 25,
     "metadata": {},
     "output_type": "execute_result"
    }
   ],
   "source": [
    "df_sales.corr()"
   ]
  },
  {
   "cell_type": "markdown",
   "metadata": {
    "hidden": true
   },
   "source": [
    "### df_test"
   ]
  },
  {
   "cell_type": "code",
   "execution_count": 26,
   "metadata": {
    "ExecuteTime": {
     "end_time": "2020-11-13T16:25:56.908025Z",
     "start_time": "2020-11-13T16:25:56.893452Z"
    },
    "hidden": true
   },
   "outputs": [
    {
     "data": {
      "text/html": [
       "<div>\n",
       "<style scoped>\n",
       "    .dataframe tbody tr th:only-of-type {\n",
       "        vertical-align: middle;\n",
       "    }\n",
       "\n",
       "    .dataframe tbody tr th {\n",
       "        vertical-align: top;\n",
       "    }\n",
       "\n",
       "    .dataframe thead th {\n",
       "        text-align: right;\n",
       "    }\n",
       "</style>\n",
       "<table border=\"1\" class=\"dataframe\">\n",
       "  <thead>\n",
       "    <tr style=\"text-align: right;\">\n",
       "      <th></th>\n",
       "      <th>ID</th>\n",
       "      <th>shop_id</th>\n",
       "      <th>item_id</th>\n",
       "    </tr>\n",
       "  </thead>\n",
       "  <tbody>\n",
       "    <tr>\n",
       "      <th>0</th>\n",
       "      <td>0</td>\n",
       "      <td>5</td>\n",
       "      <td>5037</td>\n",
       "    </tr>\n",
       "    <tr>\n",
       "      <th>1</th>\n",
       "      <td>1</td>\n",
       "      <td>5</td>\n",
       "      <td>5320</td>\n",
       "    </tr>\n",
       "    <tr>\n",
       "      <th>2</th>\n",
       "      <td>2</td>\n",
       "      <td>5</td>\n",
       "      <td>5233</td>\n",
       "    </tr>\n",
       "    <tr>\n",
       "      <th>3</th>\n",
       "      <td>3</td>\n",
       "      <td>5</td>\n",
       "      <td>5232</td>\n",
       "    </tr>\n",
       "    <tr>\n",
       "      <th>4</th>\n",
       "      <td>4</td>\n",
       "      <td>5</td>\n",
       "      <td>5268</td>\n",
       "    </tr>\n",
       "  </tbody>\n",
       "</table>\n",
       "</div>"
      ],
      "text/plain": [
       "   ID  shop_id  item_id\n",
       "0   0        5     5037\n",
       "1   1        5     5320\n",
       "2   2        5     5233\n",
       "3   3        5     5232\n",
       "4   4        5     5268"
      ]
     },
     "execution_count": 26,
     "metadata": {},
     "output_type": "execute_result"
    }
   ],
   "source": [
    "df_test.head()"
   ]
  },
  {
   "cell_type": "markdown",
   "metadata": {
    "collapsed": "true"
   },
   "source": [
    "## Final project advice 2 feature generation"
   ]
  },
  {
   "cell_type": "code",
   "execution_count": 27,
   "metadata": {
    "ExecuteTime": {
     "end_time": "2020-11-10T16:16:28.492578Z",
     "start_time": "2020-11-10T16:16:28.480837Z"
    }
   },
   "outputs": [
    {
     "data": {
      "text/html": [
       "<div>\n",
       "<style scoped>\n",
       "    .dataframe tbody tr th:only-of-type {\n",
       "        vertical-align: middle;\n",
       "    }\n",
       "\n",
       "    .dataframe tbody tr th {\n",
       "        vertical-align: top;\n",
       "    }\n",
       "\n",
       "    .dataframe thead th {\n",
       "        text-align: right;\n",
       "    }\n",
       "</style>\n",
       "<table border=\"1\" class=\"dataframe\">\n",
       "  <thead>\n",
       "    <tr style=\"text-align: right;\">\n",
       "      <th></th>\n",
       "      <th>date</th>\n",
       "      <th>date_block_num</th>\n",
       "      <th>shop_id</th>\n",
       "      <th>item_id</th>\n",
       "      <th>item_price</th>\n",
       "      <th>item_cnt_day</th>\n",
       "    </tr>\n",
       "  </thead>\n",
       "  <tbody>\n",
       "    <tr>\n",
       "      <th>0</th>\n",
       "      <td>02.01.2013</td>\n",
       "      <td>0</td>\n",
       "      <td>59</td>\n",
       "      <td>22154</td>\n",
       "      <td>999.00</td>\n",
       "      <td>1.0</td>\n",
       "    </tr>\n",
       "    <tr>\n",
       "      <th>1</th>\n",
       "      <td>03.01.2013</td>\n",
       "      <td>0</td>\n",
       "      <td>25</td>\n",
       "      <td>2552</td>\n",
       "      <td>899.00</td>\n",
       "      <td>1.0</td>\n",
       "    </tr>\n",
       "    <tr>\n",
       "      <th>2</th>\n",
       "      <td>05.01.2013</td>\n",
       "      <td>0</td>\n",
       "      <td>25</td>\n",
       "      <td>2552</td>\n",
       "      <td>899.00</td>\n",
       "      <td>-1.0</td>\n",
       "    </tr>\n",
       "    <tr>\n",
       "      <th>3</th>\n",
       "      <td>06.01.2013</td>\n",
       "      <td>0</td>\n",
       "      <td>25</td>\n",
       "      <td>2554</td>\n",
       "      <td>1709.05</td>\n",
       "      <td>1.0</td>\n",
       "    </tr>\n",
       "    <tr>\n",
       "      <th>4</th>\n",
       "      <td>15.01.2013</td>\n",
       "      <td>0</td>\n",
       "      <td>25</td>\n",
       "      <td>2555</td>\n",
       "      <td>1099.00</td>\n",
       "      <td>1.0</td>\n",
       "    </tr>\n",
       "  </tbody>\n",
       "</table>\n",
       "</div>"
      ],
      "text/plain": [
       "         date  date_block_num  shop_id  item_id  item_price  item_cnt_day\n",
       "0  02.01.2013               0       59    22154      999.00           1.0\n",
       "1  03.01.2013               0       25     2552      899.00           1.0\n",
       "2  05.01.2013               0       25     2552      899.00          -1.0\n",
       "3  06.01.2013               0       25     2554     1709.05           1.0\n",
       "4  15.01.2013               0       25     2555     1099.00           1.0"
      ]
     },
     "execution_count": 27,
     "metadata": {},
     "output_type": "execute_result"
    }
   ],
   "source": [
    "df_sales.head()"
   ]
  },
  {
   "cell_type": "code",
   "execution_count": 28,
   "metadata": {
    "ExecuteTime": {
     "end_time": "2020-11-10T16:16:28.791651Z",
     "start_time": "2020-11-10T16:16:28.495619Z"
    }
   },
   "outputs": [],
   "source": [
    "df_sales['datetimestamp'] = pd.to_datetime(df_sales['date'], format='%d.%m.%Y', infer_datetime_format=True)  "
   ]
  },
  {
   "cell_type": "code",
   "execution_count": 30,
   "metadata": {
    "ExecuteTime": {
     "end_time": "2020-11-10T16:16:29.211664Z",
     "start_time": "2020-11-10T16:16:28.794965Z"
    }
   },
   "outputs": [],
   "source": [
    "df_temp = df_sales[(df_sales['datetimestamp'].dt.year == 2015) & \\\n",
    "               (df_sales['datetimestamp'].dt.month == 10)]\n",
    "df_group = df_temp[['shop_id', 'item_id', 'item_cnt_day']].groupby(['shop_id', 'item_id']).sum()"
   ]
  },
  {
   "cell_type": "code",
   "execution_count": 31,
   "metadata": {
    "ExecuteTime": {
     "end_time": "2020-11-10T16:16:29.285415Z",
     "start_time": "2020-11-10T16:16:29.213649Z"
    }
   },
   "outputs": [],
   "source": [
    "shop_id = [x[0] for x in df_group.index.values]\n",
    "item_id = [x[1] for x in df_group.index.values]\n",
    "pred = np.clip(df_group.values.flatten(), 0, 20)"
   ]
  },
  {
   "cell_type": "code",
   "execution_count": 32,
   "metadata": {
    "ExecuteTime": {
     "end_time": "2020-11-10T16:16:29.298679Z",
     "start_time": "2020-11-10T16:16:29.287621Z"
    }
   },
   "outputs": [
    {
     "data": {
      "text/html": [
       "<div>\n",
       "<style scoped>\n",
       "    .dataframe tbody tr th:only-of-type {\n",
       "        vertical-align: middle;\n",
       "    }\n",
       "\n",
       "    .dataframe tbody tr th {\n",
       "        vertical-align: top;\n",
       "    }\n",
       "\n",
       "    .dataframe thead th {\n",
       "        text-align: right;\n",
       "    }\n",
       "</style>\n",
       "<table border=\"1\" class=\"dataframe\">\n",
       "  <thead>\n",
       "    <tr style=\"text-align: right;\">\n",
       "      <th></th>\n",
       "      <th>ID</th>\n",
       "      <th>shop_id</th>\n",
       "      <th>item_id</th>\n",
       "    </tr>\n",
       "  </thead>\n",
       "  <tbody>\n",
       "    <tr>\n",
       "      <th>0</th>\n",
       "      <td>0</td>\n",
       "      <td>5</td>\n",
       "      <td>5037</td>\n",
       "    </tr>\n",
       "    <tr>\n",
       "      <th>1</th>\n",
       "      <td>1</td>\n",
       "      <td>5</td>\n",
       "      <td>5320</td>\n",
       "    </tr>\n",
       "    <tr>\n",
       "      <th>2</th>\n",
       "      <td>2</td>\n",
       "      <td>5</td>\n",
       "      <td>5233</td>\n",
       "    </tr>\n",
       "    <tr>\n",
       "      <th>3</th>\n",
       "      <td>3</td>\n",
       "      <td>5</td>\n",
       "      <td>5232</td>\n",
       "    </tr>\n",
       "    <tr>\n",
       "      <th>4</th>\n",
       "      <td>4</td>\n",
       "      <td>5</td>\n",
       "      <td>5268</td>\n",
       "    </tr>\n",
       "  </tbody>\n",
       "</table>\n",
       "</div>"
      ],
      "text/plain": [
       "   ID  shop_id  item_id\n",
       "0   0        5     5037\n",
       "1   1        5     5320\n",
       "2   2        5     5233\n",
       "3   3        5     5232\n",
       "4   4        5     5268"
      ]
     },
     "execution_count": 32,
     "metadata": {},
     "output_type": "execute_result"
    }
   ],
   "source": [
    "df_test.head()"
   ]
  },
  {
   "cell_type": "code",
   "execution_count": 33,
   "metadata": {
    "ExecuteTime": {
     "end_time": "2020-11-10T16:16:29.367433Z",
     "start_time": "2020-11-10T16:16:29.300971Z"
    }
   },
   "outputs": [
    {
     "data": {
      "text/plain": [
       "185520"
      ]
     },
     "execution_count": 33,
     "metadata": {},
     "output_type": "execute_result"
    }
   ],
   "source": [
    "df_temp = pd.DataFrame({'shop_id': shop_id, 'item_id': item_id, 'item_cnt_month': pred})\n",
    "df_merged = df_test.merge(df_temp, 'left', ['shop_id', 'item_id'])\n",
    "df_merged['item_cnt_month'].isnull().sum()"
   ]
  },
  {
   "cell_type": "code",
   "execution_count": 34,
   "metadata": {
    "ExecuteTime": {
     "end_time": "2020-11-10T16:16:29.388389Z",
     "start_time": "2020-11-10T16:16:29.369658Z"
    }
   },
   "outputs": [],
   "source": [
    "df_merged.loc[df_merged[df_merged['item_cnt_month'].isnull()].index, 'item_cnt_month'] = 0"
   ]
  },
  {
   "cell_type": "code",
   "execution_count": 35,
   "metadata": {
    "ExecuteTime": {
     "end_time": "2020-11-10T16:16:29.817241Z",
     "start_time": "2020-11-10T16:16:29.390067Z"
    }
   },
   "outputs": [],
   "source": [
    "df_merged[['ID', 'item_cnt_month']].to_csv('submission.csv', index=False)"
   ]
  },
  {
   "cell_type": "markdown",
   "metadata": {},
   "source": [
    "## Final project advice 3"
   ]
  },
  {
   "cell_type": "code",
   "execution_count": 36,
   "metadata": {
    "ExecuteTime": {
     "end_time": "2020-11-13T16:27:22.610313Z",
     "start_time": "2020-11-13T16:27:21.563727Z"
    }
   },
   "outputs": [],
   "source": [
    "import xgboost as xgb\n",
    "from sklearn.preprocessing import LabelEncoder, OneHotEncoder\n",
    "import lightgbm as lgb\n",
    "\n",
    "import matplotlib.pyplot as plt\n",
    "from sklearn.linear_model import LinearRegression\n",
    "from sklearn.metrics import mean_squared_error"
   ]
  },
  {
   "cell_type": "code",
   "execution_count": 37,
   "metadata": {
    "ExecuteTime": {
     "end_time": "2020-11-13T16:27:29.374498Z",
     "start_time": "2020-11-13T16:27:29.073015Z"
    }
   },
   "outputs": [
    {
     "data": {
      "text/html": [
       "<div>\n",
       "<style scoped>\n",
       "    .dataframe tbody tr th:only-of-type {\n",
       "        vertical-align: middle;\n",
       "    }\n",
       "\n",
       "    .dataframe tbody tr th {\n",
       "        vertical-align: top;\n",
       "    }\n",
       "\n",
       "    .dataframe thead th {\n",
       "        text-align: right;\n",
       "    }\n",
       "</style>\n",
       "<table border=\"1\" class=\"dataframe\">\n",
       "  <thead>\n",
       "    <tr style=\"text-align: right;\">\n",
       "      <th></th>\n",
       "      <th>date</th>\n",
       "      <th>date_block_num</th>\n",
       "      <th>shop_id</th>\n",
       "      <th>item_id</th>\n",
       "      <th>item_price</th>\n",
       "      <th>item_cnt_day</th>\n",
       "      <th>datetimestamp</th>\n",
       "    </tr>\n",
       "  </thead>\n",
       "  <tbody>\n",
       "    <tr>\n",
       "      <th>0</th>\n",
       "      <td>02.01.2013</td>\n",
       "      <td>0</td>\n",
       "      <td>59</td>\n",
       "      <td>22154</td>\n",
       "      <td>999.00</td>\n",
       "      <td>1.0</td>\n",
       "      <td>2013-01-02</td>\n",
       "    </tr>\n",
       "    <tr>\n",
       "      <th>1</th>\n",
       "      <td>03.01.2013</td>\n",
       "      <td>0</td>\n",
       "      <td>25</td>\n",
       "      <td>2552</td>\n",
       "      <td>899.00</td>\n",
       "      <td>1.0</td>\n",
       "      <td>2013-01-03</td>\n",
       "    </tr>\n",
       "    <tr>\n",
       "      <th>2</th>\n",
       "      <td>05.01.2013</td>\n",
       "      <td>0</td>\n",
       "      <td>25</td>\n",
       "      <td>2552</td>\n",
       "      <td>899.00</td>\n",
       "      <td>-1.0</td>\n",
       "      <td>2013-01-05</td>\n",
       "    </tr>\n",
       "    <tr>\n",
       "      <th>3</th>\n",
       "      <td>06.01.2013</td>\n",
       "      <td>0</td>\n",
       "      <td>25</td>\n",
       "      <td>2554</td>\n",
       "      <td>1709.05</td>\n",
       "      <td>1.0</td>\n",
       "      <td>2013-01-06</td>\n",
       "    </tr>\n",
       "    <tr>\n",
       "      <th>4</th>\n",
       "      <td>15.01.2013</td>\n",
       "      <td>0</td>\n",
       "      <td>25</td>\n",
       "      <td>2555</td>\n",
       "      <td>1099.00</td>\n",
       "      <td>1.0</td>\n",
       "      <td>2013-01-15</td>\n",
       "    </tr>\n",
       "  </tbody>\n",
       "</table>\n",
       "</div>"
      ],
      "text/plain": [
       "         date  date_block_num  shop_id  item_id  item_price  item_cnt_day  \\\n",
       "0  02.01.2013               0       59    22154      999.00           1.0   \n",
       "1  03.01.2013               0       25     2552      899.00           1.0   \n",
       "2  05.01.2013               0       25     2552      899.00          -1.0   \n",
       "3  06.01.2013               0       25     2554     1709.05           1.0   \n",
       "4  15.01.2013               0       25     2555     1099.00           1.0   \n",
       "\n",
       "  datetimestamp  \n",
       "0    2013-01-02  \n",
       "1    2013-01-03  \n",
       "2    2013-01-05  \n",
       "3    2013-01-06  \n",
       "4    2013-01-15  "
      ]
     },
     "execution_count": 37,
     "metadata": {},
     "output_type": "execute_result"
    }
   ],
   "source": [
    "df_sales['datetimestamp'] = pd.to_datetime(df_sales['date'], format='%d.%m.%Y', infer_datetime_format=True)\n",
    "df_sales.head()"
   ]
  },
  {
   "cell_type": "code",
   "execution_count": 41,
   "metadata": {
    "ExecuteTime": {
     "end_time": "2020-11-14T00:04:19.383931Z",
     "start_time": "2020-11-14T00:04:19.183628Z"
    }
   },
   "outputs": [],
   "source": [
    "train_split = 0.98\n",
    "date_block_num = np.sort(df_sales['date_block_num'].unique())\n",
    "train_date_block_num = date_block_num[:int(date_block_num.shape[0]*train_split)]\n",
    "val_date_block_num = date_block_num[int(date_block_num.shape[0]*train_split):]\n",
    "df_sales_train = df_sales[df_sales['date_block_num'].isin(train_date_block_num)]\n",
    "df_sales_val = df_sales[df_sales['date_block_num'].isin(val_date_block_num)]"
   ]
  },
  {
   "cell_type": "code",
   "execution_count": 42,
   "metadata": {
    "ExecuteTime": {
     "end_time": "2020-11-14T15:07:00.722384Z",
     "start_time": "2020-11-14T15:06:59.990637Z"
    }
   },
   "outputs": [],
   "source": [
    "df_sales_month = df_sales[['shop_id', 'item_id', 'date_block_num','item_cnt_day']]\\\n",
    "    .groupby(['shop_id', 'item_id', 'date_block_num'], as_index=False).sum()\n",
    "df_sales_month.rename(columns={'item_cnt_day': 'item_cnt_month'}, inplace=True)\n",
    "df_sales_month['item_cnt_month'] = df_sales_month['item_cnt_month'].clip(0,20)"
   ]
  },
  {
   "cell_type": "code",
   "execution_count": 43,
   "metadata": {
    "ExecuteTime": {
     "end_time": "2020-11-14T15:07:01.499565Z",
     "start_time": "2020-11-14T15:07:00.724235Z"
    },
    "scrolled": true
   },
   "outputs": [],
   "source": [
    "temp = df_sales_month[['item_id', 'shop_id', 'item_cnt_month']].groupby(['item_id', 'shop_id'])\\\n",
    "        .agg([np.mean, np.std, np.median])\n",
    "temp.columns = [x[0] + '_' + x[1] for x in temp.columns]\n",
    "\n",
    "t = df_sales_month.join(temp, on=['item_id', 'shop_id'], how='left')\n",
    "\n",
    "temp = df_sales[['shop_id', 'item_id', 'item_price']]\\\n",
    "    .groupby(['shop_id', 'item_id'], as_index=False).agg([np.mean])\n",
    "temp.columns = [x[0] + '_' + x[1] for x in temp.columns]\n",
    "t = t.join(temp, on=['shop_id', 'item_id'], how='left')"
   ]
  },
  {
   "cell_type": "code",
   "execution_count": 44,
   "metadata": {
    "ExecuteTime": {
     "end_time": "2020-11-14T15:07:01.535272Z",
     "start_time": "2020-11-14T15:07:01.521468Z"
    }
   },
   "outputs": [
    {
     "data": {
      "text/html": [
       "<div>\n",
       "<style scoped>\n",
       "    .dataframe tbody tr th:only-of-type {\n",
       "        vertical-align: middle;\n",
       "    }\n",
       "\n",
       "    .dataframe tbody tr th {\n",
       "        vertical-align: top;\n",
       "    }\n",
       "\n",
       "    .dataframe thead th {\n",
       "        text-align: right;\n",
       "    }\n",
       "</style>\n",
       "<table border=\"1\" class=\"dataframe\">\n",
       "  <thead>\n",
       "    <tr style=\"text-align: right;\">\n",
       "      <th></th>\n",
       "      <th>shop_id</th>\n",
       "      <th>item_id</th>\n",
       "      <th>date_block_num</th>\n",
       "      <th>item_cnt_month</th>\n",
       "      <th>item_cnt_month_mean</th>\n",
       "      <th>item_cnt_month_std</th>\n",
       "      <th>item_cnt_month_median</th>\n",
       "      <th>item_price_mean</th>\n",
       "    </tr>\n",
       "  </thead>\n",
       "  <tbody>\n",
       "    <tr>\n",
       "      <th>0</th>\n",
       "      <td>0</td>\n",
       "      <td>30</td>\n",
       "      <td>1</td>\n",
       "      <td>20.0</td>\n",
       "      <td>20.000000</td>\n",
       "      <td>NaN</td>\n",
       "      <td>20.0</td>\n",
       "      <td>265.0</td>\n",
       "    </tr>\n",
       "    <tr>\n",
       "      <th>1</th>\n",
       "      <td>0</td>\n",
       "      <td>31</td>\n",
       "      <td>1</td>\n",
       "      <td>11.0</td>\n",
       "      <td>11.000000</td>\n",
       "      <td>NaN</td>\n",
       "      <td>11.0</td>\n",
       "      <td>434.0</td>\n",
       "    </tr>\n",
       "    <tr>\n",
       "      <th>2</th>\n",
       "      <td>0</td>\n",
       "      <td>32</td>\n",
       "      <td>0</td>\n",
       "      <td>6.0</td>\n",
       "      <td>8.000000</td>\n",
       "      <td>2.828427</td>\n",
       "      <td>8.0</td>\n",
       "      <td>221.0</td>\n",
       "    </tr>\n",
       "    <tr>\n",
       "      <th>3</th>\n",
       "      <td>0</td>\n",
       "      <td>32</td>\n",
       "      <td>1</td>\n",
       "      <td>10.0</td>\n",
       "      <td>8.000000</td>\n",
       "      <td>2.828427</td>\n",
       "      <td>8.0</td>\n",
       "      <td>221.0</td>\n",
       "    </tr>\n",
       "    <tr>\n",
       "      <th>4</th>\n",
       "      <td>0</td>\n",
       "      <td>33</td>\n",
       "      <td>0</td>\n",
       "      <td>3.0</td>\n",
       "      <td>3.000000</td>\n",
       "      <td>0.000000</td>\n",
       "      <td>3.0</td>\n",
       "      <td>347.0</td>\n",
       "    </tr>\n",
       "    <tr>\n",
       "      <th>...</th>\n",
       "      <td>...</td>\n",
       "      <td>...</td>\n",
       "      <td>...</td>\n",
       "      <td>...</td>\n",
       "      <td>...</td>\n",
       "      <td>...</td>\n",
       "      <td>...</td>\n",
       "      <td>...</td>\n",
       "    </tr>\n",
       "    <tr>\n",
       "      <th>1609119</th>\n",
       "      <td>59</td>\n",
       "      <td>22164</td>\n",
       "      <td>27</td>\n",
       "      <td>2.0</td>\n",
       "      <td>1.500000</td>\n",
       "      <td>0.577350</td>\n",
       "      <td>1.5</td>\n",
       "      <td>724.0</td>\n",
       "    </tr>\n",
       "    <tr>\n",
       "      <th>1609120</th>\n",
       "      <td>59</td>\n",
       "      <td>22164</td>\n",
       "      <td>30</td>\n",
       "      <td>1.0</td>\n",
       "      <td>1.500000</td>\n",
       "      <td>0.577350</td>\n",
       "      <td>1.5</td>\n",
       "      <td>724.0</td>\n",
       "    </tr>\n",
       "    <tr>\n",
       "      <th>1609121</th>\n",
       "      <td>59</td>\n",
       "      <td>22167</td>\n",
       "      <td>9</td>\n",
       "      <td>1.0</td>\n",
       "      <td>1.333333</td>\n",
       "      <td>0.577350</td>\n",
       "      <td>1.0</td>\n",
       "      <td>299.0</td>\n",
       "    </tr>\n",
       "    <tr>\n",
       "      <th>1609122</th>\n",
       "      <td>59</td>\n",
       "      <td>22167</td>\n",
       "      <td>11</td>\n",
       "      <td>2.0</td>\n",
       "      <td>1.333333</td>\n",
       "      <td>0.577350</td>\n",
       "      <td>1.0</td>\n",
       "      <td>299.0</td>\n",
       "    </tr>\n",
       "    <tr>\n",
       "      <th>1609123</th>\n",
       "      <td>59</td>\n",
       "      <td>22167</td>\n",
       "      <td>17</td>\n",
       "      <td>1.0</td>\n",
       "      <td>1.333333</td>\n",
       "      <td>0.577350</td>\n",
       "      <td>1.0</td>\n",
       "      <td>299.0</td>\n",
       "    </tr>\n",
       "  </tbody>\n",
       "</table>\n",
       "<p>1609124 rows × 8 columns</p>\n",
       "</div>"
      ],
      "text/plain": [
       "         shop_id  item_id  date_block_num  item_cnt_month  \\\n",
       "0              0       30               1            20.0   \n",
       "1              0       31               1            11.0   \n",
       "2              0       32               0             6.0   \n",
       "3              0       32               1            10.0   \n",
       "4              0       33               0             3.0   \n",
       "...          ...      ...             ...             ...   \n",
       "1609119       59    22164              27             2.0   \n",
       "1609120       59    22164              30             1.0   \n",
       "1609121       59    22167               9             1.0   \n",
       "1609122       59    22167              11             2.0   \n",
       "1609123       59    22167              17             1.0   \n",
       "\n",
       "         item_cnt_month_mean  item_cnt_month_std  item_cnt_month_median  \\\n",
       "0                  20.000000                 NaN                   20.0   \n",
       "1                  11.000000                 NaN                   11.0   \n",
       "2                   8.000000            2.828427                    8.0   \n",
       "3                   8.000000            2.828427                    8.0   \n",
       "4                   3.000000            0.000000                    3.0   \n",
       "...                      ...                 ...                    ...   \n",
       "1609119             1.500000            0.577350                    1.5   \n",
       "1609120             1.500000            0.577350                    1.5   \n",
       "1609121             1.333333            0.577350                    1.0   \n",
       "1609122             1.333333            0.577350                    1.0   \n",
       "1609123             1.333333            0.577350                    1.0   \n",
       "\n",
       "         item_price_mean  \n",
       "0                  265.0  \n",
       "1                  434.0  \n",
       "2                  221.0  \n",
       "3                  221.0  \n",
       "4                  347.0  \n",
       "...                  ...  \n",
       "1609119            724.0  \n",
       "1609120            724.0  \n",
       "1609121            299.0  \n",
       "1609122            299.0  \n",
       "1609123            299.0  \n",
       "\n",
       "[1609124 rows x 8 columns]"
      ]
     },
     "execution_count": 44,
     "metadata": {},
     "output_type": "execute_result"
    }
   ],
   "source": [
    "t"
   ]
  },
  {
   "cell_type": "code",
   "execution_count": 62,
   "metadata": {
    "ExecuteTime": {
     "end_time": "2020-11-14T15:07:01.739210Z",
     "start_time": "2020-11-14T15:07:01.537018Z"
    }
   },
   "outputs": [],
   "source": [
    "# This is train/test split\n",
    "d = np.unique(t['date_block_num'])\n",
    "d.sort()\n",
    "s = 1\n",
    "\n",
    "columns = ['shop_id', 'item_id', 'date_block_num','item_cnt_month', 'item_cnt_month_mean', \\\n",
    "           'item_cnt_month_std', 'item_cnt_month_median', 'item_price_mean']\n",
    "target_column = 'item_cnt_month'\n",
    "train = t[columns][t['date_block_num'].isin(d[:-s])]\n",
    "test = t[columns][t['date_block_num'].isin(d[-s:])]\n"
   ]
  },
  {
   "cell_type": "code",
   "execution_count": 63,
   "metadata": {
    "ExecuteTime": {
     "end_time": "2020-11-14T15:07:01.919907Z",
     "start_time": "2020-11-14T15:07:01.860096Z"
    }
   },
   "outputs": [],
   "source": [
    "train_data = lgb.Dataset(train.drop([target_column], axis=1), \\\n",
    "                         label=train[target_column], \\\n",
    "#                          feature_name=['shop_id', 'item_id', 'month'], \\\n",
    "#                         categorical_feature=['shop_id', 'item_id'],\n",
    "#                          categorical_feature='name:shop_id,item_id,month', \\\n",
    "                         free_raw_data=False)\n",
    "test_data = lgb.Dataset(test.drop([target_column], axis=1), \\\n",
    "                        label=test[target_column], \\\n",
    "#                         feature_name=['shop_id', 'item_id', 'month'], \\\n",
    "#                         categorical_feature=['shop_id', 'item_id'], \\\n",
    "#                         categorical_feature='name:shop_id,item_id,month', \\\n",
    "                        reference=train_data, \\\n",
    "                        free_raw_data=False)"
   ]
  },
  {
   "cell_type": "code",
   "execution_count": 64,
   "metadata": {
    "ExecuteTime": {
     "end_time": "2020-11-14T15:07:02.088599Z",
     "start_time": "2020-11-14T15:07:02.085736Z"
    }
   },
   "outputs": [],
   "source": [
    "param = {'num_leaves': 500,\n",
    "         'objective': 'rmse',\n",
    "#          'is_provide_training_metric': True,\n",
    "#          'min_data_in_leaf': 20,\n",
    "#          'max_depth': 5,\n",
    "#          'learning_rate ': 0.1,\n",
    "#          'max_bin': 5000,\n",
    "        }\n",
    "param['metric'] = 'rmse'"
   ]
  },
  {
   "cell_type": "code",
   "execution_count": 68,
   "metadata": {
    "ExecuteTime": {
     "end_time": "2020-11-14T15:07:04.365933Z",
     "start_time": "2020-11-14T15:07:02.790463Z"
    },
    "scrolled": true
   },
   "outputs": [
    {
     "name": "stdout",
     "output_type": "stream",
     "text": [
      "[1]\ttraining's rmse: 2.43411\tvalid_1's rmse: 2.32935\n",
      "[2]\ttraining's rmse: 2.3097\tvalid_1's rmse: 2.15052\n",
      "[3]\ttraining's rmse: 2.20258\tvalid_1's rmse: 1.9956\n",
      "[4]\ttraining's rmse: 2.11092\tvalid_1's rmse: 1.86413\n",
      "[5]\ttraining's rmse: 2.03208\tvalid_1's rmse: 1.75449\n",
      "[6]\ttraining's rmse: 1.96538\tvalid_1's rmse: 1.66029\n",
      "[7]\ttraining's rmse: 1.9069\tvalid_1's rmse: 1.58674\n",
      "[8]\ttraining's rmse: 1.85765\tvalid_1's rmse: 1.53092\n",
      "[9]\ttraining's rmse: 1.81445\tvalid_1's rmse: 1.4843\n",
      "[10]\ttraining's rmse: 1.77884\tvalid_1's rmse: 1.44912\n",
      "[11]\ttraining's rmse: 1.7471\tvalid_1's rmse: 1.42209\n",
      "[12]\ttraining's rmse: 1.71907\tvalid_1's rmse: 1.40315\n",
      "[13]\ttraining's rmse: 1.69565\tvalid_1's rmse: 1.38963\n",
      "[14]\ttraining's rmse: 1.67507\tvalid_1's rmse: 1.3769\n",
      "[15]\ttraining's rmse: 1.65766\tvalid_1's rmse: 1.36708\n",
      "[16]\ttraining's rmse: 1.64091\tvalid_1's rmse: 1.36058\n",
      "[17]\ttraining's rmse: 1.62656\tvalid_1's rmse: 1.3591\n",
      "[18]\ttraining's rmse: 1.61341\tvalid_1's rmse: 1.35617\n",
      "[19]\ttraining's rmse: 1.60233\tvalid_1's rmse: 1.35387\n",
      "[20]\ttraining's rmse: 1.59155\tvalid_1's rmse: 1.35787\n",
      "[21]\ttraining's rmse: 1.58097\tvalid_1's rmse: 1.36146\n",
      "[22]\ttraining's rmse: 1.57087\tvalid_1's rmse: 1.36638\n",
      "[23]\ttraining's rmse: 1.56213\tvalid_1's rmse: 1.36935\n",
      "[24]\ttraining's rmse: 1.55484\tvalid_1's rmse: 1.37633\n",
      "[25]\ttraining's rmse: 1.54764\tvalid_1's rmse: 1.38253\n",
      "[26]\ttraining's rmse: 1.53909\tvalid_1's rmse: 1.38738\n",
      "[27]\ttraining's rmse: 1.53148\tvalid_1's rmse: 1.38959\n",
      "[28]\ttraining's rmse: 1.52346\tvalid_1's rmse: 1.3934\n",
      "[29]\ttraining's rmse: 1.51728\tvalid_1's rmse: 1.39669\n",
      "[30]\ttraining's rmse: 1.51265\tvalid_1's rmse: 1.40134\n"
     ]
    }
   ],
   "source": [
    "num_round = 30\n",
    "bst = lgb.train(param, train_data, num_round, valid_sets=[train_data, test_data])"
   ]
  },
  {
   "cell_type": "code",
   "execution_count": null,
   "metadata": {},
   "outputs": [],
   "source": []
  },
  {
   "cell_type": "code",
   "execution_count": 65,
   "metadata": {
    "ExecuteTime": {
     "end_time": "2020-11-14T00:21:07.200848Z",
     "start_time": "2020-11-14T00:21:06.150242Z"
    }
   },
   "outputs": [],
   "source": [
    "temp_grouped = df_sales[['shop_id', 'item_id', 'date_block_num','item_cnt_day']]\\\n",
    "    .groupby(['shop_id', 'item_id', 'date_block_num'], as_index=False).agg([np.sum, np.mean, np.std, np.median])\n",
    "temp_grouped.columns = [(x[0]+'_'+x[1]) for x in temp_grouped.columns]\n",
    "temp = temp_grouped.copy()\n",
    "index = temp.index.to_frame()\n",
    "index['date_block_num'] = index['date_block_num'] - 1\n",
    "temp.index = pd.MultiIndex.from_frame(index)\n",
    "temp.columns = [x+'_'+str(-1) for x in temp.columns]"
   ]
  },
  {
   "cell_type": "code",
   "execution_count": 66,
   "metadata": {
    "ExecuteTime": {
     "end_time": "2020-11-14T00:21:26.345954Z",
     "start_time": "2020-11-14T00:21:25.754113Z"
    }
   },
   "outputs": [],
   "source": [
    "temp = temp_grouped.join(temp, on=temp_grouped.index.names)"
   ]
  },
  {
   "cell_type": "code",
   "execution_count": 67,
   "metadata": {
    "ExecuteTime": {
     "end_time": "2020-11-14T00:21:37.416672Z",
     "start_time": "2020-11-14T00:21:37.338073Z"
    }
   },
   "outputs": [
    {
     "data": {
      "text/html": [
       "<div>\n",
       "<style scoped>\n",
       "    .dataframe tbody tr th:only-of-type {\n",
       "        vertical-align: middle;\n",
       "    }\n",
       "\n",
       "    .dataframe tbody tr th {\n",
       "        vertical-align: top;\n",
       "    }\n",
       "\n",
       "    .dataframe thead th {\n",
       "        text-align: right;\n",
       "    }\n",
       "</style>\n",
       "<table border=\"1\" class=\"dataframe\">\n",
       "  <thead>\n",
       "    <tr style=\"text-align: right;\">\n",
       "      <th></th>\n",
       "      <th>shop_id</th>\n",
       "      <th>item_id</th>\n",
       "      <th>date_block_num</th>\n",
       "      <th>item_cnt_day_sum</th>\n",
       "      <th>item_cnt_day_mean</th>\n",
       "      <th>item_cnt_day_std</th>\n",
       "      <th>item_cnt_day_median</th>\n",
       "      <th>item_cnt_day_sum_-1</th>\n",
       "      <th>item_cnt_day_mean_-1</th>\n",
       "      <th>item_cnt_day_std_-1</th>\n",
       "      <th>item_cnt_day_median_-1</th>\n",
       "    </tr>\n",
       "  </thead>\n",
       "  <tbody>\n",
       "    <tr>\n",
       "      <th>0</th>\n",
       "      <td>0</td>\n",
       "      <td>30</td>\n",
       "      <td>1</td>\n",
       "      <td>31.0</td>\n",
       "      <td>3.444444</td>\n",
       "      <td>2.242271</td>\n",
       "      <td>3.0</td>\n",
       "      <td>NaN</td>\n",
       "      <td>NaN</td>\n",
       "      <td>NaN</td>\n",
       "      <td>NaN</td>\n",
       "    </tr>\n",
       "    <tr>\n",
       "      <th>1</th>\n",
       "      <td>0</td>\n",
       "      <td>31</td>\n",
       "      <td>1</td>\n",
       "      <td>11.0</td>\n",
       "      <td>1.571429</td>\n",
       "      <td>0.975900</td>\n",
       "      <td>1.0</td>\n",
       "      <td>NaN</td>\n",
       "      <td>NaN</td>\n",
       "      <td>NaN</td>\n",
       "      <td>NaN</td>\n",
       "    </tr>\n",
       "    <tr>\n",
       "      <th>2</th>\n",
       "      <td>0</td>\n",
       "      <td>32</td>\n",
       "      <td>0</td>\n",
       "      <td>6.0</td>\n",
       "      <td>1.500000</td>\n",
       "      <td>0.577350</td>\n",
       "      <td>1.5</td>\n",
       "      <td>10.0</td>\n",
       "      <td>1.428571</td>\n",
       "      <td>0.534522</td>\n",
       "      <td>1.0</td>\n",
       "    </tr>\n",
       "    <tr>\n",
       "      <th>3</th>\n",
       "      <td>0</td>\n",
       "      <td>32</td>\n",
       "      <td>1</td>\n",
       "      <td>10.0</td>\n",
       "      <td>1.428571</td>\n",
       "      <td>0.534522</td>\n",
       "      <td>1.0</td>\n",
       "      <td>NaN</td>\n",
       "      <td>NaN</td>\n",
       "      <td>NaN</td>\n",
       "      <td>NaN</td>\n",
       "    </tr>\n",
       "    <tr>\n",
       "      <th>4</th>\n",
       "      <td>0</td>\n",
       "      <td>33</td>\n",
       "      <td>0</td>\n",
       "      <td>3.0</td>\n",
       "      <td>1.000000</td>\n",
       "      <td>0.000000</td>\n",
       "      <td>1.0</td>\n",
       "      <td>3.0</td>\n",
       "      <td>1.000000</td>\n",
       "      <td>0.000000</td>\n",
       "      <td>1.0</td>\n",
       "    </tr>\n",
       "    <tr>\n",
       "      <th>...</th>\n",
       "      <td>...</td>\n",
       "      <td>...</td>\n",
       "      <td>...</td>\n",
       "      <td>...</td>\n",
       "      <td>...</td>\n",
       "      <td>...</td>\n",
       "      <td>...</td>\n",
       "      <td>...</td>\n",
       "      <td>...</td>\n",
       "      <td>...</td>\n",
       "      <td>...</td>\n",
       "    </tr>\n",
       "    <tr>\n",
       "      <th>1609119</th>\n",
       "      <td>59</td>\n",
       "      <td>22164</td>\n",
       "      <td>27</td>\n",
       "      <td>2.0</td>\n",
       "      <td>1.000000</td>\n",
       "      <td>0.000000</td>\n",
       "      <td>1.0</td>\n",
       "      <td>NaN</td>\n",
       "      <td>NaN</td>\n",
       "      <td>NaN</td>\n",
       "      <td>NaN</td>\n",
       "    </tr>\n",
       "    <tr>\n",
       "      <th>1609120</th>\n",
       "      <td>59</td>\n",
       "      <td>22164</td>\n",
       "      <td>30</td>\n",
       "      <td>1.0</td>\n",
       "      <td>1.000000</td>\n",
       "      <td>NaN</td>\n",
       "      <td>1.0</td>\n",
       "      <td>NaN</td>\n",
       "      <td>NaN</td>\n",
       "      <td>NaN</td>\n",
       "      <td>NaN</td>\n",
       "    </tr>\n",
       "    <tr>\n",
       "      <th>1609121</th>\n",
       "      <td>59</td>\n",
       "      <td>22167</td>\n",
       "      <td>9</td>\n",
       "      <td>1.0</td>\n",
       "      <td>1.000000</td>\n",
       "      <td>NaN</td>\n",
       "      <td>1.0</td>\n",
       "      <td>NaN</td>\n",
       "      <td>NaN</td>\n",
       "      <td>NaN</td>\n",
       "      <td>NaN</td>\n",
       "    </tr>\n",
       "    <tr>\n",
       "      <th>1609122</th>\n",
       "      <td>59</td>\n",
       "      <td>22167</td>\n",
       "      <td>11</td>\n",
       "      <td>2.0</td>\n",
       "      <td>1.000000</td>\n",
       "      <td>0.000000</td>\n",
       "      <td>1.0</td>\n",
       "      <td>NaN</td>\n",
       "      <td>NaN</td>\n",
       "      <td>NaN</td>\n",
       "      <td>NaN</td>\n",
       "    </tr>\n",
       "    <tr>\n",
       "      <th>1609123</th>\n",
       "      <td>59</td>\n",
       "      <td>22167</td>\n",
       "      <td>17</td>\n",
       "      <td>1.0</td>\n",
       "      <td>1.000000</td>\n",
       "      <td>NaN</td>\n",
       "      <td>1.0</td>\n",
       "      <td>NaN</td>\n",
       "      <td>NaN</td>\n",
       "      <td>NaN</td>\n",
       "      <td>NaN</td>\n",
       "    </tr>\n",
       "  </tbody>\n",
       "</table>\n",
       "<p>1609124 rows × 11 columns</p>\n",
       "</div>"
      ],
      "text/plain": [
       "         shop_id  item_id  date_block_num  item_cnt_day_sum  \\\n",
       "0              0       30               1              31.0   \n",
       "1              0       31               1              11.0   \n",
       "2              0       32               0               6.0   \n",
       "3              0       32               1              10.0   \n",
       "4              0       33               0               3.0   \n",
       "...          ...      ...             ...               ...   \n",
       "1609119       59    22164              27               2.0   \n",
       "1609120       59    22164              30               1.0   \n",
       "1609121       59    22167               9               1.0   \n",
       "1609122       59    22167              11               2.0   \n",
       "1609123       59    22167              17               1.0   \n",
       "\n",
       "         item_cnt_day_mean  item_cnt_day_std  item_cnt_day_median  \\\n",
       "0                 3.444444          2.242271                  3.0   \n",
       "1                 1.571429          0.975900                  1.0   \n",
       "2                 1.500000          0.577350                  1.5   \n",
       "3                 1.428571          0.534522                  1.0   \n",
       "4                 1.000000          0.000000                  1.0   \n",
       "...                    ...               ...                  ...   \n",
       "1609119           1.000000          0.000000                  1.0   \n",
       "1609120           1.000000               NaN                  1.0   \n",
       "1609121           1.000000               NaN                  1.0   \n",
       "1609122           1.000000          0.000000                  1.0   \n",
       "1609123           1.000000               NaN                  1.0   \n",
       "\n",
       "         item_cnt_day_sum_-1  item_cnt_day_mean_-1  item_cnt_day_std_-1  \\\n",
       "0                        NaN                   NaN                  NaN   \n",
       "1                        NaN                   NaN                  NaN   \n",
       "2                       10.0              1.428571             0.534522   \n",
       "3                        NaN                   NaN                  NaN   \n",
       "4                        3.0              1.000000             0.000000   \n",
       "...                      ...                   ...                  ...   \n",
       "1609119                  NaN                   NaN                  NaN   \n",
       "1609120                  NaN                   NaN                  NaN   \n",
       "1609121                  NaN                   NaN                  NaN   \n",
       "1609122                  NaN                   NaN                  NaN   \n",
       "1609123                  NaN                   NaN                  NaN   \n",
       "\n",
       "         item_cnt_day_median_-1  \n",
       "0                           NaN  \n",
       "1                           NaN  \n",
       "2                           1.0  \n",
       "3                           NaN  \n",
       "4                           1.0  \n",
       "...                         ...  \n",
       "1609119                     NaN  \n",
       "1609120                     NaN  \n",
       "1609121                     NaN  \n",
       "1609122                     NaN  \n",
       "1609123                     NaN  \n",
       "\n",
       "[1609124 rows x 11 columns]"
      ]
     },
     "execution_count": 67,
     "metadata": {},
     "output_type": "execute_result"
    }
   ],
   "source": [
    "temp.reset_index()"
   ]
  },
  {
   "cell_type": "code",
   "execution_count": null,
   "metadata": {},
   "outputs": [],
   "source": []
  },
  {
   "cell_type": "code",
   "execution_count": null,
   "metadata": {},
   "outputs": [],
   "source": []
  },
  {
   "cell_type": "markdown",
   "metadata": {
    "collapsed": "true"
   },
   "source": [
    "# History"
   ]
  },
  {
   "cell_type": "code",
   "execution_count": 31,
   "metadata": {
    "ExecuteTime": {
     "end_time": "2020-11-13T17:19:28.417367Z",
     "start_time": "2020-11-13T17:19:27.610196Z"
    }
   },
   "outputs": [],
   "source": [
    "temp = df_sales_train[['shop_id', 'item_id', 'date_block_num','item_cnt_day']]\\\n",
    "    .groupby(['shop_id', 'item_id', 'date_block_num'], as_index=False).agg([np.sum, np.mean, np.std, np.median])"
   ]
  },
  {
   "cell_type": "code",
   "execution_count": 187,
   "metadata": {
    "ExecuteTime": {
     "end_time": "2020-11-13T21:54:38.789465Z",
     "start_time": "2020-11-13T21:45:28.425810Z"
    }
   },
   "outputs": [],
   "source": [
    "temp = df_sales_train[['shop_id', 'item_id', 'date_block_num','item_cnt_day']]\\\n",
    "    .groupby(['shop_id', 'item_id', 'date_block_num']).sum()\n",
    "shop_item_mean = temp.reset_index().sort_values('date_block_num')[['shop_id', 'item_id', 'item_cnt_day', 'date_block_num']]\\\n",
    "    .groupby(['shop_id', 'item_id', 'date_block_num'])['item_cnt_day'].expanding().sum()"
   ]
  },
  {
   "cell_type": "code",
   "execution_count": null,
   "metadata": {},
   "outputs": [],
   "source": [
    "temp_shop_item_mean = temp.reset_index().sort_values('date_block_num')[['shop_id', 'item_id', 'item_cnt_day', 'date_block_num']]\\\n",
    "    .groupby(['shop_id', 'item_id', 'date_block_num'])['item_cnt_day'].expanding().sum()"
   ]
  },
  {
   "cell_type": "code",
   "execution_count": 195,
   "metadata": {
    "ExecuteTime": {
     "end_time": "2020-11-13T23:43:05.777463Z",
     "start_time": "2020-11-13T23:43:05.764475Z"
    }
   },
   "outputs": [
    {
     "data": {
      "text/plain": [
       "shop_id  item_id  date_block_num         \n",
       "0        30       1               0          31.0\n",
       "         31       1               1          11.0\n",
       "         32       0               2           6.0\n",
       "                  1               3          10.0\n",
       "         33       0               4           3.0\n",
       "                                             ... \n",
       "59       22154    0               1195989     1.0\n",
       "         22155    6               1195990     1.0\n",
       "         22167    9               1195991     1.0\n",
       "                  11              1195992     2.0\n",
       "                  17              1195993     1.0\n",
       "Name: item_cnt_day, Length: 1195994, dtype: float64"
      ]
     },
     "execution_count": 195,
     "metadata": {},
     "output_type": "execute_result"
    }
   ],
   "source": [
    "shop_item_mean"
   ]
  },
  {
   "cell_type": "code",
   "execution_count": 188,
   "metadata": {
    "ExecuteTime": {
     "end_time": "2020-11-13T23:41:25.243477Z",
     "start_time": "2020-11-13T23:41:25.195657Z"
    },
    "scrolled": true
   },
   "outputs": [
    {
     "data": {
      "text/html": [
       "<div>\n",
       "<style scoped>\n",
       "    .dataframe tbody tr th:only-of-type {\n",
       "        vertical-align: middle;\n",
       "    }\n",
       "\n",
       "    .dataframe tbody tr th {\n",
       "        vertical-align: top;\n",
       "    }\n",
       "\n",
       "    .dataframe thead th {\n",
       "        text-align: right;\n",
       "    }\n",
       "</style>\n",
       "<table border=\"1\" class=\"dataframe\">\n",
       "  <thead>\n",
       "    <tr style=\"text-align: right;\">\n",
       "      <th></th>\n",
       "      <th>shop_id</th>\n",
       "      <th>item_id</th>\n",
       "      <th>date_block_num</th>\n",
       "      <th>level_3</th>\n",
       "      <th>item_cnt_day</th>\n",
       "    </tr>\n",
       "  </thead>\n",
       "  <tbody>\n",
       "    <tr>\n",
       "      <th>0</th>\n",
       "      <td>0</td>\n",
       "      <td>30</td>\n",
       "      <td>1</td>\n",
       "      <td>0</td>\n",
       "      <td>31.0</td>\n",
       "    </tr>\n",
       "    <tr>\n",
       "      <th>1</th>\n",
       "      <td>0</td>\n",
       "      <td>31</td>\n",
       "      <td>1</td>\n",
       "      <td>1</td>\n",
       "      <td>11.0</td>\n",
       "    </tr>\n",
       "    <tr>\n",
       "      <th>2</th>\n",
       "      <td>0</td>\n",
       "      <td>32</td>\n",
       "      <td>0</td>\n",
       "      <td>2</td>\n",
       "      <td>6.0</td>\n",
       "    </tr>\n",
       "    <tr>\n",
       "      <th>3</th>\n",
       "      <td>0</td>\n",
       "      <td>32</td>\n",
       "      <td>1</td>\n",
       "      <td>3</td>\n",
       "      <td>10.0</td>\n",
       "    </tr>\n",
       "    <tr>\n",
       "      <th>4</th>\n",
       "      <td>0</td>\n",
       "      <td>33</td>\n",
       "      <td>0</td>\n",
       "      <td>4</td>\n",
       "      <td>3.0</td>\n",
       "    </tr>\n",
       "    <tr>\n",
       "      <th>5</th>\n",
       "      <td>0</td>\n",
       "      <td>33</td>\n",
       "      <td>1</td>\n",
       "      <td>5</td>\n",
       "      <td>3.0</td>\n",
       "    </tr>\n",
       "    <tr>\n",
       "      <th>6</th>\n",
       "      <td>0</td>\n",
       "      <td>35</td>\n",
       "      <td>0</td>\n",
       "      <td>6</td>\n",
       "      <td>1.0</td>\n",
       "    </tr>\n",
       "    <tr>\n",
       "      <th>7</th>\n",
       "      <td>0</td>\n",
       "      <td>35</td>\n",
       "      <td>1</td>\n",
       "      <td>7</td>\n",
       "      <td>14.0</td>\n",
       "    </tr>\n",
       "    <tr>\n",
       "      <th>8</th>\n",
       "      <td>0</td>\n",
       "      <td>36</td>\n",
       "      <td>1</td>\n",
       "      <td>8</td>\n",
       "      <td>1.0</td>\n",
       "    </tr>\n",
       "    <tr>\n",
       "      <th>9</th>\n",
       "      <td>0</td>\n",
       "      <td>40</td>\n",
       "      <td>1</td>\n",
       "      <td>9</td>\n",
       "      <td>1.0</td>\n",
       "    </tr>\n",
       "    <tr>\n",
       "      <th>10</th>\n",
       "      <td>0</td>\n",
       "      <td>42</td>\n",
       "      <td>1</td>\n",
       "      <td>10</td>\n",
       "      <td>1.0</td>\n",
       "    </tr>\n",
       "    <tr>\n",
       "      <th>11</th>\n",
       "      <td>0</td>\n",
       "      <td>43</td>\n",
       "      <td>0</td>\n",
       "      <td>11</td>\n",
       "      <td>1.0</td>\n",
       "    </tr>\n",
       "    <tr>\n",
       "      <th>12</th>\n",
       "      <td>0</td>\n",
       "      <td>49</td>\n",
       "      <td>1</td>\n",
       "      <td>12</td>\n",
       "      <td>2.0</td>\n",
       "    </tr>\n",
       "    <tr>\n",
       "      <th>13</th>\n",
       "      <td>0</td>\n",
       "      <td>51</td>\n",
       "      <td>0</td>\n",
       "      <td>13</td>\n",
       "      <td>2.0</td>\n",
       "    </tr>\n",
       "    <tr>\n",
       "      <th>14</th>\n",
       "      <td>0</td>\n",
       "      <td>51</td>\n",
       "      <td>1</td>\n",
       "      <td>14</td>\n",
       "      <td>3.0</td>\n",
       "    </tr>\n",
       "    <tr>\n",
       "      <th>15</th>\n",
       "      <td>0</td>\n",
       "      <td>57</td>\n",
       "      <td>1</td>\n",
       "      <td>15</td>\n",
       "      <td>1.0</td>\n",
       "    </tr>\n",
       "    <tr>\n",
       "      <th>16</th>\n",
       "      <td>0</td>\n",
       "      <td>59</td>\n",
       "      <td>1</td>\n",
       "      <td>16</td>\n",
       "      <td>1.0</td>\n",
       "    </tr>\n",
       "    <tr>\n",
       "      <th>17</th>\n",
       "      <td>0</td>\n",
       "      <td>61</td>\n",
       "      <td>0</td>\n",
       "      <td>17</td>\n",
       "      <td>1.0</td>\n",
       "    </tr>\n",
       "    <tr>\n",
       "      <th>18</th>\n",
       "      <td>0</td>\n",
       "      <td>75</td>\n",
       "      <td>0</td>\n",
       "      <td>18</td>\n",
       "      <td>1.0</td>\n",
       "    </tr>\n",
       "    <tr>\n",
       "      <th>19</th>\n",
       "      <td>0</td>\n",
       "      <td>85</td>\n",
       "      <td>1</td>\n",
       "      <td>19</td>\n",
       "      <td>1.0</td>\n",
       "    </tr>\n",
       "    <tr>\n",
       "      <th>20</th>\n",
       "      <td>0</td>\n",
       "      <td>88</td>\n",
       "      <td>0</td>\n",
       "      <td>20</td>\n",
       "      <td>1.0</td>\n",
       "    </tr>\n",
       "    <tr>\n",
       "      <th>21</th>\n",
       "      <td>0</td>\n",
       "      <td>95</td>\n",
       "      <td>0</td>\n",
       "      <td>21</td>\n",
       "      <td>1.0</td>\n",
       "    </tr>\n",
       "    <tr>\n",
       "      <th>22</th>\n",
       "      <td>0</td>\n",
       "      <td>96</td>\n",
       "      <td>0</td>\n",
       "      <td>22</td>\n",
       "      <td>1.0</td>\n",
       "    </tr>\n",
       "    <tr>\n",
       "      <th>23</th>\n",
       "      <td>0</td>\n",
       "      <td>97</td>\n",
       "      <td>1</td>\n",
       "      <td>23</td>\n",
       "      <td>1.0</td>\n",
       "    </tr>\n",
       "    <tr>\n",
       "      <th>24</th>\n",
       "      <td>0</td>\n",
       "      <td>98</td>\n",
       "      <td>0</td>\n",
       "      <td>24</td>\n",
       "      <td>25.0</td>\n",
       "    </tr>\n",
       "    <tr>\n",
       "      <th>25</th>\n",
       "      <td>0</td>\n",
       "      <td>98</td>\n",
       "      <td>1</td>\n",
       "      <td>25</td>\n",
       "      <td>5.0</td>\n",
       "    </tr>\n",
       "    <tr>\n",
       "      <th>26</th>\n",
       "      <td>0</td>\n",
       "      <td>111</td>\n",
       "      <td>0</td>\n",
       "      <td>26</td>\n",
       "      <td>1.0</td>\n",
       "    </tr>\n",
       "    <tr>\n",
       "      <th>27</th>\n",
       "      <td>0</td>\n",
       "      <td>111</td>\n",
       "      <td>1</td>\n",
       "      <td>27</td>\n",
       "      <td>1.0</td>\n",
       "    </tr>\n",
       "    <tr>\n",
       "      <th>28</th>\n",
       "      <td>0</td>\n",
       "      <td>115</td>\n",
       "      <td>1</td>\n",
       "      <td>28</td>\n",
       "      <td>1.0</td>\n",
       "    </tr>\n",
       "    <tr>\n",
       "      <th>29</th>\n",
       "      <td>0</td>\n",
       "      <td>136</td>\n",
       "      <td>1</td>\n",
       "      <td>29</td>\n",
       "      <td>1.0</td>\n",
       "    </tr>\n",
       "    <tr>\n",
       "      <th>30</th>\n",
       "      <td>0</td>\n",
       "      <td>149</td>\n",
       "      <td>0</td>\n",
       "      <td>30</td>\n",
       "      <td>3.0</td>\n",
       "    </tr>\n",
       "    <tr>\n",
       "      <th>31</th>\n",
       "      <td>0</td>\n",
       "      <td>151</td>\n",
       "      <td>0</td>\n",
       "      <td>31</td>\n",
       "      <td>1.0</td>\n",
       "    </tr>\n",
       "    <tr>\n",
       "      <th>32</th>\n",
       "      <td>0</td>\n",
       "      <td>152</td>\n",
       "      <td>1</td>\n",
       "      <td>32</td>\n",
       "      <td>1.0</td>\n",
       "    </tr>\n",
       "    <tr>\n",
       "      <th>33</th>\n",
       "      <td>0</td>\n",
       "      <td>153</td>\n",
       "      <td>0</td>\n",
       "      <td>33</td>\n",
       "      <td>1.0</td>\n",
       "    </tr>\n",
       "    <tr>\n",
       "      <th>34</th>\n",
       "      <td>0</td>\n",
       "      <td>153</td>\n",
       "      <td>1</td>\n",
       "      <td>34</td>\n",
       "      <td>2.0</td>\n",
       "    </tr>\n",
       "    <tr>\n",
       "      <th>35</th>\n",
       "      <td>0</td>\n",
       "      <td>198</td>\n",
       "      <td>0</td>\n",
       "      <td>35</td>\n",
       "      <td>1.0</td>\n",
       "    </tr>\n",
       "    <tr>\n",
       "      <th>36</th>\n",
       "      <td>0</td>\n",
       "      <td>199</td>\n",
       "      <td>1</td>\n",
       "      <td>36</td>\n",
       "      <td>1.0</td>\n",
       "    </tr>\n",
       "    <tr>\n",
       "      <th>37</th>\n",
       "      <td>0</td>\n",
       "      <td>210</td>\n",
       "      <td>0</td>\n",
       "      <td>37</td>\n",
       "      <td>2.0</td>\n",
       "    </tr>\n",
       "    <tr>\n",
       "      <th>38</th>\n",
       "      <td>0</td>\n",
       "      <td>228</td>\n",
       "      <td>1</td>\n",
       "      <td>38</td>\n",
       "      <td>1.0</td>\n",
       "    </tr>\n",
       "    <tr>\n",
       "      <th>39</th>\n",
       "      <td>0</td>\n",
       "      <td>282</td>\n",
       "      <td>0</td>\n",
       "      <td>39</td>\n",
       "      <td>1.0</td>\n",
       "    </tr>\n",
       "    <tr>\n",
       "      <th>40</th>\n",
       "      <td>0</td>\n",
       "      <td>306</td>\n",
       "      <td>0</td>\n",
       "      <td>40</td>\n",
       "      <td>1.0</td>\n",
       "    </tr>\n",
       "    <tr>\n",
       "      <th>41</th>\n",
       "      <td>0</td>\n",
       "      <td>306</td>\n",
       "      <td>1</td>\n",
       "      <td>41</td>\n",
       "      <td>1.0</td>\n",
       "    </tr>\n",
       "    <tr>\n",
       "      <th>42</th>\n",
       "      <td>0</td>\n",
       "      <td>308</td>\n",
       "      <td>1</td>\n",
       "      <td>42</td>\n",
       "      <td>1.0</td>\n",
       "    </tr>\n",
       "    <tr>\n",
       "      <th>43</th>\n",
       "      <td>0</td>\n",
       "      <td>351</td>\n",
       "      <td>0</td>\n",
       "      <td>43</td>\n",
       "      <td>1.0</td>\n",
       "    </tr>\n",
       "    <tr>\n",
       "      <th>44</th>\n",
       "      <td>0</td>\n",
       "      <td>407</td>\n",
       "      <td>1</td>\n",
       "      <td>44</td>\n",
       "      <td>1.0</td>\n",
       "    </tr>\n",
       "    <tr>\n",
       "      <th>45</th>\n",
       "      <td>0</td>\n",
       "      <td>421</td>\n",
       "      <td>0</td>\n",
       "      <td>45</td>\n",
       "      <td>1.0</td>\n",
       "    </tr>\n",
       "    <tr>\n",
       "      <th>46</th>\n",
       "      <td>0</td>\n",
       "      <td>438</td>\n",
       "      <td>0</td>\n",
       "      <td>46</td>\n",
       "      <td>1.0</td>\n",
       "    </tr>\n",
       "    <tr>\n",
       "      <th>47</th>\n",
       "      <td>0</td>\n",
       "      <td>471</td>\n",
       "      <td>1</td>\n",
       "      <td>47</td>\n",
       "      <td>1.0</td>\n",
       "    </tr>\n",
       "    <tr>\n",
       "      <th>48</th>\n",
       "      <td>0</td>\n",
       "      <td>479</td>\n",
       "      <td>1</td>\n",
       "      <td>48</td>\n",
       "      <td>1.0</td>\n",
       "    </tr>\n",
       "    <tr>\n",
       "      <th>49</th>\n",
       "      <td>0</td>\n",
       "      <td>482</td>\n",
       "      <td>0</td>\n",
       "      <td>49</td>\n",
       "      <td>2.0</td>\n",
       "    </tr>\n",
       "  </tbody>\n",
       "</table>\n",
       "</div>"
      ],
      "text/plain": [
       "    shop_id  item_id  date_block_num  level_3  item_cnt_day\n",
       "0         0       30               1        0          31.0\n",
       "1         0       31               1        1          11.0\n",
       "2         0       32               0        2           6.0\n",
       "3         0       32               1        3          10.0\n",
       "4         0       33               0        4           3.0\n",
       "5         0       33               1        5           3.0\n",
       "6         0       35               0        6           1.0\n",
       "7         0       35               1        7          14.0\n",
       "8         0       36               1        8           1.0\n",
       "9         0       40               1        9           1.0\n",
       "10        0       42               1       10           1.0\n",
       "11        0       43               0       11           1.0\n",
       "12        0       49               1       12           2.0\n",
       "13        0       51               0       13           2.0\n",
       "14        0       51               1       14           3.0\n",
       "15        0       57               1       15           1.0\n",
       "16        0       59               1       16           1.0\n",
       "17        0       61               0       17           1.0\n",
       "18        0       75               0       18           1.0\n",
       "19        0       85               1       19           1.0\n",
       "20        0       88               0       20           1.0\n",
       "21        0       95               0       21           1.0\n",
       "22        0       96               0       22           1.0\n",
       "23        0       97               1       23           1.0\n",
       "24        0       98               0       24          25.0\n",
       "25        0       98               1       25           5.0\n",
       "26        0      111               0       26           1.0\n",
       "27        0      111               1       27           1.0\n",
       "28        0      115               1       28           1.0\n",
       "29        0      136               1       29           1.0\n",
       "30        0      149               0       30           3.0\n",
       "31        0      151               0       31           1.0\n",
       "32        0      152               1       32           1.0\n",
       "33        0      153               0       33           1.0\n",
       "34        0      153               1       34           2.0\n",
       "35        0      198               0       35           1.0\n",
       "36        0      199               1       36           1.0\n",
       "37        0      210               0       37           2.0\n",
       "38        0      228               1       38           1.0\n",
       "39        0      282               0       39           1.0\n",
       "40        0      306               0       40           1.0\n",
       "41        0      306               1       41           1.0\n",
       "42        0      308               1       42           1.0\n",
       "43        0      351               0       43           1.0\n",
       "44        0      407               1       44           1.0\n",
       "45        0      421               0       45           1.0\n",
       "46        0      438               0       46           1.0\n",
       "47        0      471               1       47           1.0\n",
       "48        0      479               1       48           1.0\n",
       "49        0      482               0       49           2.0"
      ]
     },
     "execution_count": 188,
     "metadata": {},
     "output_type": "execute_result"
    }
   ],
   "source": [
    "shop_item_mean.reset_index().head(50)"
   ]
  },
  {
   "cell_type": "code",
   "execution_count": 189,
   "metadata": {
    "ExecuteTime": {
     "end_time": "2020-11-13T23:41:43.189389Z",
     "start_time": "2020-11-13T23:41:43.156106Z"
    }
   },
   "outputs": [],
   "source": [
    "t = pd.DataFrame(shop_item_mean).reset_index()"
   ]
  },
  {
   "cell_type": "code",
   "execution_count": 193,
   "metadata": {
    "ExecuteTime": {
     "end_time": "2020-11-13T23:42:36.210525Z",
     "start_time": "2020-11-13T23:42:36.196989Z"
    }
   },
   "outputs": [
    {
     "data": {
      "text/html": [
       "<div>\n",
       "<style scoped>\n",
       "    .dataframe tbody tr th:only-of-type {\n",
       "        vertical-align: middle;\n",
       "    }\n",
       "\n",
       "    .dataframe tbody tr th {\n",
       "        vertical-align: top;\n",
       "    }\n",
       "\n",
       "    .dataframe thead th {\n",
       "        text-align: right;\n",
       "    }\n",
       "</style>\n",
       "<table border=\"1\" class=\"dataframe\">\n",
       "  <thead>\n",
       "    <tr style=\"text-align: right;\">\n",
       "      <th></th>\n",
       "      <th>shop_id</th>\n",
       "      <th>item_id</th>\n",
       "      <th>date_block_num</th>\n",
       "      <th>level_3</th>\n",
       "      <th>item_cnt_day</th>\n",
       "    </tr>\n",
       "  </thead>\n",
       "  <tbody>\n",
       "    <tr>\n",
       "      <th>2</th>\n",
       "      <td>0</td>\n",
       "      <td>32</td>\n",
       "      <td>0</td>\n",
       "      <td>2</td>\n",
       "      <td>6.0</td>\n",
       "    </tr>\n",
       "    <tr>\n",
       "      <th>3</th>\n",
       "      <td>0</td>\n",
       "      <td>32</td>\n",
       "      <td>1</td>\n",
       "      <td>3</td>\n",
       "      <td>10.0</td>\n",
       "    </tr>\n",
       "  </tbody>\n",
       "</table>\n",
       "</div>"
      ],
      "text/plain": [
       "   shop_id  item_id  date_block_num  level_3  item_cnt_day\n",
       "2        0       32               0        2           6.0\n",
       "3        0       32               1        3          10.0"
      ]
     },
     "execution_count": 193,
     "metadata": {},
     "output_type": "execute_result"
    }
   ],
   "source": [
    "t[(t['shop_id'] == 0) & (t['item_id'] == 32)]"
   ]
  },
  {
   "cell_type": "code",
   "execution_count": null,
   "metadata": {},
   "outputs": [],
   "source": [
    "t[(t['shop_id'] == 0) & (t['item_id'] == 98)]"
   ]
  },
  {
   "cell_type": "code",
   "execution_count": 194,
   "metadata": {
    "ExecuteTime": {
     "end_time": "2020-11-13T23:42:46.273627Z",
     "start_time": "2020-11-13T23:42:46.254557Z"
    }
   },
   "outputs": [
    {
     "data": {
      "text/html": [
       "<div>\n",
       "<style scoped>\n",
       "    .dataframe tbody tr th:only-of-type {\n",
       "        vertical-align: middle;\n",
       "    }\n",
       "\n",
       "    .dataframe tbody tr th {\n",
       "        vertical-align: top;\n",
       "    }\n",
       "\n",
       "    .dataframe thead th {\n",
       "        text-align: right;\n",
       "    }\n",
       "</style>\n",
       "<table border=\"1\" class=\"dataframe\">\n",
       "  <thead>\n",
       "    <tr style=\"text-align: right;\">\n",
       "      <th></th>\n",
       "      <th>date</th>\n",
       "      <th>date_block_num</th>\n",
       "      <th>shop_id</th>\n",
       "      <th>item_id</th>\n",
       "      <th>item_price</th>\n",
       "      <th>item_cnt_day</th>\n",
       "      <th>datetimestamp</th>\n",
       "    </tr>\n",
       "  </thead>\n",
       "  <tbody>\n",
       "    <tr>\n",
       "      <th>40085</th>\n",
       "      <td>03.01.2013</td>\n",
       "      <td>0</td>\n",
       "      <td>0</td>\n",
       "      <td>32</td>\n",
       "      <td>221.0</td>\n",
       "      <td>2.0</td>\n",
       "      <td>2013-01-03</td>\n",
       "    </tr>\n",
       "    <tr>\n",
       "      <th>40086</th>\n",
       "      <td>21.01.2013</td>\n",
       "      <td>0</td>\n",
       "      <td>0</td>\n",
       "      <td>32</td>\n",
       "      <td>221.0</td>\n",
       "      <td>2.0</td>\n",
       "      <td>2013-01-21</td>\n",
       "    </tr>\n",
       "    <tr>\n",
       "      <th>40087</th>\n",
       "      <td>25.01.2013</td>\n",
       "      <td>0</td>\n",
       "      <td>0</td>\n",
       "      <td>32</td>\n",
       "      <td>221.0</td>\n",
       "      <td>1.0</td>\n",
       "      <td>2013-01-25</td>\n",
       "    </tr>\n",
       "    <tr>\n",
       "      <th>40088</th>\n",
       "      <td>31.01.2013</td>\n",
       "      <td>0</td>\n",
       "      <td>0</td>\n",
       "      <td>32</td>\n",
       "      <td>221.0</td>\n",
       "      <td>1.0</td>\n",
       "      <td>2013-01-31</td>\n",
       "    </tr>\n",
       "    <tr>\n",
       "      <th>173447</th>\n",
       "      <td>25.02.2013</td>\n",
       "      <td>1</td>\n",
       "      <td>0</td>\n",
       "      <td>32</td>\n",
       "      <td>221.0</td>\n",
       "      <td>1.0</td>\n",
       "      <td>2013-02-25</td>\n",
       "    </tr>\n",
       "    <tr>\n",
       "      <th>173448</th>\n",
       "      <td>22.02.2013</td>\n",
       "      <td>1</td>\n",
       "      <td>0</td>\n",
       "      <td>32</td>\n",
       "      <td>221.0</td>\n",
       "      <td>2.0</td>\n",
       "      <td>2013-02-22</td>\n",
       "    </tr>\n",
       "    <tr>\n",
       "      <th>173449</th>\n",
       "      <td>16.02.2013</td>\n",
       "      <td>1</td>\n",
       "      <td>0</td>\n",
       "      <td>32</td>\n",
       "      <td>221.0</td>\n",
       "      <td>2.0</td>\n",
       "      <td>2013-02-16</td>\n",
       "    </tr>\n",
       "    <tr>\n",
       "      <th>173450</th>\n",
       "      <td>15.02.2013</td>\n",
       "      <td>1</td>\n",
       "      <td>0</td>\n",
       "      <td>32</td>\n",
       "      <td>221.0</td>\n",
       "      <td>1.0</td>\n",
       "      <td>2013-02-15</td>\n",
       "    </tr>\n",
       "    <tr>\n",
       "      <th>173452</th>\n",
       "      <td>12.02.2013</td>\n",
       "      <td>1</td>\n",
       "      <td>0</td>\n",
       "      <td>32</td>\n",
       "      <td>221.0</td>\n",
       "      <td>2.0</td>\n",
       "      <td>2013-02-12</td>\n",
       "    </tr>\n",
       "    <tr>\n",
       "      <th>173453</th>\n",
       "      <td>05.02.2013</td>\n",
       "      <td>1</td>\n",
       "      <td>0</td>\n",
       "      <td>32</td>\n",
       "      <td>221.0</td>\n",
       "      <td>1.0</td>\n",
       "      <td>2013-02-05</td>\n",
       "    </tr>\n",
       "    <tr>\n",
       "      <th>173460</th>\n",
       "      <td>06.02.2013</td>\n",
       "      <td>1</td>\n",
       "      <td>0</td>\n",
       "      <td>32</td>\n",
       "      <td>221.0</td>\n",
       "      <td>1.0</td>\n",
       "      <td>2013-02-06</td>\n",
       "    </tr>\n",
       "  </tbody>\n",
       "</table>\n",
       "</div>"
      ],
      "text/plain": [
       "              date  date_block_num  shop_id  item_id  item_price  \\\n",
       "40085   03.01.2013               0        0       32       221.0   \n",
       "40086   21.01.2013               0        0       32       221.0   \n",
       "40087   25.01.2013               0        0       32       221.0   \n",
       "40088   31.01.2013               0        0       32       221.0   \n",
       "173447  25.02.2013               1        0       32       221.0   \n",
       "173448  22.02.2013               1        0       32       221.0   \n",
       "173449  16.02.2013               1        0       32       221.0   \n",
       "173450  15.02.2013               1        0       32       221.0   \n",
       "173452  12.02.2013               1        0       32       221.0   \n",
       "173453  05.02.2013               1        0       32       221.0   \n",
       "173460  06.02.2013               1        0       32       221.0   \n",
       "\n",
       "        item_cnt_day datetimestamp  \n",
       "40085            2.0    2013-01-03  \n",
       "40086            2.0    2013-01-21  \n",
       "40087            1.0    2013-01-25  \n",
       "40088            1.0    2013-01-31  \n",
       "173447           1.0    2013-02-25  \n",
       "173448           2.0    2013-02-22  \n",
       "173449           2.0    2013-02-16  \n",
       "173450           1.0    2013-02-15  \n",
       "173452           2.0    2013-02-12  \n",
       "173453           1.0    2013-02-05  \n",
       "173460           1.0    2013-02-06  "
      ]
     },
     "execution_count": 194,
     "metadata": {},
     "output_type": "execute_result"
    }
   ],
   "source": [
    "df_sales_train[(df_sales_train['shop_id'] == 0) & (df_sales_train['item_id'] == 32)]"
   ]
  },
  {
   "cell_type": "code",
   "execution_count": null,
   "metadata": {},
   "outputs": [],
   "source": []
  },
  {
   "cell_type": "code",
   "execution_count": null,
   "metadata": {},
   "outputs": [],
   "source": [
    "df_sales_train"
   ]
  },
  {
   "cell_type": "code",
   "execution_count": 164,
   "metadata": {
    "ExecuteTime": {
     "end_time": "2020-11-13T21:30:08.170342Z",
     "start_time": "2020-11-13T21:29:33.894497Z"
    }
   },
   "outputs": [
    {
     "data": {
      "text/plain": [
       "shop_id  item_id         \n",
       "0        30       0          31.0\n",
       "         32       2           6.0\n",
       "         33       4           3.0\n",
       "         35       6           1.0\n",
       "         43       11          1.0\n",
       "                             ... \n",
       "59       22092    1195945     2.0\n",
       "         22130    1195971     2.0\n",
       "         22134    1195975     2.0\n",
       "         22151    1195986     2.0\n",
       "         22154    1195989     1.0\n",
       "Name: item_cnt_day, Length: 100000, dtype: float64"
      ]
     },
     "execution_count": 164,
     "metadata": {},
     "output_type": "execute_result"
    }
   ],
   "source": [
    "temp.reset_index().sort_values('date_block_num')[['shop_id', 'item_id', 'item_cnt_day']][:100000]\\\n",
    "    .groupby(['shop_id', 'item_id',])['item_cnt_day'].expanding().mean()"
   ]
  },
  {
   "cell_type": "code",
   "execution_count": null,
   "metadata": {},
   "outputs": [],
   "source": []
  },
  {
   "cell_type": "code",
   "execution_count": null,
   "metadata": {},
   "outputs": [],
   "source": [
    "temp = df_sales_train[['shop_id', 'item_id', 'date_block_num','item_cnt_day']][:100000]\\\n",
    "    .sort_values('date_block_num')\\\n",
    "    .groupby(['shop_id', 'item_id',])['item_cnt_day'].expanding().sum()"
   ]
  },
  {
   "cell_type": "code",
   "execution_count": 154,
   "metadata": {
    "ExecuteTime": {
     "end_time": "2020-11-13T21:24:50.278309Z",
     "start_time": "2020-11-13T21:24:26.486106Z"
    }
   },
   "outputs": [],
   "source": [
    "temp = df_sales_train[['shop_id', 'item_id', 'date_block_num','item_cnt_day']][:100000]\\\n",
    "    .sort_values('date_block_num')\\\n",
    "    .groupby(['shop_id', 'item_id', 'date_block_num'])['item_cnt_day'].expanding().sum()"
   ]
  },
  {
   "cell_type": "code",
   "execution_count": 155,
   "metadata": {
    "ExecuteTime": {
     "end_time": "2020-11-13T21:24:50.307820Z",
     "start_time": "2020-11-13T21:24:50.280265Z"
    },
    "scrolled": true
   },
   "outputs": [
    {
     "data": {
      "text/html": [
       "<div>\n",
       "<style scoped>\n",
       "    .dataframe tbody tr th:only-of-type {\n",
       "        vertical-align: middle;\n",
       "    }\n",
       "\n",
       "    .dataframe tbody tr th {\n",
       "        vertical-align: top;\n",
       "    }\n",
       "\n",
       "    .dataframe thead th {\n",
       "        text-align: right;\n",
       "    }\n",
       "</style>\n",
       "<table border=\"1\" class=\"dataframe\">\n",
       "  <thead>\n",
       "    <tr style=\"text-align: right;\">\n",
       "      <th></th>\n",
       "      <th></th>\n",
       "      <th></th>\n",
       "      <th>item_cnt_day</th>\n",
       "    </tr>\n",
       "    <tr>\n",
       "      <th>shop_id</th>\n",
       "      <th>item_id</th>\n",
       "      <th>date_block_num</th>\n",
       "      <th></th>\n",
       "    </tr>\n",
       "  </thead>\n",
       "  <tbody>\n",
       "    <tr>\n",
       "      <th rowspan=\"5\" valign=\"top\">0</th>\n",
       "      <th>32</th>\n",
       "      <th>0</th>\n",
       "      <td>13.0</td>\n",
       "    </tr>\n",
       "    <tr>\n",
       "      <th>33</th>\n",
       "      <th>0</th>\n",
       "      <td>6.0</td>\n",
       "    </tr>\n",
       "    <tr>\n",
       "      <th>35</th>\n",
       "      <th>0</th>\n",
       "      <td>1.0</td>\n",
       "    </tr>\n",
       "    <tr>\n",
       "      <th>43</th>\n",
       "      <th>0</th>\n",
       "      <td>1.0</td>\n",
       "    </tr>\n",
       "    <tr>\n",
       "      <th>51</th>\n",
       "      <th>0</th>\n",
       "      <td>3.0</td>\n",
       "    </tr>\n",
       "    <tr>\n",
       "      <th>...</th>\n",
       "      <th>...</th>\n",
       "      <th>...</th>\n",
       "      <td>...</td>\n",
       "    </tr>\n",
       "    <tr>\n",
       "      <th rowspan=\"5\" valign=\"top\">59</th>\n",
       "      <th>22092</th>\n",
       "      <th>0</th>\n",
       "      <td>2.0</td>\n",
       "    </tr>\n",
       "    <tr>\n",
       "      <th>22130</th>\n",
       "      <th>0</th>\n",
       "      <td>3.0</td>\n",
       "    </tr>\n",
       "    <tr>\n",
       "      <th>22134</th>\n",
       "      <th>0</th>\n",
       "      <td>2.0</td>\n",
       "    </tr>\n",
       "    <tr>\n",
       "      <th>22151</th>\n",
       "      <th>0</th>\n",
       "      <td>3.0</td>\n",
       "    </tr>\n",
       "    <tr>\n",
       "      <th>22154</th>\n",
       "      <th>0</th>\n",
       "      <td>1.0</td>\n",
       "    </tr>\n",
       "  </tbody>\n",
       "</table>\n",
       "<p>53880 rows × 1 columns</p>\n",
       "</div>"
      ],
      "text/plain": [
       "                                item_cnt_day\n",
       "shop_id item_id date_block_num              \n",
       "0       32      0                       13.0\n",
       "        33      0                        6.0\n",
       "        35      0                        1.0\n",
       "        43      0                        1.0\n",
       "        51      0                        3.0\n",
       "...                                      ...\n",
       "59      22092   0                        2.0\n",
       "        22130   0                        3.0\n",
       "        22134   0                        2.0\n",
       "        22151   0                        3.0\n",
       "        22154   0                        1.0\n",
       "\n",
       "[53880 rows x 1 columns]"
      ]
     },
     "execution_count": 155,
     "metadata": {},
     "output_type": "execute_result"
    }
   ],
   "source": [
    "pd.DataFrame(temp).reset_index()[['shop_id', 'item_id', 'date_block_num', 'item_cnt_day']]\\\n",
    "    .groupby(['shop_id', 'item_id', 'date_block_num']).sum()"
   ]
  },
  {
   "cell_type": "code",
   "execution_count": 156,
   "metadata": {
    "ExecuteTime": {
     "end_time": "2020-11-13T21:25:19.499819Z",
     "start_time": "2020-11-13T21:25:19.494347Z"
    }
   },
   "outputs": [
    {
     "data": {
      "text/plain": [
       "(100000,)"
      ]
     },
     "execution_count": 156,
     "metadata": {},
     "output_type": "execute_result"
    }
   ],
   "source": [
    "temp.shape"
   ]
  },
  {
   "cell_type": "code",
   "execution_count": null,
   "metadata": {},
   "outputs": [],
   "source": [
    "t = temp['item_cnt_day'].expanding().sum()"
   ]
  },
  {
   "cell_type": "code",
   "execution_count": 125,
   "metadata": {
    "ExecuteTime": {
     "end_time": "2020-11-13T21:09:08.486086Z",
     "start_time": "2020-11-13T21:09:08.420386Z"
    }
   },
   "outputs": [
    {
     "data": {
      "text/plain": [
       "array([0, 1, 2, 3, 4, 5, 6, 7, 8, 9])"
      ]
     },
     "execution_count": 125,
     "metadata": {},
     "output_type": "execute_result"
    }
   ],
   "source": [
    "temp.sort_index(level='date_block_num').reset_index()['date_block_num'].unique()"
   ]
  },
  {
   "cell_type": "code",
   "execution_count": 108,
   "metadata": {
    "ExecuteTime": {
     "end_time": "2020-11-13T19:14:21.599578Z",
     "start_time": "2020-11-13T19:14:21.579411Z"
    }
   },
   "outputs": [
    {
     "data": {
      "text/html": [
       "<div>\n",
       "<style scoped>\n",
       "    .dataframe tbody tr th:only-of-type {\n",
       "        vertical-align: middle;\n",
       "    }\n",
       "\n",
       "    .dataframe tbody tr th {\n",
       "        vertical-align: top;\n",
       "    }\n",
       "\n",
       "    .dataframe thead th {\n",
       "        text-align: right;\n",
       "    }\n",
       "</style>\n",
       "<table border=\"1\" class=\"dataframe\">\n",
       "  <thead>\n",
       "    <tr style=\"text-align: right;\">\n",
       "      <th></th>\n",
       "      <th></th>\n",
       "      <th></th>\n",
       "      <th></th>\n",
       "      <th>shop_id</th>\n",
       "      <th>item_id</th>\n",
       "      <th>date_block_num</th>\n",
       "      <th>item_cnt_day</th>\n",
       "    </tr>\n",
       "    <tr>\n",
       "      <th>shop_id</th>\n",
       "      <th>item_id</th>\n",
       "      <th>date_block_num</th>\n",
       "      <th></th>\n",
       "      <th></th>\n",
       "      <th></th>\n",
       "      <th></th>\n",
       "      <th></th>\n",
       "    </tr>\n",
       "  </thead>\n",
       "  <tbody>\n",
       "    <tr>\n",
       "      <th>25</th>\n",
       "      <th>2573</th>\n",
       "      <th>0</th>\n",
       "      <th>9</th>\n",
       "      <td>25.0</td>\n",
       "      <td>2573.0</td>\n",
       "      <td>0.0</td>\n",
       "      <td>3.0</td>\n",
       "    </tr>\n",
       "  </tbody>\n",
       "</table>\n",
       "</div>"
      ],
      "text/plain": [
       "                                  shop_id  item_id  date_block_num  \\\n",
       "shop_id item_id date_block_num                                       \n",
       "25      2573    0              9     25.0   2573.0             0.0   \n",
       "\n",
       "                                  item_cnt_day  \n",
       "shop_id item_id date_block_num                  \n",
       "25      2573    0              9           3.0  "
      ]
     },
     "execution_count": 108,
     "metadata": {},
     "output_type": "execute_result"
    }
   ],
   "source": [
    "t[(t['shop_id'] == 25) & (t['item_id'] == 2573) & (t['item_id'] == 2573) &(t['date_block_num'] == 0)]"
   ]
  },
  {
   "cell_type": "code",
   "execution_count": 104,
   "metadata": {
    "ExecuteTime": {
     "end_time": "2020-11-13T19:09:04.724402Z",
     "start_time": "2020-11-13T19:09:04.701525Z"
    },
    "scrolled": true
   },
   "outputs": [
    {
     "data": {
      "text/html": [
       "<div>\n",
       "<style scoped>\n",
       "    .dataframe tbody tr th:only-of-type {\n",
       "        vertical-align: middle;\n",
       "    }\n",
       "\n",
       "    .dataframe tbody tr th {\n",
       "        vertical-align: top;\n",
       "    }\n",
       "\n",
       "    .dataframe thead th {\n",
       "        text-align: right;\n",
       "    }\n",
       "</style>\n",
       "<table border=\"1\" class=\"dataframe\">\n",
       "  <thead>\n",
       "    <tr style=\"text-align: right;\">\n",
       "      <th></th>\n",
       "      <th></th>\n",
       "      <th></th>\n",
       "      <th></th>\n",
       "      <th>shop_id</th>\n",
       "      <th>item_id</th>\n",
       "      <th>date_block_num</th>\n",
       "      <th>item_cnt_day</th>\n",
       "    </tr>\n",
       "    <tr>\n",
       "      <th>shop_id</th>\n",
       "      <th>item_id</th>\n",
       "      <th>date_block_num</th>\n",
       "      <th></th>\n",
       "      <th></th>\n",
       "      <th></th>\n",
       "      <th></th>\n",
       "      <th></th>\n",
       "    </tr>\n",
       "  </thead>\n",
       "  <tbody>\n",
       "    <tr>\n",
       "      <th>59</th>\n",
       "      <th>22154</th>\n",
       "      <th>0</th>\n",
       "      <th>0</th>\n",
       "      <td>59.0</td>\n",
       "      <td>22154.0</td>\n",
       "      <td>0.0</td>\n",
       "      <td>1.0</td>\n",
       "    </tr>\n",
       "    <tr>\n",
       "      <th rowspan=\"49\" valign=\"top\">25</th>\n",
       "      <th rowspan=\"2\" valign=\"top\">2552</th>\n",
       "      <th rowspan=\"2\" valign=\"top\">0</th>\n",
       "      <th>1</th>\n",
       "      <td>25.0</td>\n",
       "      <td>2552.0</td>\n",
       "      <td>0.0</td>\n",
       "      <td>1.0</td>\n",
       "    </tr>\n",
       "    <tr>\n",
       "      <th>2</th>\n",
       "      <td>50.0</td>\n",
       "      <td>5104.0</td>\n",
       "      <td>0.0</td>\n",
       "      <td>0.0</td>\n",
       "    </tr>\n",
       "    <tr>\n",
       "      <th>2554</th>\n",
       "      <th>0</th>\n",
       "      <th>3</th>\n",
       "      <td>25.0</td>\n",
       "      <td>2554.0</td>\n",
       "      <td>0.0</td>\n",
       "      <td>1.0</td>\n",
       "    </tr>\n",
       "    <tr>\n",
       "      <th>2555</th>\n",
       "      <th>0</th>\n",
       "      <th>4</th>\n",
       "      <td>25.0</td>\n",
       "      <td>2555.0</td>\n",
       "      <td>0.0</td>\n",
       "      <td>1.0</td>\n",
       "    </tr>\n",
       "    <tr>\n",
       "      <th>2564</th>\n",
       "      <th>0</th>\n",
       "      <th>5</th>\n",
       "      <td>25.0</td>\n",
       "      <td>2564.0</td>\n",
       "      <td>0.0</td>\n",
       "      <td>1.0</td>\n",
       "    </tr>\n",
       "    <tr>\n",
       "      <th>2565</th>\n",
       "      <th>0</th>\n",
       "      <th>6</th>\n",
       "      <td>25.0</td>\n",
       "      <td>2565.0</td>\n",
       "      <td>0.0</td>\n",
       "      <td>1.0</td>\n",
       "    </tr>\n",
       "    <tr>\n",
       "      <th rowspan=\"2\" valign=\"top\">2572</th>\n",
       "      <th rowspan=\"2\" valign=\"top\">0</th>\n",
       "      <th>7</th>\n",
       "      <td>25.0</td>\n",
       "      <td>2572.0</td>\n",
       "      <td>0.0</td>\n",
       "      <td>1.0</td>\n",
       "    </tr>\n",
       "    <tr>\n",
       "      <th>8</th>\n",
       "      <td>50.0</td>\n",
       "      <td>5144.0</td>\n",
       "      <td>0.0</td>\n",
       "      <td>2.0</td>\n",
       "    </tr>\n",
       "    <tr>\n",
       "      <th>2573</th>\n",
       "      <th>0</th>\n",
       "      <th>9</th>\n",
       "      <td>25.0</td>\n",
       "      <td>2573.0</td>\n",
       "      <td>0.0</td>\n",
       "      <td>3.0</td>\n",
       "    </tr>\n",
       "    <tr>\n",
       "      <th rowspan=\"10\" valign=\"top\">2574</th>\n",
       "      <th rowspan=\"10\" valign=\"top\">0</th>\n",
       "      <th>10</th>\n",
       "      <td>25.0</td>\n",
       "      <td>2574.0</td>\n",
       "      <td>0.0</td>\n",
       "      <td>2.0</td>\n",
       "    </tr>\n",
       "    <tr>\n",
       "      <th>11</th>\n",
       "      <td>50.0</td>\n",
       "      <td>5148.0</td>\n",
       "      <td>0.0</td>\n",
       "      <td>3.0</td>\n",
       "    </tr>\n",
       "    <tr>\n",
       "      <th>12</th>\n",
       "      <td>75.0</td>\n",
       "      <td>7722.0</td>\n",
       "      <td>0.0</td>\n",
       "      <td>4.0</td>\n",
       "    </tr>\n",
       "    <tr>\n",
       "      <th>13</th>\n",
       "      <td>100.0</td>\n",
       "      <td>10296.0</td>\n",
       "      <td>0.0</td>\n",
       "      <td>6.0</td>\n",
       "    </tr>\n",
       "    <tr>\n",
       "      <th>14</th>\n",
       "      <td>125.0</td>\n",
       "      <td>12870.0</td>\n",
       "      <td>0.0</td>\n",
       "      <td>7.0</td>\n",
       "    </tr>\n",
       "    <tr>\n",
       "      <th>15</th>\n",
       "      <td>150.0</td>\n",
       "      <td>15444.0</td>\n",
       "      <td>0.0</td>\n",
       "      <td>9.0</td>\n",
       "    </tr>\n",
       "    <tr>\n",
       "      <th>16</th>\n",
       "      <td>175.0</td>\n",
       "      <td>18018.0</td>\n",
       "      <td>0.0</td>\n",
       "      <td>10.0</td>\n",
       "    </tr>\n",
       "    <tr>\n",
       "      <th>17</th>\n",
       "      <td>200.0</td>\n",
       "      <td>20592.0</td>\n",
       "      <td>0.0</td>\n",
       "      <td>11.0</td>\n",
       "    </tr>\n",
       "    <tr>\n",
       "      <th>18</th>\n",
       "      <td>225.0</td>\n",
       "      <td>23166.0</td>\n",
       "      <td>0.0</td>\n",
       "      <td>12.0</td>\n",
       "    </tr>\n",
       "    <tr>\n",
       "      <th>19</th>\n",
       "      <td>250.0</td>\n",
       "      <td>25740.0</td>\n",
       "      <td>0.0</td>\n",
       "      <td>13.0</td>\n",
       "    </tr>\n",
       "    <tr>\n",
       "      <th>2593</th>\n",
       "      <th>0</th>\n",
       "      <th>20</th>\n",
       "      <td>25.0</td>\n",
       "      <td>2593.0</td>\n",
       "      <td>0.0</td>\n",
       "      <td>1.0</td>\n",
       "    </tr>\n",
       "    <tr>\n",
       "      <th rowspan=\"2\" valign=\"top\">2604</th>\n",
       "      <th rowspan=\"2\" valign=\"top\">0</th>\n",
       "      <th>21</th>\n",
       "      <td>25.0</td>\n",
       "      <td>2604.0</td>\n",
       "      <td>0.0</td>\n",
       "      <td>1.0</td>\n",
       "    </tr>\n",
       "    <tr>\n",
       "      <th>22</th>\n",
       "      <td>50.0</td>\n",
       "      <td>5208.0</td>\n",
       "      <td>0.0</td>\n",
       "      <td>2.0</td>\n",
       "    </tr>\n",
       "    <tr>\n",
       "      <th rowspan=\"2\" valign=\"top\">2607</th>\n",
       "      <th rowspan=\"2\" valign=\"top\">0</th>\n",
       "      <th>23</th>\n",
       "      <td>25.0</td>\n",
       "      <td>2607.0</td>\n",
       "      <td>0.0</td>\n",
       "      <td>1.0</td>\n",
       "    </tr>\n",
       "    <tr>\n",
       "      <th>24</th>\n",
       "      <td>50.0</td>\n",
       "      <td>5214.0</td>\n",
       "      <td>0.0</td>\n",
       "      <td>2.0</td>\n",
       "    </tr>\n",
       "    <tr>\n",
       "      <th>2609</th>\n",
       "      <th>0</th>\n",
       "      <th>25</th>\n",
       "      <td>25.0</td>\n",
       "      <td>2609.0</td>\n",
       "      <td>0.0</td>\n",
       "      <td>1.0</td>\n",
       "    </tr>\n",
       "    <tr>\n",
       "      <th>2548</th>\n",
       "      <th>0</th>\n",
       "      <th>26</th>\n",
       "      <td>25.0</td>\n",
       "      <td>2548.0</td>\n",
       "      <td>0.0</td>\n",
       "      <td>1.0</td>\n",
       "    </tr>\n",
       "    <tr>\n",
       "      <th>2611</th>\n",
       "      <th>0</th>\n",
       "      <th>27</th>\n",
       "      <td>25.0</td>\n",
       "      <td>2611.0</td>\n",
       "      <td>0.0</td>\n",
       "      <td>1.0</td>\n",
       "    </tr>\n",
       "    <tr>\n",
       "      <th>2546</th>\n",
       "      <th>0</th>\n",
       "      <th>28</th>\n",
       "      <td>25.0</td>\n",
       "      <td>2546.0</td>\n",
       "      <td>0.0</td>\n",
       "      <td>1.0</td>\n",
       "    </tr>\n",
       "    <tr>\n",
       "      <th>2515</th>\n",
       "      <th>0</th>\n",
       "      <th>29</th>\n",
       "      <td>25.0</td>\n",
       "      <td>2515.0</td>\n",
       "      <td>0.0</td>\n",
       "      <td>1.0</td>\n",
       "    </tr>\n",
       "    <tr>\n",
       "      <th rowspan=\"3\" valign=\"top\">2705</th>\n",
       "      <th rowspan=\"3\" valign=\"top\">0</th>\n",
       "      <th>30</th>\n",
       "      <td>25.0</td>\n",
       "      <td>2705.0</td>\n",
       "      <td>0.0</td>\n",
       "      <td>1.0</td>\n",
       "    </tr>\n",
       "    <tr>\n",
       "      <th>31</th>\n",
       "      <td>50.0</td>\n",
       "      <td>5410.0</td>\n",
       "      <td>0.0</td>\n",
       "      <td>2.0</td>\n",
       "    </tr>\n",
       "    <tr>\n",
       "      <th>32</th>\n",
       "      <td>75.0</td>\n",
       "      <td>8115.0</td>\n",
       "      <td>0.0</td>\n",
       "      <td>3.0</td>\n",
       "    </tr>\n",
       "    <tr>\n",
       "      <th rowspan=\"2\" valign=\"top\">2715</th>\n",
       "      <th rowspan=\"2\" valign=\"top\">0</th>\n",
       "      <th>33</th>\n",
       "      <td>25.0</td>\n",
       "      <td>2715.0</td>\n",
       "      <td>0.0</td>\n",
       "      <td>1.0</td>\n",
       "    </tr>\n",
       "    <tr>\n",
       "      <th>34</th>\n",
       "      <td>50.0</td>\n",
       "      <td>5430.0</td>\n",
       "      <td>0.0</td>\n",
       "      <td>2.0</td>\n",
       "    </tr>\n",
       "    <tr>\n",
       "      <th rowspan=\"2\" valign=\"top\">2716</th>\n",
       "      <th rowspan=\"2\" valign=\"top\">0</th>\n",
       "      <th>35</th>\n",
       "      <td>25.0</td>\n",
       "      <td>2716.0</td>\n",
       "      <td>0.0</td>\n",
       "      <td>1.0</td>\n",
       "    </tr>\n",
       "    <tr>\n",
       "      <th>36</th>\n",
       "      <td>50.0</td>\n",
       "      <td>5432.0</td>\n",
       "      <td>0.0</td>\n",
       "      <td>2.0</td>\n",
       "    </tr>\n",
       "    <tr>\n",
       "      <th rowspan=\"3\" valign=\"top\">2719</th>\n",
       "      <th rowspan=\"3\" valign=\"top\">0</th>\n",
       "      <th>37</th>\n",
       "      <td>25.0</td>\n",
       "      <td>2719.0</td>\n",
       "      <td>0.0</td>\n",
       "      <td>1.0</td>\n",
       "    </tr>\n",
       "    <tr>\n",
       "      <th>38</th>\n",
       "      <td>50.0</td>\n",
       "      <td>5438.0</td>\n",
       "      <td>0.0</td>\n",
       "      <td>2.0</td>\n",
       "    </tr>\n",
       "    <tr>\n",
       "      <th>39</th>\n",
       "      <td>75.0</td>\n",
       "      <td>8157.0</td>\n",
       "      <td>0.0</td>\n",
       "      <td>3.0</td>\n",
       "    </tr>\n",
       "    <tr>\n",
       "      <th>2720</th>\n",
       "      <th>0</th>\n",
       "      <th>40</th>\n",
       "      <td>25.0</td>\n",
       "      <td>2720.0</td>\n",
       "      <td>0.0</td>\n",
       "      <td>1.0</td>\n",
       "    </tr>\n",
       "    <tr>\n",
       "      <th>2473</th>\n",
       "      <th>0</th>\n",
       "      <th>41</th>\n",
       "      <td>25.0</td>\n",
       "      <td>2473.0</td>\n",
       "      <td>0.0</td>\n",
       "      <td>1.0</td>\n",
       "    </tr>\n",
       "    <tr>\n",
       "      <th>2480</th>\n",
       "      <th>0</th>\n",
       "      <th>42</th>\n",
       "      <td>25.0</td>\n",
       "      <td>2480.0</td>\n",
       "      <td>0.0</td>\n",
       "      <td>1.0</td>\n",
       "    </tr>\n",
       "    <tr>\n",
       "      <th rowspan=\"2\" valign=\"top\">2731</th>\n",
       "      <th rowspan=\"2\" valign=\"top\">0</th>\n",
       "      <th>43</th>\n",
       "      <td>25.0</td>\n",
       "      <td>2731.0</td>\n",
       "      <td>0.0</td>\n",
       "      <td>1.0</td>\n",
       "    </tr>\n",
       "    <tr>\n",
       "      <th>44</th>\n",
       "      <td>50.0</td>\n",
       "      <td>5462.0</td>\n",
       "      <td>0.0</td>\n",
       "      <td>2.0</td>\n",
       "    </tr>\n",
       "    <tr>\n",
       "      <th rowspan=\"5\" valign=\"top\">2746</th>\n",
       "      <th rowspan=\"5\" valign=\"top\">0</th>\n",
       "      <th>45</th>\n",
       "      <td>25.0</td>\n",
       "      <td>2746.0</td>\n",
       "      <td>0.0</td>\n",
       "      <td>1.0</td>\n",
       "    </tr>\n",
       "    <tr>\n",
       "      <th>46</th>\n",
       "      <td>50.0</td>\n",
       "      <td>5492.0</td>\n",
       "      <td>0.0</td>\n",
       "      <td>2.0</td>\n",
       "    </tr>\n",
       "    <tr>\n",
       "      <th>47</th>\n",
       "      <td>75.0</td>\n",
       "      <td>8238.0</td>\n",
       "      <td>0.0</td>\n",
       "      <td>4.0</td>\n",
       "    </tr>\n",
       "    <tr>\n",
       "      <th>48</th>\n",
       "      <td>100.0</td>\n",
       "      <td>10984.0</td>\n",
       "      <td>0.0</td>\n",
       "      <td>5.0</td>\n",
       "    </tr>\n",
       "    <tr>\n",
       "      <th>49</th>\n",
       "      <td>125.0</td>\n",
       "      <td>13730.0</td>\n",
       "      <td>0.0</td>\n",
       "      <td>6.0</td>\n",
       "    </tr>\n",
       "  </tbody>\n",
       "</table>\n",
       "</div>"
      ],
      "text/plain": [
       "                                   shop_id  item_id  date_block_num  \\\n",
       "shop_id item_id date_block_num                                        \n",
       "59      22154   0              0      59.0  22154.0             0.0   \n",
       "25      2552    0              1      25.0   2552.0             0.0   \n",
       "                               2      50.0   5104.0             0.0   \n",
       "        2554    0              3      25.0   2554.0             0.0   \n",
       "        2555    0              4      25.0   2555.0             0.0   \n",
       "        2564    0              5      25.0   2564.0             0.0   \n",
       "        2565    0              6      25.0   2565.0             0.0   \n",
       "        2572    0              7      25.0   2572.0             0.0   \n",
       "                               8      50.0   5144.0             0.0   \n",
       "        2573    0              9      25.0   2573.0             0.0   \n",
       "        2574    0              10     25.0   2574.0             0.0   \n",
       "                               11     50.0   5148.0             0.0   \n",
       "                               12     75.0   7722.0             0.0   \n",
       "                               13    100.0  10296.0             0.0   \n",
       "                               14    125.0  12870.0             0.0   \n",
       "                               15    150.0  15444.0             0.0   \n",
       "                               16    175.0  18018.0             0.0   \n",
       "                               17    200.0  20592.0             0.0   \n",
       "                               18    225.0  23166.0             0.0   \n",
       "                               19    250.0  25740.0             0.0   \n",
       "        2593    0              20     25.0   2593.0             0.0   \n",
       "        2604    0              21     25.0   2604.0             0.0   \n",
       "                               22     50.0   5208.0             0.0   \n",
       "        2607    0              23     25.0   2607.0             0.0   \n",
       "                               24     50.0   5214.0             0.0   \n",
       "        2609    0              25     25.0   2609.0             0.0   \n",
       "        2548    0              26     25.0   2548.0             0.0   \n",
       "        2611    0              27     25.0   2611.0             0.0   \n",
       "        2546    0              28     25.0   2546.0             0.0   \n",
       "        2515    0              29     25.0   2515.0             0.0   \n",
       "        2705    0              30     25.0   2705.0             0.0   \n",
       "                               31     50.0   5410.0             0.0   \n",
       "                               32     75.0   8115.0             0.0   \n",
       "        2715    0              33     25.0   2715.0             0.0   \n",
       "                               34     50.0   5430.0             0.0   \n",
       "        2716    0              35     25.0   2716.0             0.0   \n",
       "                               36     50.0   5432.0             0.0   \n",
       "        2719    0              37     25.0   2719.0             0.0   \n",
       "                               38     50.0   5438.0             0.0   \n",
       "                               39     75.0   8157.0             0.0   \n",
       "        2720    0              40     25.0   2720.0             0.0   \n",
       "        2473    0              41     25.0   2473.0             0.0   \n",
       "        2480    0              42     25.0   2480.0             0.0   \n",
       "        2731    0              43     25.0   2731.0             0.0   \n",
       "                               44     50.0   5462.0             0.0   \n",
       "        2746    0              45     25.0   2746.0             0.0   \n",
       "                               46     50.0   5492.0             0.0   \n",
       "                               47     75.0   8238.0             0.0   \n",
       "                               48    100.0  10984.0             0.0   \n",
       "                               49    125.0  13730.0             0.0   \n",
       "\n",
       "                                   item_cnt_day  \n",
       "shop_id item_id date_block_num                   \n",
       "59      22154   0              0            1.0  \n",
       "25      2552    0              1            1.0  \n",
       "                               2            0.0  \n",
       "        2554    0              3            1.0  \n",
       "        2555    0              4            1.0  \n",
       "        2564    0              5            1.0  \n",
       "        2565    0              6            1.0  \n",
       "        2572    0              7            1.0  \n",
       "                               8            2.0  \n",
       "        2573    0              9            3.0  \n",
       "        2574    0              10           2.0  \n",
       "                               11           3.0  \n",
       "                               12           4.0  \n",
       "                               13           6.0  \n",
       "                               14           7.0  \n",
       "                               15           9.0  \n",
       "                               16          10.0  \n",
       "                               17          11.0  \n",
       "                               18          12.0  \n",
       "                               19          13.0  \n",
       "        2593    0              20           1.0  \n",
       "        2604    0              21           1.0  \n",
       "                               22           2.0  \n",
       "        2607    0              23           1.0  \n",
       "                               24           2.0  \n",
       "        2609    0              25           1.0  \n",
       "        2548    0              26           1.0  \n",
       "        2611    0              27           1.0  \n",
       "        2546    0              28           1.0  \n",
       "        2515    0              29           1.0  \n",
       "        2705    0              30           1.0  \n",
       "                               31           2.0  \n",
       "                               32           3.0  \n",
       "        2715    0              33           1.0  \n",
       "                               34           2.0  \n",
       "        2716    0              35           1.0  \n",
       "                               36           2.0  \n",
       "        2719    0              37           1.0  \n",
       "                               38           2.0  \n",
       "                               39           3.0  \n",
       "        2720    0              40           1.0  \n",
       "        2473    0              41           1.0  \n",
       "        2480    0              42           1.0  \n",
       "        2731    0              43           1.0  \n",
       "                               44           2.0  \n",
       "        2746    0              45           1.0  \n",
       "                               46           2.0  \n",
       "                               47           4.0  \n",
       "                               48           5.0  \n",
       "                               49           6.0  "
      ]
     },
     "execution_count": 104,
     "metadata": {},
     "output_type": "execute_result"
    }
   ],
   "source": [
    "t.sort_index(level=3).head(50)"
   ]
  },
  {
   "cell_type": "code",
   "execution_count": 91,
   "metadata": {
    "ExecuteTime": {
     "end_time": "2020-11-13T18:57:47.768975Z",
     "start_time": "2020-11-13T18:57:47.760765Z"
    }
   },
   "outputs": [
    {
     "data": {
      "text/plain": [
       "(2192637, 7)"
      ]
     },
     "execution_count": 91,
     "metadata": {},
     "output_type": "execute_result"
    }
   ],
   "source": [
    "df_sales_train.shape"
   ]
  },
  {
   "cell_type": "code",
   "execution_count": 92,
   "metadata": {
    "ExecuteTime": {
     "end_time": "2020-11-13T18:57:47.794086Z",
     "start_time": "2020-11-13T18:57:47.773386Z"
    }
   },
   "outputs": [
    {
     "data": {
      "text/html": [
       "<div>\n",
       "<style scoped>\n",
       "    .dataframe tbody tr th:only-of-type {\n",
       "        vertical-align: middle;\n",
       "    }\n",
       "\n",
       "    .dataframe tbody tr th {\n",
       "        vertical-align: top;\n",
       "    }\n",
       "\n",
       "    .dataframe thead th {\n",
       "        text-align: right;\n",
       "    }\n",
       "</style>\n",
       "<table border=\"1\" class=\"dataframe\">\n",
       "  <thead>\n",
       "    <tr style=\"text-align: right;\">\n",
       "      <th></th>\n",
       "      <th></th>\n",
       "      <th></th>\n",
       "      <th>item_cnt_day</th>\n",
       "    </tr>\n",
       "    <tr>\n",
       "      <th>shop_id</th>\n",
       "      <th>item_id</th>\n",
       "      <th>date_block_num</th>\n",
       "      <th></th>\n",
       "    </tr>\n",
       "  </thead>\n",
       "  <tbody>\n",
       "    <tr>\n",
       "      <th rowspan=\"5\" valign=\"top\">18</th>\n",
       "      <th>22061</th>\n",
       "      <th>0</th>\n",
       "      <td>1.0</td>\n",
       "    </tr>\n",
       "    <tr>\n",
       "      <th>22091</th>\n",
       "      <th>0</th>\n",
       "      <td>2.0</td>\n",
       "    </tr>\n",
       "    <tr>\n",
       "      <th>22092</th>\n",
       "      <th>0</th>\n",
       "      <td>1.5</td>\n",
       "    </tr>\n",
       "    <tr>\n",
       "      <th>22134</th>\n",
       "      <th>0</th>\n",
       "      <td>1.0</td>\n",
       "    </tr>\n",
       "    <tr>\n",
       "      <th>22135</th>\n",
       "      <th>0</th>\n",
       "      <td>1.0</td>\n",
       "    </tr>\n",
       "    <tr>\n",
       "      <th>...</th>\n",
       "      <th>...</th>\n",
       "      <th>...</th>\n",
       "      <td>...</td>\n",
       "    </tr>\n",
       "    <tr>\n",
       "      <th rowspan=\"4\" valign=\"top\">25</th>\n",
       "      <th>17916</th>\n",
       "      <th>0</th>\n",
       "      <td>1.0</td>\n",
       "    </tr>\n",
       "    <tr>\n",
       "      <th>18014</th>\n",
       "      <th>0</th>\n",
       "      <td>1.0</td>\n",
       "    </tr>\n",
       "    <tr>\n",
       "      <th>18022</th>\n",
       "      <th>0</th>\n",
       "      <td>1.0</td>\n",
       "    </tr>\n",
       "    <tr>\n",
       "      <th>18058</th>\n",
       "      <th>0</th>\n",
       "      <td>1.0</td>\n",
       "    </tr>\n",
       "    <tr>\n",
       "      <th>59</th>\n",
       "      <th>22154</th>\n",
       "      <th>0</th>\n",
       "      <td>1.0</td>\n",
       "    </tr>\n",
       "  </tbody>\n",
       "</table>\n",
       "<p>5009 rows × 1 columns</p>\n",
       "</div>"
      ],
      "text/plain": [
       "                                item_cnt_day\n",
       "shop_id item_id date_block_num              \n",
       "18      22061   0                        1.0\n",
       "        22091   0                        2.0\n",
       "        22092   0                        1.5\n",
       "        22134   0                        1.0\n",
       "        22135   0                        1.0\n",
       "...                                      ...\n",
       "25      17916   0                        1.0\n",
       "        18014   0                        1.0\n",
       "        18022   0                        1.0\n",
       "        18058   0                        1.0\n",
       "59      22154   0                        1.0\n",
       "\n",
       "[5009 rows x 1 columns]"
      ]
     },
     "execution_count": 92,
     "metadata": {},
     "output_type": "execute_result"
    }
   ],
   "source": [
    "temp.mean()"
   ]
  },
  {
   "cell_type": "code",
   "execution_count": 93,
   "metadata": {
    "ExecuteTime": {
     "end_time": "2020-11-13T18:57:47.804769Z",
     "start_time": "2020-11-13T18:57:47.796509Z"
    }
   },
   "outputs": [],
   "source": [
    "t = t.reset_index()"
   ]
  },
  {
   "cell_type": "code",
   "execution_count": 94,
   "metadata": {
    "ExecuteTime": {
     "end_time": "2020-11-13T18:57:47.820510Z",
     "start_time": "2020-11-13T18:57:47.807308Z"
    },
    "scrolled": true
   },
   "outputs": [
    {
     "data": {
      "text/html": [
       "<div>\n",
       "<style scoped>\n",
       "    .dataframe tbody tr th:only-of-type {\n",
       "        vertical-align: middle;\n",
       "    }\n",
       "\n",
       "    .dataframe tbody tr th {\n",
       "        vertical-align: top;\n",
       "    }\n",
       "\n",
       "    .dataframe thead th {\n",
       "        text-align: right;\n",
       "    }\n",
       "</style>\n",
       "<table border=\"1\" class=\"dataframe\">\n",
       "  <thead>\n",
       "    <tr style=\"text-align: right;\">\n",
       "      <th></th>\n",
       "      <th>shop_id</th>\n",
       "      <th>item_id</th>\n",
       "      <th>date_block_num</th>\n",
       "      <th>level_3</th>\n",
       "      <th>item_cnt_day</th>\n",
       "    </tr>\n",
       "  </thead>\n",
       "  <tbody>\n",
       "    <tr>\n",
       "      <th>9999</th>\n",
       "      <td>59</td>\n",
       "      <td>22154</td>\n",
       "      <td>0</td>\n",
       "      <td>0</td>\n",
       "      <td>1.0</td>\n",
       "    </tr>\n",
       "    <tr>\n",
       "      <th>4927</th>\n",
       "      <td>25</td>\n",
       "      <td>2552</td>\n",
       "      <td>0</td>\n",
       "      <td>1</td>\n",
       "      <td>1.0</td>\n",
       "    </tr>\n",
       "    <tr>\n",
       "      <th>4928</th>\n",
       "      <td>25</td>\n",
       "      <td>2552</td>\n",
       "      <td>0</td>\n",
       "      <td>2</td>\n",
       "      <td>0.0</td>\n",
       "    </tr>\n",
       "    <tr>\n",
       "      <th>4929</th>\n",
       "      <td>25</td>\n",
       "      <td>2554</td>\n",
       "      <td>0</td>\n",
       "      <td>3</td>\n",
       "      <td>1.0</td>\n",
       "    </tr>\n",
       "    <tr>\n",
       "      <th>4930</th>\n",
       "      <td>25</td>\n",
       "      <td>2555</td>\n",
       "      <td>0</td>\n",
       "      <td>4</td>\n",
       "      <td>1.0</td>\n",
       "    </tr>\n",
       "    <tr>\n",
       "      <th>4931</th>\n",
       "      <td>25</td>\n",
       "      <td>2564</td>\n",
       "      <td>0</td>\n",
       "      <td>5</td>\n",
       "      <td>1.0</td>\n",
       "    </tr>\n",
       "    <tr>\n",
       "      <th>4932</th>\n",
       "      <td>25</td>\n",
       "      <td>2565</td>\n",
       "      <td>0</td>\n",
       "      <td>6</td>\n",
       "      <td>1.0</td>\n",
       "    </tr>\n",
       "    <tr>\n",
       "      <th>4933</th>\n",
       "      <td>25</td>\n",
       "      <td>2572</td>\n",
       "      <td>0</td>\n",
       "      <td>7</td>\n",
       "      <td>1.0</td>\n",
       "    </tr>\n",
       "    <tr>\n",
       "      <th>4934</th>\n",
       "      <td>25</td>\n",
       "      <td>2572</td>\n",
       "      <td>0</td>\n",
       "      <td>8</td>\n",
       "      <td>2.0</td>\n",
       "    </tr>\n",
       "    <tr>\n",
       "      <th>4935</th>\n",
       "      <td>25</td>\n",
       "      <td>2573</td>\n",
       "      <td>0</td>\n",
       "      <td>9</td>\n",
       "      <td>3.0</td>\n",
       "    </tr>\n",
       "    <tr>\n",
       "      <th>4936</th>\n",
       "      <td>25</td>\n",
       "      <td>2574</td>\n",
       "      <td>0</td>\n",
       "      <td>10</td>\n",
       "      <td>2.0</td>\n",
       "    </tr>\n",
       "    <tr>\n",
       "      <th>4937</th>\n",
       "      <td>25</td>\n",
       "      <td>2574</td>\n",
       "      <td>0</td>\n",
       "      <td>11</td>\n",
       "      <td>3.0</td>\n",
       "    </tr>\n",
       "    <tr>\n",
       "      <th>4938</th>\n",
       "      <td>25</td>\n",
       "      <td>2574</td>\n",
       "      <td>0</td>\n",
       "      <td>12</td>\n",
       "      <td>4.0</td>\n",
       "    </tr>\n",
       "    <tr>\n",
       "      <th>4939</th>\n",
       "      <td>25</td>\n",
       "      <td>2574</td>\n",
       "      <td>0</td>\n",
       "      <td>13</td>\n",
       "      <td>6.0</td>\n",
       "    </tr>\n",
       "    <tr>\n",
       "      <th>4940</th>\n",
       "      <td>25</td>\n",
       "      <td>2574</td>\n",
       "      <td>0</td>\n",
       "      <td>14</td>\n",
       "      <td>7.0</td>\n",
       "    </tr>\n",
       "    <tr>\n",
       "      <th>4941</th>\n",
       "      <td>25</td>\n",
       "      <td>2574</td>\n",
       "      <td>0</td>\n",
       "      <td>15</td>\n",
       "      <td>9.0</td>\n",
       "    </tr>\n",
       "    <tr>\n",
       "      <th>4942</th>\n",
       "      <td>25</td>\n",
       "      <td>2574</td>\n",
       "      <td>0</td>\n",
       "      <td>16</td>\n",
       "      <td>10.0</td>\n",
       "    </tr>\n",
       "    <tr>\n",
       "      <th>4943</th>\n",
       "      <td>25</td>\n",
       "      <td>2574</td>\n",
       "      <td>0</td>\n",
       "      <td>17</td>\n",
       "      <td>11.0</td>\n",
       "    </tr>\n",
       "    <tr>\n",
       "      <th>4944</th>\n",
       "      <td>25</td>\n",
       "      <td>2574</td>\n",
       "      <td>0</td>\n",
       "      <td>18</td>\n",
       "      <td>12.0</td>\n",
       "    </tr>\n",
       "    <tr>\n",
       "      <th>4945</th>\n",
       "      <td>25</td>\n",
       "      <td>2574</td>\n",
       "      <td>0</td>\n",
       "      <td>19</td>\n",
       "      <td>13.0</td>\n",
       "    </tr>\n",
       "    <tr>\n",
       "      <th>4946</th>\n",
       "      <td>25</td>\n",
       "      <td>2593</td>\n",
       "      <td>0</td>\n",
       "      <td>20</td>\n",
       "      <td>1.0</td>\n",
       "    </tr>\n",
       "    <tr>\n",
       "      <th>4947</th>\n",
       "      <td>25</td>\n",
       "      <td>2604</td>\n",
       "      <td>0</td>\n",
       "      <td>21</td>\n",
       "      <td>1.0</td>\n",
       "    </tr>\n",
       "    <tr>\n",
       "      <th>4948</th>\n",
       "      <td>25</td>\n",
       "      <td>2604</td>\n",
       "      <td>0</td>\n",
       "      <td>22</td>\n",
       "      <td>2.0</td>\n",
       "    </tr>\n",
       "    <tr>\n",
       "      <th>4949</th>\n",
       "      <td>25</td>\n",
       "      <td>2607</td>\n",
       "      <td>0</td>\n",
       "      <td>23</td>\n",
       "      <td>1.0</td>\n",
       "    </tr>\n",
       "    <tr>\n",
       "      <th>4950</th>\n",
       "      <td>25</td>\n",
       "      <td>2607</td>\n",
       "      <td>0</td>\n",
       "      <td>24</td>\n",
       "      <td>2.0</td>\n",
       "    </tr>\n",
       "    <tr>\n",
       "      <th>4951</th>\n",
       "      <td>25</td>\n",
       "      <td>2609</td>\n",
       "      <td>0</td>\n",
       "      <td>25</td>\n",
       "      <td>1.0</td>\n",
       "    </tr>\n",
       "    <tr>\n",
       "      <th>4926</th>\n",
       "      <td>25</td>\n",
       "      <td>2548</td>\n",
       "      <td>0</td>\n",
       "      <td>26</td>\n",
       "      <td>1.0</td>\n",
       "    </tr>\n",
       "    <tr>\n",
       "      <th>4952</th>\n",
       "      <td>25</td>\n",
       "      <td>2611</td>\n",
       "      <td>0</td>\n",
       "      <td>27</td>\n",
       "      <td>1.0</td>\n",
       "    </tr>\n",
       "    <tr>\n",
       "      <th>4925</th>\n",
       "      <td>25</td>\n",
       "      <td>2546</td>\n",
       "      <td>0</td>\n",
       "      <td>28</td>\n",
       "      <td>1.0</td>\n",
       "    </tr>\n",
       "    <tr>\n",
       "      <th>4923</th>\n",
       "      <td>25</td>\n",
       "      <td>2515</td>\n",
       "      <td>0</td>\n",
       "      <td>29</td>\n",
       "      <td>1.0</td>\n",
       "    </tr>\n",
       "    <tr>\n",
       "      <th>4984</th>\n",
       "      <td>25</td>\n",
       "      <td>2705</td>\n",
       "      <td>0</td>\n",
       "      <td>30</td>\n",
       "      <td>1.0</td>\n",
       "    </tr>\n",
       "    <tr>\n",
       "      <th>4985</th>\n",
       "      <td>25</td>\n",
       "      <td>2705</td>\n",
       "      <td>0</td>\n",
       "      <td>31</td>\n",
       "      <td>2.0</td>\n",
       "    </tr>\n",
       "    <tr>\n",
       "      <th>4986</th>\n",
       "      <td>25</td>\n",
       "      <td>2705</td>\n",
       "      <td>0</td>\n",
       "      <td>32</td>\n",
       "      <td>3.0</td>\n",
       "    </tr>\n",
       "    <tr>\n",
       "      <th>4988</th>\n",
       "      <td>25</td>\n",
       "      <td>2715</td>\n",
       "      <td>0</td>\n",
       "      <td>33</td>\n",
       "      <td>1.0</td>\n",
       "    </tr>\n",
       "    <tr>\n",
       "      <th>4989</th>\n",
       "      <td>25</td>\n",
       "      <td>2715</td>\n",
       "      <td>0</td>\n",
       "      <td>34</td>\n",
       "      <td>2.0</td>\n",
       "    </tr>\n",
       "    <tr>\n",
       "      <th>4990</th>\n",
       "      <td>25</td>\n",
       "      <td>2716</td>\n",
       "      <td>0</td>\n",
       "      <td>35</td>\n",
       "      <td>1.0</td>\n",
       "    </tr>\n",
       "    <tr>\n",
       "      <th>4991</th>\n",
       "      <td>25</td>\n",
       "      <td>2716</td>\n",
       "      <td>0</td>\n",
       "      <td>36</td>\n",
       "      <td>2.0</td>\n",
       "    </tr>\n",
       "    <tr>\n",
       "      <th>4992</th>\n",
       "      <td>25</td>\n",
       "      <td>2719</td>\n",
       "      <td>0</td>\n",
       "      <td>37</td>\n",
       "      <td>1.0</td>\n",
       "    </tr>\n",
       "    <tr>\n",
       "      <th>4993</th>\n",
       "      <td>25</td>\n",
       "      <td>2719</td>\n",
       "      <td>0</td>\n",
       "      <td>38</td>\n",
       "      <td>2.0</td>\n",
       "    </tr>\n",
       "    <tr>\n",
       "      <th>4994</th>\n",
       "      <td>25</td>\n",
       "      <td>2719</td>\n",
       "      <td>0</td>\n",
       "      <td>39</td>\n",
       "      <td>3.0</td>\n",
       "    </tr>\n",
       "    <tr>\n",
       "      <th>4995</th>\n",
       "      <td>25</td>\n",
       "      <td>2720</td>\n",
       "      <td>0</td>\n",
       "      <td>40</td>\n",
       "      <td>1.0</td>\n",
       "    </tr>\n",
       "    <tr>\n",
       "      <th>4921</th>\n",
       "      <td>25</td>\n",
       "      <td>2473</td>\n",
       "      <td>0</td>\n",
       "      <td>41</td>\n",
       "      <td>1.0</td>\n",
       "    </tr>\n",
       "    <tr>\n",
       "      <th>4922</th>\n",
       "      <td>25</td>\n",
       "      <td>2480</td>\n",
       "      <td>0</td>\n",
       "      <td>42</td>\n",
       "      <td>1.0</td>\n",
       "    </tr>\n",
       "    <tr>\n",
       "      <th>4996</th>\n",
       "      <td>25</td>\n",
       "      <td>2731</td>\n",
       "      <td>0</td>\n",
       "      <td>43</td>\n",
       "      <td>1.0</td>\n",
       "    </tr>\n",
       "    <tr>\n",
       "      <th>4997</th>\n",
       "      <td>25</td>\n",
       "      <td>2731</td>\n",
       "      <td>0</td>\n",
       "      <td>44</td>\n",
       "      <td>2.0</td>\n",
       "    </tr>\n",
       "    <tr>\n",
       "      <th>4998</th>\n",
       "      <td>25</td>\n",
       "      <td>2746</td>\n",
       "      <td>0</td>\n",
       "      <td>45</td>\n",
       "      <td>1.0</td>\n",
       "    </tr>\n",
       "    <tr>\n",
       "      <th>4999</th>\n",
       "      <td>25</td>\n",
       "      <td>2746</td>\n",
       "      <td>0</td>\n",
       "      <td>46</td>\n",
       "      <td>2.0</td>\n",
       "    </tr>\n",
       "    <tr>\n",
       "      <th>5000</th>\n",
       "      <td>25</td>\n",
       "      <td>2746</td>\n",
       "      <td>0</td>\n",
       "      <td>47</td>\n",
       "      <td>4.0</td>\n",
       "    </tr>\n",
       "    <tr>\n",
       "      <th>5001</th>\n",
       "      <td>25</td>\n",
       "      <td>2746</td>\n",
       "      <td>0</td>\n",
       "      <td>48</td>\n",
       "      <td>5.0</td>\n",
       "    </tr>\n",
       "    <tr>\n",
       "      <th>5002</th>\n",
       "      <td>25</td>\n",
       "      <td>2746</td>\n",
       "      <td>0</td>\n",
       "      <td>49</td>\n",
       "      <td>6.0</td>\n",
       "    </tr>\n",
       "  </tbody>\n",
       "</table>\n",
       "</div>"
      ],
      "text/plain": [
       "      shop_id  item_id  date_block_num  level_3  item_cnt_day\n",
       "9999       59    22154               0        0           1.0\n",
       "4927       25     2552               0        1           1.0\n",
       "4928       25     2552               0        2           0.0\n",
       "4929       25     2554               0        3           1.0\n",
       "4930       25     2555               0        4           1.0\n",
       "4931       25     2564               0        5           1.0\n",
       "4932       25     2565               0        6           1.0\n",
       "4933       25     2572               0        7           1.0\n",
       "4934       25     2572               0        8           2.0\n",
       "4935       25     2573               0        9           3.0\n",
       "4936       25     2574               0       10           2.0\n",
       "4937       25     2574               0       11           3.0\n",
       "4938       25     2574               0       12           4.0\n",
       "4939       25     2574               0       13           6.0\n",
       "4940       25     2574               0       14           7.0\n",
       "4941       25     2574               0       15           9.0\n",
       "4942       25     2574               0       16          10.0\n",
       "4943       25     2574               0       17          11.0\n",
       "4944       25     2574               0       18          12.0\n",
       "4945       25     2574               0       19          13.0\n",
       "4946       25     2593               0       20           1.0\n",
       "4947       25     2604               0       21           1.0\n",
       "4948       25     2604               0       22           2.0\n",
       "4949       25     2607               0       23           1.0\n",
       "4950       25     2607               0       24           2.0\n",
       "4951       25     2609               0       25           1.0\n",
       "4926       25     2548               0       26           1.0\n",
       "4952       25     2611               0       27           1.0\n",
       "4925       25     2546               0       28           1.0\n",
       "4923       25     2515               0       29           1.0\n",
       "4984       25     2705               0       30           1.0\n",
       "4985       25     2705               0       31           2.0\n",
       "4986       25     2705               0       32           3.0\n",
       "4988       25     2715               0       33           1.0\n",
       "4989       25     2715               0       34           2.0\n",
       "4990       25     2716               0       35           1.0\n",
       "4991       25     2716               0       36           2.0\n",
       "4992       25     2719               0       37           1.0\n",
       "4993       25     2719               0       38           2.0\n",
       "4994       25     2719               0       39           3.0\n",
       "4995       25     2720               0       40           1.0\n",
       "4921       25     2473               0       41           1.0\n",
       "4922       25     2480               0       42           1.0\n",
       "4996       25     2731               0       43           1.0\n",
       "4997       25     2731               0       44           2.0\n",
       "4998       25     2746               0       45           1.0\n",
       "4999       25     2746               0       46           2.0\n",
       "5000       25     2746               0       47           4.0\n",
       "5001       25     2746               0       48           5.0\n",
       "5002       25     2746               0       49           6.0"
      ]
     },
     "execution_count": 94,
     "metadata": {},
     "output_type": "execute_result"
    }
   ],
   "source": [
    "t.sort_values(by='level_3').head(50)"
   ]
  },
  {
   "cell_type": "code",
   "execution_count": 78,
   "metadata": {
    "ExecuteTime": {
     "end_time": "2020-11-13T17:47:48.720870Z",
     "start_time": "2020-11-13T17:47:48.710822Z"
    }
   },
   "outputs": [
    {
     "name": "stdout",
     "output_type": "stream",
     "text": [
      "99999\n",
      "0\n",
      "49999.5\n",
      "100000\n"
     ]
    }
   ],
   "source": [
    "print(t['level_3'].max())\n",
    "print(t['level_3'].min())\n",
    "print(t['level_3'].mean())\n",
    "print(len(t['level_3'].unique()))"
   ]
  },
  {
   "cell_type": "code",
   "execution_count": 81,
   "metadata": {
    "ExecuteTime": {
     "end_time": "2020-11-13T18:52:44.759406Z",
     "start_time": "2020-11-13T18:52:44.747243Z"
    }
   },
   "outputs": [
    {
     "data": {
      "text/plain": [
       "shop_id  item_id  date_block_num      \n",
       "18       22061    0               9991    1.0\n",
       "         22091    0               9984    2.0\n",
       "         22092    0               9985    4.0\n",
       "                                  9986    2.5\n",
       "                                  9987    2.0\n",
       "                                         ... \n",
       "25       17916    0               5015    1.0\n",
       "         18014    0               4945    1.0\n",
       "         18022    0               5021    1.0\n",
       "         18058    0               5033    1.0\n",
       "59       22154    0               0       1.0\n",
       "Name: item_cnt_day, Length: 10000, dtype: float64"
      ]
     },
     "execution_count": 81,
     "metadata": {},
     "output_type": "execute_result"
    }
   ],
   "source": [
    "t"
   ]
  },
  {
   "cell_type": "code",
   "execution_count": 709,
   "metadata": {
    "ExecuteTime": {
     "end_time": "2020-11-13T02:33:41.828120Z",
     "start_time": "2020-11-13T02:33:41.822356Z"
    }
   },
   "outputs": [
    {
     "data": {
      "text/plain": [
       "array([ 0,  1,  2,  3,  4,  5,  6,  7,  8,  9, 10, 11, 12, 13, 14, 15, 16,\n",
       "       17, 18, 19, 20, 21, 22])"
      ]
     },
     "execution_count": 709,
     "metadata": {},
     "output_type": "execute_result"
    }
   ],
   "source": [
    "train_date_block_num"
   ]
  },
  {
   "cell_type": "code",
   "execution_count": 711,
   "metadata": {
    "ExecuteTime": {
     "end_time": "2020-11-13T02:34:02.110359Z",
     "start_time": "2020-11-13T02:34:02.103691Z"
    }
   },
   "outputs": [
    {
     "data": {
      "text/plain": [
       "array([23, 24, 25, 26, 27, 28, 29, 30, 31, 32, 33])"
      ]
     },
     "execution_count": 711,
     "metadata": {},
     "output_type": "execute_result"
    }
   ],
   "source": [
    "val_date_block_num"
   ]
  },
  {
   "cell_type": "code",
   "execution_count": 682,
   "metadata": {
    "ExecuteTime": {
     "end_time": "2020-11-13T02:12:19.510359Z",
     "start_time": "2020-11-13T02:12:17.031860Z"
    },
    "scrolled": true
   },
   "outputs": [
    {
     "data": {
      "text/html": [
       "<div>\n",
       "<style scoped>\n",
       "    .dataframe tbody tr th:only-of-type {\n",
       "        vertical-align: middle;\n",
       "    }\n",
       "\n",
       "    .dataframe tbody tr th {\n",
       "        vertical-align: top;\n",
       "    }\n",
       "\n",
       "    .dataframe thead tr th {\n",
       "        text-align: left;\n",
       "    }\n",
       "\n",
       "    .dataframe thead tr:last-of-type th {\n",
       "        text-align: right;\n",
       "    }\n",
       "</style>\n",
       "<table border=\"1\" class=\"dataframe\">\n",
       "  <thead>\n",
       "    <tr>\n",
       "      <th></th>\n",
       "      <th></th>\n",
       "      <th></th>\n",
       "      <th colspan=\"4\" halign=\"left\">item_cnt_day</th>\n",
       "      <th colspan=\"4\" halign=\"left\">item_cnt_day_-1</th>\n",
       "    </tr>\n",
       "    <tr>\n",
       "      <th></th>\n",
       "      <th></th>\n",
       "      <th></th>\n",
       "      <th>sum</th>\n",
       "      <th>mean</th>\n",
       "      <th>std</th>\n",
       "      <th>median</th>\n",
       "      <th>sum</th>\n",
       "      <th>mean</th>\n",
       "      <th>std</th>\n",
       "      <th>median</th>\n",
       "    </tr>\n",
       "    <tr>\n",
       "      <th>shop_id</th>\n",
       "      <th>item_id</th>\n",
       "      <th>date_block_num</th>\n",
       "      <th></th>\n",
       "      <th></th>\n",
       "      <th></th>\n",
       "      <th></th>\n",
       "      <th></th>\n",
       "      <th></th>\n",
       "      <th></th>\n",
       "      <th></th>\n",
       "    </tr>\n",
       "  </thead>\n",
       "  <tbody>\n",
       "    <tr>\n",
       "      <th rowspan=\"5\" valign=\"top\">0</th>\n",
       "      <th>30</th>\n",
       "      <th>1</th>\n",
       "      <td>31.0</td>\n",
       "      <td>3.444444</td>\n",
       "      <td>2.242271</td>\n",
       "      <td>3.0</td>\n",
       "      <td>NaN</td>\n",
       "      <td>NaN</td>\n",
       "      <td>NaN</td>\n",
       "      <td>NaN</td>\n",
       "    </tr>\n",
       "    <tr>\n",
       "      <th>31</th>\n",
       "      <th>1</th>\n",
       "      <td>11.0</td>\n",
       "      <td>1.571429</td>\n",
       "      <td>0.975900</td>\n",
       "      <td>1.0</td>\n",
       "      <td>NaN</td>\n",
       "      <td>NaN</td>\n",
       "      <td>NaN</td>\n",
       "      <td>NaN</td>\n",
       "    </tr>\n",
       "    <tr>\n",
       "      <th rowspan=\"2\" valign=\"top\">32</th>\n",
       "      <th>0</th>\n",
       "      <td>6.0</td>\n",
       "      <td>1.500000</td>\n",
       "      <td>0.577350</td>\n",
       "      <td>1.5</td>\n",
       "      <td>NaN</td>\n",
       "      <td>NaN</td>\n",
       "      <td>NaN</td>\n",
       "      <td>NaN</td>\n",
       "    </tr>\n",
       "    <tr>\n",
       "      <th>1</th>\n",
       "      <td>10.0</td>\n",
       "      <td>1.428571</td>\n",
       "      <td>0.534522</td>\n",
       "      <td>1.0</td>\n",
       "      <td>6.0</td>\n",
       "      <td>1.5</td>\n",
       "      <td>0.57735</td>\n",
       "      <td>1.5</td>\n",
       "    </tr>\n",
       "    <tr>\n",
       "      <th>33</th>\n",
       "      <th>0</th>\n",
       "      <td>3.0</td>\n",
       "      <td>1.000000</td>\n",
       "      <td>0.000000</td>\n",
       "      <td>1.0</td>\n",
       "      <td>NaN</td>\n",
       "      <td>NaN</td>\n",
       "      <td>NaN</td>\n",
       "      <td>NaN</td>\n",
       "    </tr>\n",
       "    <tr>\n",
       "      <th>...</th>\n",
       "      <th>...</th>\n",
       "      <th>...</th>\n",
       "      <td>...</td>\n",
       "      <td>...</td>\n",
       "      <td>...</td>\n",
       "      <td>...</td>\n",
       "      <td>...</td>\n",
       "      <td>...</td>\n",
       "      <td>...</td>\n",
       "      <td>...</td>\n",
       "    </tr>\n",
       "    <tr>\n",
       "      <th rowspan=\"5\" valign=\"top\">59</th>\n",
       "      <th rowspan=\"2\" valign=\"top\">22164</th>\n",
       "      <th>27</th>\n",
       "      <td>2.0</td>\n",
       "      <td>1.000000</td>\n",
       "      <td>0.000000</td>\n",
       "      <td>1.0</td>\n",
       "      <td>1.0</td>\n",
       "      <td>1.0</td>\n",
       "      <td>NaN</td>\n",
       "      <td>1.0</td>\n",
       "    </tr>\n",
       "    <tr>\n",
       "      <th>30</th>\n",
       "      <td>1.0</td>\n",
       "      <td>1.000000</td>\n",
       "      <td>NaN</td>\n",
       "      <td>1.0</td>\n",
       "      <td>NaN</td>\n",
       "      <td>NaN</td>\n",
       "      <td>NaN</td>\n",
       "      <td>NaN</td>\n",
       "    </tr>\n",
       "    <tr>\n",
       "      <th rowspan=\"3\" valign=\"top\">22167</th>\n",
       "      <th>9</th>\n",
       "      <td>1.0</td>\n",
       "      <td>1.000000</td>\n",
       "      <td>NaN</td>\n",
       "      <td>1.0</td>\n",
       "      <td>NaN</td>\n",
       "      <td>NaN</td>\n",
       "      <td>NaN</td>\n",
       "      <td>NaN</td>\n",
       "    </tr>\n",
       "    <tr>\n",
       "      <th>11</th>\n",
       "      <td>2.0</td>\n",
       "      <td>1.000000</td>\n",
       "      <td>0.000000</td>\n",
       "      <td>1.0</td>\n",
       "      <td>NaN</td>\n",
       "      <td>NaN</td>\n",
       "      <td>NaN</td>\n",
       "      <td>NaN</td>\n",
       "    </tr>\n",
       "    <tr>\n",
       "      <th>17</th>\n",
       "      <td>1.0</td>\n",
       "      <td>1.000000</td>\n",
       "      <td>NaN</td>\n",
       "      <td>1.0</td>\n",
       "      <td>NaN</td>\n",
       "      <td>NaN</td>\n",
       "      <td>NaN</td>\n",
       "      <td>NaN</td>\n",
       "    </tr>\n",
       "  </tbody>\n",
       "</table>\n",
       "<p>1609124 rows × 8 columns</p>\n",
       "</div>"
      ],
      "text/plain": [
       "                               item_cnt_day                             \\\n",
       "                                        sum      mean       std median   \n",
       "shop_id item_id date_block_num                                           \n",
       "0       30      1                      31.0  3.444444  2.242271    3.0   \n",
       "        31      1                      11.0  1.571429  0.975900    1.0   \n",
       "        32      0                       6.0  1.500000  0.577350    1.5   \n",
       "                1                      10.0  1.428571  0.534522    1.0   \n",
       "        33      0                       3.0  1.000000  0.000000    1.0   \n",
       "...                                     ...       ...       ...    ...   \n",
       "59      22164   27                      2.0  1.000000  0.000000    1.0   \n",
       "                30                      1.0  1.000000       NaN    1.0   \n",
       "        22167   9                       1.0  1.000000       NaN    1.0   \n",
       "                11                      2.0  1.000000  0.000000    1.0   \n",
       "                17                      1.0  1.000000       NaN    1.0   \n",
       "\n",
       "                               item_cnt_day_-1                       \n",
       "                                           sum mean      std median  \n",
       "shop_id item_id date_block_num                                       \n",
       "0       30      1                          NaN  NaN      NaN    NaN  \n",
       "        31      1                          NaN  NaN      NaN    NaN  \n",
       "        32      0                          NaN  NaN      NaN    NaN  \n",
       "                1                          6.0  1.5  0.57735    1.5  \n",
       "        33      0                          NaN  NaN      NaN    NaN  \n",
       "...                                        ...  ...      ...    ...  \n",
       "59      22164   27                         1.0  1.0      NaN    1.0  \n",
       "                30                         NaN  NaN      NaN    NaN  \n",
       "        22167   9                          NaN  NaN      NaN    NaN  \n",
       "                11                         NaN  NaN      NaN    NaN  \n",
       "                17                         NaN  NaN      NaN    NaN  \n",
       "\n",
       "[1609124 rows x 8 columns]"
      ]
     },
     "execution_count": 682,
     "metadata": {},
     "output_type": "execute_result"
    }
   ],
   "source": [
    "grouped = df_sales_train[['shop_id', 'item_id', 'date_block_num','item_cnt_day']]\\\n",
    "    .groupby(['shop_id', 'item_id', 'date_block_num'], as_index=False).agg([np.sum, np.mean, np.std, np.median])\n",
    "\n",
    "t = []\n",
    "for i in range(3):\n",
    "    t.append(grouped.copy().index.to_frame())\n",
    "    t[i]['date_block_num'] = t[i]['date_block_num'] + i +1\n",
    "    \n",
    "list_of_grouped_copy = []\n",
    "for i in range(len(t)):\n",
    "    grouped_copy = grouped.copy()\n",
    "    grouped_copy.index = pd.MultiIndex.from_frame(t[i])\n",
    "    temp = [(x[0]+'_-'+str(i+1), x[1]) for x in grouped_copy.columns]\n",
    "    grouped_copy.columns = pd.MultiIndex.from_tuples(temp)\n",
    "    list_of_grouped_copy.append(grouped_copy)\n",
    "    \n",
    "temp = grouped.join(list_of_grouped_copy[0], on=grouped.index.names)\n",
    "temp"
   ]
  },
  {
   "cell_type": "code",
   "execution_count": 687,
   "metadata": {
    "ExecuteTime": {
     "end_time": "2020-11-13T02:18:04.552991Z",
     "start_time": "2020-11-13T02:18:04.108283Z"
    }
   },
   "outputs": [],
   "source": [
    "temp = df_sales[['shop_id', 'item_id', 'item_cnt_day']]\\\n",
    "    .groupby(['shop_id', 'item_id'], as_index=False).agg([np.sum, np.mean, np.std, np.median])"
   ]
  },
  {
   "cell_type": "code",
   "execution_count": 691,
   "metadata": {
    "ExecuteTime": {
     "end_time": "2020-11-13T02:21:49.435648Z",
     "start_time": "2020-11-13T02:21:49.430176Z"
    }
   },
   "outputs": [],
   "source": [
    "temp.columns = [('shop_item' +'_'+ x[1]) for x in temp.columns]"
   ]
  },
  {
   "cell_type": "code",
   "execution_count": 692,
   "metadata": {
    "ExecuteTime": {
     "end_time": "2020-11-13T02:21:49.648694Z",
     "start_time": "2020-11-13T02:21:49.630642Z"
    }
   },
   "outputs": [
    {
     "data": {
      "text/html": [
       "<div>\n",
       "<style scoped>\n",
       "    .dataframe tbody tr th:only-of-type {\n",
       "        vertical-align: middle;\n",
       "    }\n",
       "\n",
       "    .dataframe tbody tr th {\n",
       "        vertical-align: top;\n",
       "    }\n",
       "\n",
       "    .dataframe thead th {\n",
       "        text-align: right;\n",
       "    }\n",
       "</style>\n",
       "<table border=\"1\" class=\"dataframe\">\n",
       "  <thead>\n",
       "    <tr style=\"text-align: right;\">\n",
       "      <th></th>\n",
       "      <th></th>\n",
       "      <th>shop_item_sum</th>\n",
       "      <th>shop_item_mean</th>\n",
       "      <th>shop_item_std</th>\n",
       "      <th>shop_item_median</th>\n",
       "    </tr>\n",
       "    <tr>\n",
       "      <th>shop_id</th>\n",
       "      <th>item_id</th>\n",
       "      <th></th>\n",
       "      <th></th>\n",
       "      <th></th>\n",
       "      <th></th>\n",
       "    </tr>\n",
       "  </thead>\n",
       "  <tbody>\n",
       "    <tr>\n",
       "      <th rowspan=\"5\" valign=\"top\">0</th>\n",
       "      <th>30</th>\n",
       "      <td>31.0</td>\n",
       "      <td>3.444444</td>\n",
       "      <td>2.242271</td>\n",
       "      <td>3.0</td>\n",
       "    </tr>\n",
       "    <tr>\n",
       "      <th>31</th>\n",
       "      <td>11.0</td>\n",
       "      <td>1.571429</td>\n",
       "      <td>0.975900</td>\n",
       "      <td>1.0</td>\n",
       "    </tr>\n",
       "    <tr>\n",
       "      <th>32</th>\n",
       "      <td>16.0</td>\n",
       "      <td>1.454545</td>\n",
       "      <td>0.522233</td>\n",
       "      <td>1.0</td>\n",
       "    </tr>\n",
       "    <tr>\n",
       "      <th>33</th>\n",
       "      <td>6.0</td>\n",
       "      <td>1.000000</td>\n",
       "      <td>0.000000</td>\n",
       "      <td>1.0</td>\n",
       "    </tr>\n",
       "    <tr>\n",
       "      <th>35</th>\n",
       "      <td>15.0</td>\n",
       "      <td>1.250000</td>\n",
       "      <td>0.452267</td>\n",
       "      <td>1.0</td>\n",
       "    </tr>\n",
       "    <tr>\n",
       "      <th>...</th>\n",
       "      <th>...</th>\n",
       "      <td>...</td>\n",
       "      <td>...</td>\n",
       "      <td>...</td>\n",
       "      <td>...</td>\n",
       "    </tr>\n",
       "    <tr>\n",
       "      <th rowspan=\"5\" valign=\"top\">59</th>\n",
       "      <th>22154</th>\n",
       "      <td>1.0</td>\n",
       "      <td>1.000000</td>\n",
       "      <td>NaN</td>\n",
       "      <td>1.0</td>\n",
       "    </tr>\n",
       "    <tr>\n",
       "      <th>22155</th>\n",
       "      <td>1.0</td>\n",
       "      <td>1.000000</td>\n",
       "      <td>NaN</td>\n",
       "      <td>1.0</td>\n",
       "    </tr>\n",
       "    <tr>\n",
       "      <th>22162</th>\n",
       "      <td>16.0</td>\n",
       "      <td>1.000000</td>\n",
       "      <td>0.000000</td>\n",
       "      <td>1.0</td>\n",
       "    </tr>\n",
       "    <tr>\n",
       "      <th>22164</th>\n",
       "      <td>6.0</td>\n",
       "      <td>1.000000</td>\n",
       "      <td>0.000000</td>\n",
       "      <td>1.0</td>\n",
       "    </tr>\n",
       "    <tr>\n",
       "      <th>22167</th>\n",
       "      <td>4.0</td>\n",
       "      <td>1.000000</td>\n",
       "      <td>0.000000</td>\n",
       "      <td>1.0</td>\n",
       "    </tr>\n",
       "  </tbody>\n",
       "</table>\n",
       "<p>424124 rows × 4 columns</p>\n",
       "</div>"
      ],
      "text/plain": [
       "                 shop_item_sum  shop_item_mean  shop_item_std  \\\n",
       "shop_id item_id                                                 \n",
       "0       30                31.0        3.444444       2.242271   \n",
       "        31                11.0        1.571429       0.975900   \n",
       "        32                16.0        1.454545       0.522233   \n",
       "        33                 6.0        1.000000       0.000000   \n",
       "        35                15.0        1.250000       0.452267   \n",
       "...                        ...             ...            ...   \n",
       "59      22154              1.0        1.000000            NaN   \n",
       "        22155              1.0        1.000000            NaN   \n",
       "        22162             16.0        1.000000       0.000000   \n",
       "        22164              6.0        1.000000       0.000000   \n",
       "        22167              4.0        1.000000       0.000000   \n",
       "\n",
       "                 shop_item_median  \n",
       "shop_id item_id                    \n",
       "0       30                    3.0  \n",
       "        31                    1.0  \n",
       "        32                    1.0  \n",
       "        33                    1.0  \n",
       "        35                    1.0  \n",
       "...                           ...  \n",
       "59      22154                 1.0  \n",
       "        22155                 1.0  \n",
       "        22162                 1.0  \n",
       "        22164                 1.0  \n",
       "        22167                 1.0  \n",
       "\n",
       "[424124 rows x 4 columns]"
      ]
     },
     "execution_count": 692,
     "metadata": {},
     "output_type": "execute_result"
    }
   ],
   "source": [
    "temp"
   ]
  },
  {
   "cell_type": "code",
   "execution_count": 38,
   "metadata": {
    "ExecuteTime": {
     "end_time": "2020-11-10T16:16:54.123304Z",
     "start_time": "2020-11-10T16:16:54.120984Z"
    }
   },
   "outputs": [],
   "source": [
    "# grouped.reset_index(inplace=True)\n",
    "# grouped.columns = [x[0] if x[1] == '' else x[1] for x in grouped.columns]"
   ]
  },
  {
   "cell_type": "code",
   "execution_count": 675,
   "metadata": {
    "ExecuteTime": {
     "end_time": "2020-11-13T02:06:01.475547Z",
     "start_time": "2020-11-13T02:06:01.470770Z"
    }
   },
   "outputs": [],
   "source": [
    "temp.columns = [(x[0] +'_'+ x[1]) for x in temp.columns]"
   ]
  },
  {
   "cell_type": "code",
   "execution_count": 679,
   "metadata": {
    "ExecuteTime": {
     "end_time": "2020-11-13T02:06:41.857637Z",
     "start_time": "2020-11-13T02:06:41.703236Z"
    }
   },
   "outputs": [
    {
     "data": {
      "text/html": [
       "<div>\n",
       "<style scoped>\n",
       "    .dataframe tbody tr th:only-of-type {\n",
       "        vertical-align: middle;\n",
       "    }\n",
       "\n",
       "    .dataframe tbody tr th {\n",
       "        vertical-align: top;\n",
       "    }\n",
       "\n",
       "    .dataframe thead th {\n",
       "        text-align: right;\n",
       "    }\n",
       "</style>\n",
       "<table border=\"1\" class=\"dataframe\">\n",
       "  <thead>\n",
       "    <tr style=\"text-align: right;\">\n",
       "      <th></th>\n",
       "      <th></th>\n",
       "      <th></th>\n",
       "      <th>item_cnt_day_sum</th>\n",
       "      <th>item_cnt_day_mean</th>\n",
       "      <th>item_cnt_day_std</th>\n",
       "      <th>item_cnt_day_median</th>\n",
       "      <th>item_cnt_day_-1_sum</th>\n",
       "      <th>item_cnt_day_-1_mean</th>\n",
       "      <th>item_cnt_day_-1_std</th>\n",
       "      <th>item_cnt_day_-1_median</th>\n",
       "    </tr>\n",
       "    <tr>\n",
       "      <th>shop_id</th>\n",
       "      <th>item_id</th>\n",
       "      <th>date_block_num</th>\n",
       "      <th></th>\n",
       "      <th></th>\n",
       "      <th></th>\n",
       "      <th></th>\n",
       "      <th></th>\n",
       "      <th></th>\n",
       "      <th></th>\n",
       "      <th></th>\n",
       "    </tr>\n",
       "  </thead>\n",
       "  <tbody>\n",
       "    <tr>\n",
       "      <th rowspan=\"5\" valign=\"top\">0</th>\n",
       "      <th>32</th>\n",
       "      <th>1</th>\n",
       "      <td>10.0</td>\n",
       "      <td>1.428571</td>\n",
       "      <td>0.534522</td>\n",
       "      <td>1.0</td>\n",
       "      <td>6.0</td>\n",
       "      <td>1.5000</td>\n",
       "      <td>0.577350</td>\n",
       "      <td>1.5</td>\n",
       "    </tr>\n",
       "    <tr>\n",
       "      <th>33</th>\n",
       "      <th>1</th>\n",
       "      <td>3.0</td>\n",
       "      <td>1.000000</td>\n",
       "      <td>0.000000</td>\n",
       "      <td>1.0</td>\n",
       "      <td>3.0</td>\n",
       "      <td>1.0000</td>\n",
       "      <td>0.000000</td>\n",
       "      <td>1.0</td>\n",
       "    </tr>\n",
       "    <tr>\n",
       "      <th>35</th>\n",
       "      <th>1</th>\n",
       "      <td>14.0</td>\n",
       "      <td>1.272727</td>\n",
       "      <td>0.467099</td>\n",
       "      <td>1.0</td>\n",
       "      <td>1.0</td>\n",
       "      <td>1.0000</td>\n",
       "      <td>NaN</td>\n",
       "      <td>1.0</td>\n",
       "    </tr>\n",
       "    <tr>\n",
       "      <th>51</th>\n",
       "      <th>1</th>\n",
       "      <td>3.0</td>\n",
       "      <td>1.500000</td>\n",
       "      <td>0.707107</td>\n",
       "      <td>1.5</td>\n",
       "      <td>2.0</td>\n",
       "      <td>1.0000</td>\n",
       "      <td>0.000000</td>\n",
       "      <td>1.0</td>\n",
       "    </tr>\n",
       "    <tr>\n",
       "      <th>98</th>\n",
       "      <th>1</th>\n",
       "      <td>5.0</td>\n",
       "      <td>2.500000</td>\n",
       "      <td>2.121320</td>\n",
       "      <td>2.5</td>\n",
       "      <td>25.0</td>\n",
       "      <td>1.5625</td>\n",
       "      <td>0.963933</td>\n",
       "      <td>1.0</td>\n",
       "    </tr>\n",
       "    <tr>\n",
       "      <th>...</th>\n",
       "      <th>...</th>\n",
       "      <th>...</th>\n",
       "      <td>...</td>\n",
       "      <td>...</td>\n",
       "      <td>...</td>\n",
       "      <td>...</td>\n",
       "      <td>...</td>\n",
       "      <td>...</td>\n",
       "      <td>...</td>\n",
       "      <td>...</td>\n",
       "    </tr>\n",
       "    <tr>\n",
       "      <th rowspan=\"5\" valign=\"top\">59</th>\n",
       "      <th rowspan=\"3\" valign=\"top\">22162</th>\n",
       "      <th>26</th>\n",
       "      <td>4.0</td>\n",
       "      <td>1.000000</td>\n",
       "      <td>0.000000</td>\n",
       "      <td>1.0</td>\n",
       "      <td>9.0</td>\n",
       "      <td>1.0000</td>\n",
       "      <td>0.000000</td>\n",
       "      <td>1.0</td>\n",
       "    </tr>\n",
       "    <tr>\n",
       "      <th>27</th>\n",
       "      <td>1.0</td>\n",
       "      <td>1.000000</td>\n",
       "      <td>NaN</td>\n",
       "      <td>1.0</td>\n",
       "      <td>4.0</td>\n",
       "      <td>1.0000</td>\n",
       "      <td>0.000000</td>\n",
       "      <td>1.0</td>\n",
       "    </tr>\n",
       "    <tr>\n",
       "      <th>28</th>\n",
       "      <td>1.0</td>\n",
       "      <td>1.000000</td>\n",
       "      <td>NaN</td>\n",
       "      <td>1.0</td>\n",
       "      <td>1.0</td>\n",
       "      <td>1.0000</td>\n",
       "      <td>NaN</td>\n",
       "      <td>1.0</td>\n",
       "    </tr>\n",
       "    <tr>\n",
       "      <th rowspan=\"2\" valign=\"top\">22164</th>\n",
       "      <th>26</th>\n",
       "      <td>1.0</td>\n",
       "      <td>1.000000</td>\n",
       "      <td>NaN</td>\n",
       "      <td>1.0</td>\n",
       "      <td>2.0</td>\n",
       "      <td>1.0000</td>\n",
       "      <td>0.000000</td>\n",
       "      <td>1.0</td>\n",
       "    </tr>\n",
       "    <tr>\n",
       "      <th>27</th>\n",
       "      <td>2.0</td>\n",
       "      <td>1.000000</td>\n",
       "      <td>0.000000</td>\n",
       "      <td>1.0</td>\n",
       "      <td>1.0</td>\n",
       "      <td>1.0000</td>\n",
       "      <td>NaN</td>\n",
       "      <td>1.0</td>\n",
       "    </tr>\n",
       "  </tbody>\n",
       "</table>\n",
       "<p>676738 rows × 8 columns</p>\n",
       "</div>"
      ],
      "text/plain": [
       "                                item_cnt_day_sum  item_cnt_day_mean  \\\n",
       "shop_id item_id date_block_num                                        \n",
       "0       32      1                           10.0           1.428571   \n",
       "        33      1                            3.0           1.000000   \n",
       "        35      1                           14.0           1.272727   \n",
       "        51      1                            3.0           1.500000   \n",
       "        98      1                            5.0           2.500000   \n",
       "...                                          ...                ...   \n",
       "59      22162   26                           4.0           1.000000   \n",
       "                27                           1.0           1.000000   \n",
       "                28                           1.0           1.000000   \n",
       "        22164   26                           1.0           1.000000   \n",
       "                27                           2.0           1.000000   \n",
       "\n",
       "                                item_cnt_day_std  item_cnt_day_median  \\\n",
       "shop_id item_id date_block_num                                          \n",
       "0       32      1                       0.534522                  1.0   \n",
       "        33      1                       0.000000                  1.0   \n",
       "        35      1                       0.467099                  1.0   \n",
       "        51      1                       0.707107                  1.5   \n",
       "        98      1                       2.121320                  2.5   \n",
       "...                                          ...                  ...   \n",
       "59      22162   26                      0.000000                  1.0   \n",
       "                27                           NaN                  1.0   \n",
       "                28                           NaN                  1.0   \n",
       "        22164   26                           NaN                  1.0   \n",
       "                27                      0.000000                  1.0   \n",
       "\n",
       "                                item_cnt_day_-1_sum  item_cnt_day_-1_mean  \\\n",
       "shop_id item_id date_block_num                                              \n",
       "0       32      1                               6.0                1.5000   \n",
       "        33      1                               3.0                1.0000   \n",
       "        35      1                               1.0                1.0000   \n",
       "        51      1                               2.0                1.0000   \n",
       "        98      1                              25.0                1.5625   \n",
       "...                                             ...                   ...   \n",
       "59      22162   26                              9.0                1.0000   \n",
       "                27                              4.0                1.0000   \n",
       "                28                              1.0                1.0000   \n",
       "        22164   26                              2.0                1.0000   \n",
       "                27                              1.0                1.0000   \n",
       "\n",
       "                                item_cnt_day_-1_std  item_cnt_day_-1_median  \n",
       "shop_id item_id date_block_num                                               \n",
       "0       32      1                          0.577350                     1.5  \n",
       "        33      1                          0.000000                     1.0  \n",
       "        35      1                               NaN                     1.0  \n",
       "        51      1                          0.000000                     1.0  \n",
       "        98      1                          0.963933                     1.0  \n",
       "...                                             ...                     ...  \n",
       "59      22162   26                         0.000000                     1.0  \n",
       "                27                         0.000000                     1.0  \n",
       "                28                              NaN                     1.0  \n",
       "        22164   26                         0.000000                     1.0  \n",
       "                27                              NaN                     1.0  \n",
       "\n",
       "[676738 rows x 8 columns]"
      ]
     },
     "execution_count": 679,
     "metadata": {},
     "output_type": "execute_result"
    }
   ],
   "source": [
    "temp[temp['item_cnt_day_-1_sum'].notna()]"
   ]
  },
  {
   "cell_type": "code",
   "execution_count": 680,
   "metadata": {
    "ExecuteTime": {
     "end_time": "2020-11-13T02:06:44.872526Z",
     "start_time": "2020-11-13T02:06:44.699095Z"
    }
   },
   "outputs": [
    {
     "data": {
      "text/html": [
       "<div>\n",
       "<style scoped>\n",
       "    .dataframe tbody tr th:only-of-type {\n",
       "        vertical-align: middle;\n",
       "    }\n",
       "\n",
       "    .dataframe tbody tr th {\n",
       "        vertical-align: top;\n",
       "    }\n",
       "\n",
       "    .dataframe thead th {\n",
       "        text-align: right;\n",
       "    }\n",
       "</style>\n",
       "<table border=\"1\" class=\"dataframe\">\n",
       "  <thead>\n",
       "    <tr style=\"text-align: right;\">\n",
       "      <th></th>\n",
       "      <th></th>\n",
       "      <th></th>\n",
       "      <th>item_cnt_day_sum</th>\n",
       "      <th>item_cnt_day_mean</th>\n",
       "      <th>item_cnt_day_std</th>\n",
       "      <th>item_cnt_day_median</th>\n",
       "      <th>item_cnt_day_-1_sum</th>\n",
       "      <th>item_cnt_day_-1_mean</th>\n",
       "      <th>item_cnt_day_-1_std</th>\n",
       "      <th>item_cnt_day_-1_median</th>\n",
       "    </tr>\n",
       "    <tr>\n",
       "      <th>shop_id</th>\n",
       "      <th>item_id</th>\n",
       "      <th>date_block_num</th>\n",
       "      <th></th>\n",
       "      <th></th>\n",
       "      <th></th>\n",
       "      <th></th>\n",
       "      <th></th>\n",
       "      <th></th>\n",
       "      <th></th>\n",
       "      <th></th>\n",
       "    </tr>\n",
       "  </thead>\n",
       "  <tbody>\n",
       "    <tr>\n",
       "      <th rowspan=\"5\" valign=\"top\">0</th>\n",
       "      <th>30</th>\n",
       "      <th>1</th>\n",
       "      <td>31.0</td>\n",
       "      <td>3.444444</td>\n",
       "      <td>2.242271</td>\n",
       "      <td>3.0</td>\n",
       "      <td>NaN</td>\n",
       "      <td>NaN</td>\n",
       "      <td>NaN</td>\n",
       "      <td>NaN</td>\n",
       "    </tr>\n",
       "    <tr>\n",
       "      <th>31</th>\n",
       "      <th>1</th>\n",
       "      <td>11.0</td>\n",
       "      <td>1.571429</td>\n",
       "      <td>0.975900</td>\n",
       "      <td>1.0</td>\n",
       "      <td>NaN</td>\n",
       "      <td>NaN</td>\n",
       "      <td>NaN</td>\n",
       "      <td>NaN</td>\n",
       "    </tr>\n",
       "    <tr>\n",
       "      <th>32</th>\n",
       "      <th>0</th>\n",
       "      <td>6.0</td>\n",
       "      <td>1.500000</td>\n",
       "      <td>0.577350</td>\n",
       "      <td>1.5</td>\n",
       "      <td>NaN</td>\n",
       "      <td>NaN</td>\n",
       "      <td>NaN</td>\n",
       "      <td>NaN</td>\n",
       "    </tr>\n",
       "    <tr>\n",
       "      <th>33</th>\n",
       "      <th>0</th>\n",
       "      <td>3.0</td>\n",
       "      <td>1.000000</td>\n",
       "      <td>0.000000</td>\n",
       "      <td>1.0</td>\n",
       "      <td>NaN</td>\n",
       "      <td>NaN</td>\n",
       "      <td>NaN</td>\n",
       "      <td>NaN</td>\n",
       "    </tr>\n",
       "    <tr>\n",
       "      <th>35</th>\n",
       "      <th>0</th>\n",
       "      <td>1.0</td>\n",
       "      <td>1.000000</td>\n",
       "      <td>NaN</td>\n",
       "      <td>1.0</td>\n",
       "      <td>NaN</td>\n",
       "      <td>NaN</td>\n",
       "      <td>NaN</td>\n",
       "      <td>NaN</td>\n",
       "    </tr>\n",
       "    <tr>\n",
       "      <th>...</th>\n",
       "      <th>...</th>\n",
       "      <th>...</th>\n",
       "      <td>...</td>\n",
       "      <td>...</td>\n",
       "      <td>...</td>\n",
       "      <td>...</td>\n",
       "      <td>...</td>\n",
       "      <td>...</td>\n",
       "      <td>...</td>\n",
       "      <td>...</td>\n",
       "    </tr>\n",
       "    <tr>\n",
       "      <th rowspan=\"5\" valign=\"top\">59</th>\n",
       "      <th rowspan=\"2\" valign=\"top\">22164</th>\n",
       "      <th>25</th>\n",
       "      <td>2.0</td>\n",
       "      <td>1.000000</td>\n",
       "      <td>0.000000</td>\n",
       "      <td>1.0</td>\n",
       "      <td>NaN</td>\n",
       "      <td>NaN</td>\n",
       "      <td>NaN</td>\n",
       "      <td>NaN</td>\n",
       "    </tr>\n",
       "    <tr>\n",
       "      <th>30</th>\n",
       "      <td>1.0</td>\n",
       "      <td>1.000000</td>\n",
       "      <td>NaN</td>\n",
       "      <td>1.0</td>\n",
       "      <td>NaN</td>\n",
       "      <td>NaN</td>\n",
       "      <td>NaN</td>\n",
       "      <td>NaN</td>\n",
       "    </tr>\n",
       "    <tr>\n",
       "      <th rowspan=\"3\" valign=\"top\">22167</th>\n",
       "      <th>9</th>\n",
       "      <td>1.0</td>\n",
       "      <td>1.000000</td>\n",
       "      <td>NaN</td>\n",
       "      <td>1.0</td>\n",
       "      <td>NaN</td>\n",
       "      <td>NaN</td>\n",
       "      <td>NaN</td>\n",
       "      <td>NaN</td>\n",
       "    </tr>\n",
       "    <tr>\n",
       "      <th>11</th>\n",
       "      <td>2.0</td>\n",
       "      <td>1.000000</td>\n",
       "      <td>0.000000</td>\n",
       "      <td>1.0</td>\n",
       "      <td>NaN</td>\n",
       "      <td>NaN</td>\n",
       "      <td>NaN</td>\n",
       "      <td>NaN</td>\n",
       "    </tr>\n",
       "    <tr>\n",
       "      <th>17</th>\n",
       "      <td>1.0</td>\n",
       "      <td>1.000000</td>\n",
       "      <td>NaN</td>\n",
       "      <td>1.0</td>\n",
       "      <td>NaN</td>\n",
       "      <td>NaN</td>\n",
       "      <td>NaN</td>\n",
       "      <td>NaN</td>\n",
       "    </tr>\n",
       "  </tbody>\n",
       "</table>\n",
       "<p>932386 rows × 8 columns</p>\n",
       "</div>"
      ],
      "text/plain": [
       "                                item_cnt_day_sum  item_cnt_day_mean  \\\n",
       "shop_id item_id date_block_num                                        \n",
       "0       30      1                           31.0           3.444444   \n",
       "        31      1                           11.0           1.571429   \n",
       "        32      0                            6.0           1.500000   \n",
       "        33      0                            3.0           1.000000   \n",
       "        35      0                            1.0           1.000000   \n",
       "...                                          ...                ...   \n",
       "59      22164   25                           2.0           1.000000   \n",
       "                30                           1.0           1.000000   \n",
       "        22167   9                            1.0           1.000000   \n",
       "                11                           2.0           1.000000   \n",
       "                17                           1.0           1.000000   \n",
       "\n",
       "                                item_cnt_day_std  item_cnt_day_median  \\\n",
       "shop_id item_id date_block_num                                          \n",
       "0       30      1                       2.242271                  3.0   \n",
       "        31      1                       0.975900                  1.0   \n",
       "        32      0                       0.577350                  1.5   \n",
       "        33      0                       0.000000                  1.0   \n",
       "        35      0                            NaN                  1.0   \n",
       "...                                          ...                  ...   \n",
       "59      22164   25                      0.000000                  1.0   \n",
       "                30                           NaN                  1.0   \n",
       "        22167   9                            NaN                  1.0   \n",
       "                11                      0.000000                  1.0   \n",
       "                17                           NaN                  1.0   \n",
       "\n",
       "                                item_cnt_day_-1_sum  item_cnt_day_-1_mean  \\\n",
       "shop_id item_id date_block_num                                              \n",
       "0       30      1                               NaN                   NaN   \n",
       "        31      1                               NaN                   NaN   \n",
       "        32      0                               NaN                   NaN   \n",
       "        33      0                               NaN                   NaN   \n",
       "        35      0                               NaN                   NaN   \n",
       "...                                             ...                   ...   \n",
       "59      22164   25                              NaN                   NaN   \n",
       "                30                              NaN                   NaN   \n",
       "        22167   9                               NaN                   NaN   \n",
       "                11                              NaN                   NaN   \n",
       "                17                              NaN                   NaN   \n",
       "\n",
       "                                item_cnt_day_-1_std  item_cnt_day_-1_median  \n",
       "shop_id item_id date_block_num                                               \n",
       "0       30      1                               NaN                     NaN  \n",
       "        31      1                               NaN                     NaN  \n",
       "        32      0                               NaN                     NaN  \n",
       "        33      0                               NaN                     NaN  \n",
       "        35      0                               NaN                     NaN  \n",
       "...                                             ...                     ...  \n",
       "59      22164   25                              NaN                     NaN  \n",
       "                30                              NaN                     NaN  \n",
       "        22167   9                               NaN                     NaN  \n",
       "                11                              NaN                     NaN  \n",
       "                17                              NaN                     NaN  \n",
       "\n",
       "[932386 rows x 8 columns]"
      ]
     },
     "execution_count": 680,
     "metadata": {},
     "output_type": "execute_result"
    }
   ],
   "source": [
    "temp[temp['item_cnt_day_-1_sum'].isna()]"
   ]
  },
  {
   "cell_type": "code",
   "execution_count": null,
   "metadata": {},
   "outputs": [],
   "source": []
  },
  {
   "cell_type": "code",
   "execution_count": null,
   "metadata": {},
   "outputs": [],
   "source": []
  },
  {
   "cell_type": "code",
   "execution_count": null,
   "metadata": {},
   "outputs": [],
   "source": []
  },
  {
   "cell_type": "code",
   "execution_count": 390,
   "metadata": {
    "ExecuteTime": {
     "end_time": "2020-11-11T17:08:26.169294Z",
     "start_time": "2020-11-11T17:08:26.165019Z"
    }
   },
   "outputs": [],
   "source": [
    "plt.rcParams['figure.figsize'] = [12, 5]\n",
    "plt.rcParams['font.size'] = 13"
   ]
  },
  {
   "cell_type": "markdown",
   "metadata": {},
   "source": [
    "Total item count over time can be a good feature. \n",
    "\n",
    "Moving Average 5 or Moving Average 10 etc. Maybe clip december peaks."
   ]
  },
  {
   "cell_type": "code",
   "execution_count": 456,
   "metadata": {
    "ExecuteTime": {
     "end_time": "2020-11-12T02:03:08.335548Z",
     "start_time": "2020-11-12T02:03:07.585510Z"
    }
   },
   "outputs": [
    {
     "data": {
      "image/png": "[encoded data removed]",
      "text/plain": [
       "<Figure size 864x360 with 1 Axes>"
      ]
     },
     "metadata": {
      "needs_background": "light"
     },
     "output_type": "display_data"
    }
   ],
   "source": [
    "temp = df_sales[['datetimestamp']].copy()\n",
    "temp['datemonth'] = df_sales_train['datetimestamp'].dt.to_period('M')\n",
    "temp = temp[['datetimestamp', 'datemonth']].groupby('datemonth').count()\n",
    "ax = temp.plot.bar()\n",
    "ax.legend([\"Total item count\"]);"
   ]
  },
  {
   "cell_type": "code",
   "execution_count": 517,
   "metadata": {
    "ExecuteTime": {
     "end_time": "2020-11-12T07:15:50.098373Z",
     "start_time": "2020-11-12T07:15:46.267211Z"
    }
   },
   "outputs": [
    {
     "data": {
      "image/png": "[encoded data removed]",
      "text/plain": [
       "<Figure size 864x360 with 1 Axes>"
      ]
     },
     "metadata": {
      "needs_background": "light"
     },
     "output_type": "display_data"
    }
   ],
   "source": [
    "temp = df_sales[['shop_id', 'item_id', 'datetimestamp']].copy()\n",
    "temp['datemonth'] = df_sales['datetimestamp'].dt.to_period('M')\n",
    "temp['shop_item'] = temp['shop_id'].astype(str) + '_' + temp['item_id'].astype(str)\n",
    "temp = temp[['shop_item', 'datemonth', 'shop_id']].groupby(['shop_item', 'datemonth']).count()\n",
    "temp['shop_id'].hist(log=True, bins=30)\n",
    "plt.title('Number of time shop_item per month over whole period')\n",
    "plt.xlabel(\"Days in month\")\n",
    "plt.ylabel(\"Number of shop_item\")\n",
    "plt.show()"
   ]
  },
  {
   "cell_type": "code",
   "execution_count": 609,
   "metadata": {
    "ExecuteTime": {
     "end_time": "2020-11-13T01:39:26.873610Z",
     "start_time": "2020-11-13T01:39:22.351782Z"
    }
   },
   "outputs": [
    {
     "data": {
      "image/png": "[encoded data removed]",
      "text/plain": [
       "<Figure size 864x360 with 1 Axes>"
      ]
     },
     "metadata": {
      "needs_background": "light"
     },
     "output_type": "display_data"
    },
    {
     "data": {
      "image/png": "[encoded data removed]",
      "text/plain": [
       "<Figure size 864x360 with 1 Axes>"
      ]
     },
     "metadata": {
      "needs_background": "light"
     },
     "output_type": "display_data"
    }
   ],
   "source": [
    "temp = df_sales[['shop_id', 'item_id', 'item_cnt_day']].copy()\n",
    "temp['shop_item'] = temp['shop_id'].astype(str) + '_' + temp['item_id'].astype(str)\n",
    "temp = temp[['shop_item', 'item_cnt_day']].groupby(['shop_item']).sum()\n",
    "temp['item_cnt_day'].hist(log=True, bins=50)\n",
    "plt.title('Total shop_item')\n",
    "plt.xlabel(\"item_cnt_day sum per shop_item\")\n",
    "plt.ylabel(\"item_cnt_day\")\n",
    "plt.show()\n",
    "\n",
    "# Same but clipped\n",
    "v = temp['item_cnt_day'].values\n",
    "temp['item_cnt_day'] = np.clip(v, 0, np.quantile(v, 0.99))\n",
    "temp['item_cnt_day'].hist(log=True, bins=50)\n",
    "plt.title('Total shop_item (clipped)')\n",
    "plt.xlabel(\"item_cnt_day sum per shop_item (clipped)\")\n",
    "plt.ylabel(\"item_cnt_day\")\n",
    "plt.show()"
   ]
  },
  {
   "cell_type": "code",
   "execution_count": 637,
   "metadata": {
    "ExecuteTime": {
     "end_time": "2020-11-13T01:49:16.274315Z",
     "start_time": "2020-11-13T01:49:12.874032Z"
    }
   },
   "outputs": [],
   "source": [
    "temp = df_sales[['shop_id', 'item_id', 'item_cnt_day']].copy()\n",
    "temp['shop_item'] = temp['shop_id'].astype(str) + '_' + temp['item_id'].astype(str)\n",
    "temp = temp[['shop_item', 'item_cnt_day']].groupby(['shop_item']).sum()"
   ]
  },
  {
   "cell_type": "code",
   "execution_count": 638,
   "metadata": {
    "ExecuteTime": {
     "end_time": "2020-11-13T01:49:16.368654Z",
     "start_time": "2020-11-13T01:49:16.278005Z"
    },
    "scrolled": true
   },
   "outputs": [
    {
     "data": {
      "text/html": [
       "<div>\n",
       "<style scoped>\n",
       "    .dataframe tbody tr th:only-of-type {\n",
       "        vertical-align: middle;\n",
       "    }\n",
       "\n",
       "    .dataframe tbody tr th {\n",
       "        vertical-align: top;\n",
       "    }\n",
       "\n",
       "    .dataframe thead th {\n",
       "        text-align: right;\n",
       "    }\n",
       "</style>\n",
       "<table border=\"1\" class=\"dataframe\">\n",
       "  <thead>\n",
       "    <tr style=\"text-align: right;\">\n",
       "      <th></th>\n",
       "      <th>item_cnt_day</th>\n",
       "    </tr>\n",
       "    <tr>\n",
       "      <th>shop_item</th>\n",
       "      <th></th>\n",
       "    </tr>\n",
       "  </thead>\n",
       "  <tbody>\n",
       "    <tr>\n",
       "      <th>12_1590</th>\n",
       "      <td>-12.0</td>\n",
       "    </tr>\n",
       "    <tr>\n",
       "      <th>12_1593</th>\n",
       "      <td>-7.0</td>\n",
       "    </tr>\n",
       "    <tr>\n",
       "      <th>44_13419</th>\n",
       "      <td>-1.0</td>\n",
       "    </tr>\n",
       "    <tr>\n",
       "      <th>42_13474</th>\n",
       "      <td>-1.0</td>\n",
       "    </tr>\n",
       "    <tr>\n",
       "      <th>28_8775</th>\n",
       "      <td>-1.0</td>\n",
       "    </tr>\n",
       "    <tr>\n",
       "      <th>...</th>\n",
       "      <td>...</td>\n",
       "    </tr>\n",
       "    <tr>\n",
       "      <th>29_22155</th>\n",
       "      <td>1.0</td>\n",
       "    </tr>\n",
       "    <tr>\n",
       "      <th>29_22160</th>\n",
       "      <td>1.0</td>\n",
       "    </tr>\n",
       "    <tr>\n",
       "      <th>30_5766</th>\n",
       "      <td>1.0</td>\n",
       "    </tr>\n",
       "    <tr>\n",
       "      <th>30_5764</th>\n",
       "      <td>1.0</td>\n",
       "    </tr>\n",
       "    <tr>\n",
       "      <th>58_8423</th>\n",
       "      <td>1.0</td>\n",
       "    </tr>\n",
       "  </tbody>\n",
       "</table>\n",
       "<p>54124 rows × 1 columns</p>\n",
       "</div>"
      ],
      "text/plain": [
       "           item_cnt_day\n",
       "shop_item              \n",
       "12_1590           -12.0\n",
       "12_1593            -7.0\n",
       "44_13419           -1.0\n",
       "42_13474           -1.0\n",
       "28_8775            -1.0\n",
       "...                 ...\n",
       "29_22155            1.0\n",
       "29_22160            1.0\n",
       "30_5766             1.0\n",
       "30_5764             1.0\n",
       "58_8423             1.0\n",
       "\n",
       "[54124 rows x 1 columns]"
      ]
     },
     "execution_count": 638,
     "metadata": {},
     "output_type": "execute_result"
    }
   ],
   "source": [
    "temp.sort_values(by='item_cnt_day').head(54124)"
   ]
  },
  {
   "cell_type": "code",
   "execution_count": 628,
   "metadata": {
    "ExecuteTime": {
     "end_time": "2020-11-13T01:45:11.388681Z",
     "start_time": "2020-11-13T01:45:11.363779Z"
    }
   },
   "outputs": [
    {
     "data": {
      "text/plain": [
       "0.3047504974960153"
      ]
     },
     "execution_count": 628,
     "metadata": {},
     "output_type": "execute_result"
    }
   ],
   "source": [
    "temp[temp['item_cnt_day'] == 1].shape[0] / temp.shape[0]"
   ]
  },
  {
   "cell_type": "code",
   "execution_count": 630,
   "metadata": {
    "ExecuteTime": {
     "end_time": "2020-11-13T01:46:29.310470Z",
     "start_time": "2020-11-13T01:46:29.274475Z"
    }
   },
   "outputs": [],
   "source": [
    "temp_test = df_test.copy()"
   ]
  },
  {
   "cell_type": "code",
   "execution_count": 632,
   "metadata": {
    "ExecuteTime": {
     "end_time": "2020-11-13T01:46:50.291500Z",
     "start_time": "2020-11-13T01:46:50.108693Z"
    }
   },
   "outputs": [],
   "source": [
    "temp_test['shop_item'] = temp_test['shop_id'].astype(str) + '_' + temp_test['item_id'].astype(str)"
   ]
  },
  {
   "cell_type": "code",
   "execution_count": 650,
   "metadata": {
    "ExecuteTime": {
     "end_time": "2020-11-13T01:53:57.673626Z",
     "start_time": "2020-11-13T01:53:57.664156Z"
    }
   },
   "outputs": [
    {
     "data": {
      "text/html": [
       "<div>\n",
       "<style scoped>\n",
       "    .dataframe tbody tr th:only-of-type {\n",
       "        vertical-align: middle;\n",
       "    }\n",
       "\n",
       "    .dataframe tbody tr th {\n",
       "        vertical-align: top;\n",
       "    }\n",
       "\n",
       "    .dataframe thead th {\n",
       "        text-align: right;\n",
       "    }\n",
       "</style>\n",
       "<table border=\"1\" class=\"dataframe\">\n",
       "  <thead>\n",
       "    <tr style=\"text-align: right;\">\n",
       "      <th></th>\n",
       "      <th>item_cnt_day</th>\n",
       "    </tr>\n",
       "    <tr>\n",
       "      <th>shop_item</th>\n",
       "      <th></th>\n",
       "    </tr>\n",
       "  </thead>\n",
       "  <tbody>\n",
       "    <tr>\n",
       "      <th>0_1000</th>\n",
       "      <td>9.0</td>\n",
       "    </tr>\n",
       "    <tr>\n",
       "      <th>0_10004</th>\n",
       "      <td>1.0</td>\n",
       "    </tr>\n",
       "    <tr>\n",
       "      <th>0_1001</th>\n",
       "      <td>2.0</td>\n",
       "    </tr>\n",
       "    <tr>\n",
       "      <th>0_10012</th>\n",
       "      <td>3.0</td>\n",
       "    </tr>\n",
       "    <tr>\n",
       "      <th>0_1002</th>\n",
       "      <td>2.0</td>\n",
       "    </tr>\n",
       "    <tr>\n",
       "      <th>...</th>\n",
       "      <td>...</td>\n",
       "    </tr>\n",
       "    <tr>\n",
       "      <th>9_9469</th>\n",
       "      <td>1.0</td>\n",
       "    </tr>\n",
       "    <tr>\n",
       "      <th>9_9532</th>\n",
       "      <td>8.0</td>\n",
       "    </tr>\n",
       "    <tr>\n",
       "      <th>9_9782</th>\n",
       "      <td>1.0</td>\n",
       "    </tr>\n",
       "    <tr>\n",
       "      <th>9_9785</th>\n",
       "      <td>1.0</td>\n",
       "    </tr>\n",
       "    <tr>\n",
       "      <th>9_9904</th>\n",
       "      <td>10.0</td>\n",
       "    </tr>\n",
       "  </tbody>\n",
       "</table>\n",
       "<p>424124 rows × 1 columns</p>\n",
       "</div>"
      ],
      "text/plain": [
       "           item_cnt_day\n",
       "shop_item              \n",
       "0_1000              9.0\n",
       "0_10004             1.0\n",
       "0_1001              2.0\n",
       "0_10012             3.0\n",
       "0_1002              2.0\n",
       "...                 ...\n",
       "9_9469              1.0\n",
       "9_9532              8.0\n",
       "9_9782              1.0\n",
       "9_9785              1.0\n",
       "9_9904             10.0\n",
       "\n",
       "[424124 rows x 1 columns]"
      ]
     },
     "execution_count": 650,
     "metadata": {},
     "output_type": "execute_result"
    }
   ],
   "source": [
    "temp"
   ]
  },
  {
   "cell_type": "code",
   "execution_count": 652,
   "metadata": {
    "ExecuteTime": {
     "end_time": "2020-11-13T01:55:12.206352Z",
     "start_time": "2020-11-13T01:55:11.805397Z"
    }
   },
   "outputs": [],
   "source": [
    "t = temp_test.set_index('shop_item').join(temp)"
   ]
  },
  {
   "cell_type": "code",
   "execution_count": 655,
   "metadata": {
    "ExecuteTime": {
     "end_time": "2020-11-13T01:55:29.284690Z",
     "start_time": "2020-11-13T01:55:29.252447Z"
    }
   },
   "outputs": [
    {
     "data": {
      "text/plain": [
       "(102796, 4)"
      ]
     },
     "execution_count": 655,
     "metadata": {},
     "output_type": "execute_result"
    }
   ],
   "source": [
    "t[t['item_cnt_day'].isna()].shape"
   ]
  },
  {
   "cell_type": "code",
   "execution_count": 656,
   "metadata": {
    "ExecuteTime": {
     "end_time": "2020-11-13T01:55:41.606661Z",
     "start_time": "2020-11-13T01:55:41.601817Z"
    }
   },
   "outputs": [
    {
     "data": {
      "text/plain": [
       "(214200, 4)"
      ]
     },
     "execution_count": 656,
     "metadata": {},
     "output_type": "execute_result"
    }
   ],
   "source": [
    "t.shape"
   ]
  },
  {
   "cell_type": "code",
   "execution_count": 662,
   "metadata": {
    "ExecuteTime": {
     "end_time": "2020-11-13T01:56:54.224401Z",
     "start_time": "2020-11-13T01:56:53.954819Z"
    }
   },
   "outputs": [
    {
     "data": {
      "text/html": [
       "<div>\n",
       "<style scoped>\n",
       "    .dataframe tbody tr th:only-of-type {\n",
       "        vertical-align: middle;\n",
       "    }\n",
       "\n",
       "    .dataframe tbody tr th {\n",
       "        vertical-align: top;\n",
       "    }\n",
       "\n",
       "    .dataframe thead th {\n",
       "        text-align: right;\n",
       "    }\n",
       "</style>\n",
       "<table border=\"1\" class=\"dataframe\">\n",
       "  <thead>\n",
       "    <tr style=\"text-align: right;\">\n",
       "      <th></th>\n",
       "      <th>shop_id</th>\n",
       "    </tr>\n",
       "    <tr>\n",
       "      <th>shop_item</th>\n",
       "      <th></th>\n",
       "    </tr>\n",
       "  </thead>\n",
       "  <tbody>\n",
       "    <tr>\n",
       "      <th>10_10003</th>\n",
       "      <td>1</td>\n",
       "    </tr>\n",
       "    <tr>\n",
       "      <th>10_10005</th>\n",
       "      <td>1</td>\n",
       "    </tr>\n",
       "    <tr>\n",
       "      <th>10_10007</th>\n",
       "      <td>1</td>\n",
       "    </tr>\n",
       "    <tr>\n",
       "      <th>10_10021</th>\n",
       "      <td>1</td>\n",
       "    </tr>\n",
       "    <tr>\n",
       "      <th>10_10027</th>\n",
       "      <td>1</td>\n",
       "    </tr>\n",
       "    <tr>\n",
       "      <th>...</th>\n",
       "      <td>...</td>\n",
       "    </tr>\n",
       "    <tr>\n",
       "      <th>7_9978</th>\n",
       "      <td>1</td>\n",
       "    </tr>\n",
       "    <tr>\n",
       "      <th>7_9980</th>\n",
       "      <td>1</td>\n",
       "    </tr>\n",
       "    <tr>\n",
       "      <th>7_9985</th>\n",
       "      <td>1</td>\n",
       "    </tr>\n",
       "    <tr>\n",
       "      <th>7_9986</th>\n",
       "      <td>1</td>\n",
       "    </tr>\n",
       "    <tr>\n",
       "      <th>7_9989</th>\n",
       "      <td>1</td>\n",
       "    </tr>\n",
       "  </tbody>\n",
       "</table>\n",
       "<p>214200 rows × 1 columns</p>\n",
       "</div>"
      ],
      "text/plain": [
       "           shop_id\n",
       "shop_item         \n",
       "10_10003         1\n",
       "10_10005         1\n",
       "10_10007         1\n",
       "10_10021         1\n",
       "10_10027         1\n",
       "...            ...\n",
       "7_9978           1\n",
       "7_9980           1\n",
       "7_9985           1\n",
       "7_9986           1\n",
       "7_9989           1\n",
       "\n",
       "[214200 rows x 1 columns]"
      ]
     },
     "execution_count": 662,
     "metadata": {},
     "output_type": "execute_result"
    }
   ],
   "source": [
    "temp_test[['shop_item', 'shop_id']].groupby('shop_item').count()"
   ]
  },
  {
   "cell_type": "code",
   "execution_count": 661,
   "metadata": {
    "ExecuteTime": {
     "end_time": "2020-11-13T01:56:40.004760Z",
     "start_time": "2020-11-13T01:56:39.995157Z"
    }
   },
   "outputs": [
    {
     "data": {
      "text/html": [
       "<div>\n",
       "<style scoped>\n",
       "    .dataframe tbody tr th:only-of-type {\n",
       "        vertical-align: middle;\n",
       "    }\n",
       "\n",
       "    .dataframe tbody tr th {\n",
       "        vertical-align: top;\n",
       "    }\n",
       "\n",
       "    .dataframe thead th {\n",
       "        text-align: right;\n",
       "    }\n",
       "</style>\n",
       "<table border=\"1\" class=\"dataframe\">\n",
       "  <thead>\n",
       "    <tr style=\"text-align: right;\">\n",
       "      <th></th>\n",
       "      <th>ID</th>\n",
       "      <th>shop_id</th>\n",
       "      <th>item_id</th>\n",
       "      <th>shop_item</th>\n",
       "    </tr>\n",
       "  </thead>\n",
       "  <tbody>\n",
       "    <tr>\n",
       "      <th>0</th>\n",
       "      <td>0</td>\n",
       "      <td>5</td>\n",
       "      <td>5037</td>\n",
       "      <td>5_5037</td>\n",
       "    </tr>\n",
       "    <tr>\n",
       "      <th>1</th>\n",
       "      <td>1</td>\n",
       "      <td>5</td>\n",
       "      <td>5320</td>\n",
       "      <td>5_5320</td>\n",
       "    </tr>\n",
       "    <tr>\n",
       "      <th>2</th>\n",
       "      <td>2</td>\n",
       "      <td>5</td>\n",
       "      <td>5233</td>\n",
       "      <td>5_5233</td>\n",
       "    </tr>\n",
       "    <tr>\n",
       "      <th>3</th>\n",
       "      <td>3</td>\n",
       "      <td>5</td>\n",
       "      <td>5232</td>\n",
       "      <td>5_5232</td>\n",
       "    </tr>\n",
       "    <tr>\n",
       "      <th>4</th>\n",
       "      <td>4</td>\n",
       "      <td>5</td>\n",
       "      <td>5268</td>\n",
       "      <td>5_5268</td>\n",
       "    </tr>\n",
       "    <tr>\n",
       "      <th>...</th>\n",
       "      <td>...</td>\n",
       "      <td>...</td>\n",
       "      <td>...</td>\n",
       "      <td>...</td>\n",
       "    </tr>\n",
       "    <tr>\n",
       "      <th>214195</th>\n",
       "      <td>214195</td>\n",
       "      <td>45</td>\n",
       "      <td>18454</td>\n",
       "      <td>45_18454</td>\n",
       "    </tr>\n",
       "    <tr>\n",
       "      <th>214196</th>\n",
       "      <td>214196</td>\n",
       "      <td>45</td>\n",
       "      <td>16188</td>\n",
       "      <td>45_16188</td>\n",
       "    </tr>\n",
       "    <tr>\n",
       "      <th>214197</th>\n",
       "      <td>214197</td>\n",
       "      <td>45</td>\n",
       "      <td>15757</td>\n",
       "      <td>45_15757</td>\n",
       "    </tr>\n",
       "    <tr>\n",
       "      <th>214198</th>\n",
       "      <td>214198</td>\n",
       "      <td>45</td>\n",
       "      <td>19648</td>\n",
       "      <td>45_19648</td>\n",
       "    </tr>\n",
       "    <tr>\n",
       "      <th>214199</th>\n",
       "      <td>214199</td>\n",
       "      <td>45</td>\n",
       "      <td>969</td>\n",
       "      <td>45_969</td>\n",
       "    </tr>\n",
       "  </tbody>\n",
       "</table>\n",
       "<p>214200 rows × 4 columns</p>\n",
       "</div>"
      ],
      "text/plain": [
       "            ID  shop_id  item_id shop_item\n",
       "0            0        5     5037    5_5037\n",
       "1            1        5     5320    5_5320\n",
       "2            2        5     5233    5_5233\n",
       "3            3        5     5232    5_5232\n",
       "4            4        5     5268    5_5268\n",
       "...        ...      ...      ...       ...\n",
       "214195  214195       45    18454  45_18454\n",
       "214196  214196       45    16188  45_16188\n",
       "214197  214197       45    15757  45_15757\n",
       "214198  214198       45    19648  45_19648\n",
       "214199  214199       45      969    45_969\n",
       "\n",
       "[214200 rows x 4 columns]"
      ]
     },
     "execution_count": 661,
     "metadata": {},
     "output_type": "execute_result"
    }
   ],
   "source": [
    "temp_test"
   ]
  },
  {
   "cell_type": "code",
   "execution_count": null,
   "metadata": {},
   "outputs": [],
   "source": []
  },
  {
   "cell_type": "code",
   "execution_count": 623,
   "metadata": {
    "ExecuteTime": {
     "end_time": "2020-11-13T01:44:14.152510Z",
     "start_time": "2020-11-13T01:44:14.146090Z"
    }
   },
   "outputs": [
    {
     "data": {
      "text/plain": [
       "(424124, 1)"
      ]
     },
     "execution_count": 623,
     "metadata": {},
     "output_type": "execute_result"
    }
   ],
   "source": [
    "temp.shape"
   ]
  },
  {
   "cell_type": "code",
   "execution_count": 591,
   "metadata": {
    "ExecuteTime": {
     "end_time": "2020-11-13T01:25:52.623265Z",
     "start_time": "2020-11-13T01:25:40.580999Z"
    }
   },
   "outputs": [
    {
     "data": {
      "image/png": "[encoded data removed]",
      "text/plain": [
       "<Figure size 864x360 with 1 Axes>"
      ]
     },
     "metadata": {
      "needs_background": "light"
     },
     "output_type": "display_data"
    },
    {
     "data": {
      "image/png": "[encoded data removed]",
      "text/plain": [
       "<Figure size 864x360 with 1 Axes>"
      ]
     },
     "metadata": {
      "needs_background": "light"
     },
     "output_type": "display_data"
    }
   ],
   "source": [
    "temp = df_sales[['shop_id', 'item_id', 'datetimestamp', 'item_cnt_day']].copy()\n",
    "temp['datemonth'] = df_sales['datetimestamp'].dt.to_period('M')\n",
    "temp['shop_item'] = temp['shop_id'].astype(str) + '_' + temp['item_id'].astype(str)\n",
    "temp = temp[['shop_item', 'datemonth', 'item_cnt_day']].groupby(['shop_item', 'datemonth']).sum()\n",
    "temp['item_cnt_day'].hist(log=True, bins=50)\n",
    "plt.title('Total shop_item')\n",
    "plt.xlabel(\"item_cnt_day sum per month per shop_item\")\n",
    "plt.ylabel(\"item_cnt_day\")\n",
    "plt.show()\n",
    "temp['item_cnt_day'].clip(0, 500).hist(log=True, bins=50)\n",
    "plt.title('Total shop_item (clipped)')\n",
    "plt.xlabel(\"item_cnt_day sum per month per shop_item\")\n",
    "plt.ylabel(\"item_cnt_day\")\n",
    "plt.show()"
   ]
  },
  {
   "cell_type": "code",
   "execution_count": 595,
   "metadata": {
    "ExecuteTime": {
     "end_time": "2020-11-13T01:28:25.885908Z",
     "start_time": "2020-11-13T01:28:25.873787Z"
    }
   },
   "outputs": [
    {
     "data": {
      "text/plain": [
       "shop_item  datemonth\n",
       "0_1000     2013-01      5.0\n",
       "           2013-02      4.0\n",
       "0_10004    2013-02      1.0\n",
       "0_1001     2013-01      2.0\n",
       "0_10012    2013-01      1.0\n",
       "                       ... \n",
       "9_9532     2014-10      8.0\n",
       "9_9782     2013-10      1.0\n",
       "9_9785     2013-10      1.0\n",
       "9_9904     2013-10      5.0\n",
       "           2014-10      5.0\n",
       "Name: item_cnt_day, Length: 1609124, dtype: float64"
      ]
     },
     "execution_count": 595,
     "metadata": {},
     "output_type": "execute_result"
    }
   ],
   "source": [
    "temp['item_cnt_day']"
   ]
  },
  {
   "cell_type": "code",
   "execution_count": 574,
   "metadata": {
    "ExecuteTime": {
     "end_time": "2020-11-12T15:39:36.726059Z",
     "start_time": "2020-11-12T15:39:31.917719Z"
    }
   },
   "outputs": [
    {
     "data": {
      "text/plain": [
       "array([[<AxesSubplot:title={'center':'shop_item_in_x_many_months'}>]],\n",
       "      dtype=object)"
      ]
     },
     "execution_count": 574,
     "metadata": {},
     "output_type": "execute_result"
    },
    {
     "data": {
      "image/png": "[encoded data removed]",
      "text/plain": [
       "<Figure size 864x360 with 1 Axes>"
      ]
     },
     "metadata": {
      "needs_background": "light"
     },
     "output_type": "display_data"
    }
   ],
   "source": [
    "temp = df_sales.copy()\n",
    "temp['datemonth'] = df_sales['datetimestamp'].dt.to_period('M')\n",
    "temp['shop_item'] = temp['shop_id'].astype(str) + '_' + temp['item_id'].astype(str)\n",
    "temp = temp[['shop_item', 'datemonth', 'item_cnt_day']].groupby(['shop_item', 'datemonth']).sum()\n",
    "temp = temp.reset_index()\n",
    "temp = temp[['shop_item', 'datemonth']].groupby(['shop_item']).count()\n",
    "temp.columns = ['shop_item_in_x_many_months']\n",
    "temp.hist(log=True)"
   ]
  },
  {
   "cell_type": "code",
   "execution_count": 575,
   "metadata": {
    "ExecuteTime": {
     "end_time": "2020-11-12T15:39:52.279401Z",
     "start_time": "2020-11-12T15:39:50.877105Z"
    },
    "scrolled": true
   },
   "outputs": [],
   "source": [
    "temp = temp.reset_index()\n",
    "t = temp['shop_item'].str.split('_', expand=True)\n",
    "t.columns = ['shop_id', 'item_id']\n",
    "temp = temp.join(t)"
   ]
  },
  {
   "cell_type": "code",
   "execution_count": 577,
   "metadata": {
    "ExecuteTime": {
     "end_time": "2020-11-12T15:42:47.754275Z",
     "start_time": "2020-11-12T15:42:47.735779Z"
    }
   },
   "outputs": [
    {
     "data": {
      "text/html": [
       "<div>\n",
       "<style scoped>\n",
       "    .dataframe tbody tr th:only-of-type {\n",
       "        vertical-align: middle;\n",
       "    }\n",
       "\n",
       "    .dataframe tbody tr th {\n",
       "        vertical-align: top;\n",
       "    }\n",
       "\n",
       "    .dataframe thead th {\n",
       "        text-align: right;\n",
       "    }\n",
       "</style>\n",
       "<table border=\"1\" class=\"dataframe\">\n",
       "  <thead>\n",
       "    <tr style=\"text-align: right;\">\n",
       "      <th></th>\n",
       "      <th>shop_item</th>\n",
       "      <th>shop_item_in_x_many_months</th>\n",
       "      <th>shop_id</th>\n",
       "      <th>item_id</th>\n",
       "    </tr>\n",
       "  </thead>\n",
       "  <tbody>\n",
       "    <tr>\n",
       "      <th>0</th>\n",
       "      <td>0_1000</td>\n",
       "      <td>2</td>\n",
       "      <td>0</td>\n",
       "      <td>1000</td>\n",
       "    </tr>\n",
       "    <tr>\n",
       "      <th>1</th>\n",
       "      <td>0_10004</td>\n",
       "      <td>1</td>\n",
       "      <td>0</td>\n",
       "      <td>10004</td>\n",
       "    </tr>\n",
       "    <tr>\n",
       "      <th>2</th>\n",
       "      <td>0_1001</td>\n",
       "      <td>1</td>\n",
       "      <td>0</td>\n",
       "      <td>1001</td>\n",
       "    </tr>\n",
       "    <tr>\n",
       "      <th>3</th>\n",
       "      <td>0_10012</td>\n",
       "      <td>2</td>\n",
       "      <td>0</td>\n",
       "      <td>10012</td>\n",
       "    </tr>\n",
       "    <tr>\n",
       "      <th>4</th>\n",
       "      <td>0_1002</td>\n",
       "      <td>1</td>\n",
       "      <td>0</td>\n",
       "      <td>1002</td>\n",
       "    </tr>\n",
       "    <tr>\n",
       "      <th>...</th>\n",
       "      <td>...</td>\n",
       "      <td>...</td>\n",
       "      <td>...</td>\n",
       "      <td>...</td>\n",
       "    </tr>\n",
       "    <tr>\n",
       "      <th>424119</th>\n",
       "      <td>9_9469</td>\n",
       "      <td>1</td>\n",
       "      <td>9</td>\n",
       "      <td>9469</td>\n",
       "    </tr>\n",
       "    <tr>\n",
       "      <th>424120</th>\n",
       "      <td>9_9532</td>\n",
       "      <td>1</td>\n",
       "      <td>9</td>\n",
       "      <td>9532</td>\n",
       "    </tr>\n",
       "    <tr>\n",
       "      <th>424121</th>\n",
       "      <td>9_9782</td>\n",
       "      <td>1</td>\n",
       "      <td>9</td>\n",
       "      <td>9782</td>\n",
       "    </tr>\n",
       "    <tr>\n",
       "      <th>424122</th>\n",
       "      <td>9_9785</td>\n",
       "      <td>1</td>\n",
       "      <td>9</td>\n",
       "      <td>9785</td>\n",
       "    </tr>\n",
       "    <tr>\n",
       "      <th>424123</th>\n",
       "      <td>9_9904</td>\n",
       "      <td>2</td>\n",
       "      <td>9</td>\n",
       "      <td>9904</td>\n",
       "    </tr>\n",
       "  </tbody>\n",
       "</table>\n",
       "<p>424124 rows × 4 columns</p>\n",
       "</div>"
      ],
      "text/plain": [
       "       shop_item  shop_item_in_x_many_months shop_id item_id\n",
       "0         0_1000                           2       0    1000\n",
       "1        0_10004                           1       0   10004\n",
       "2         0_1001                           1       0    1001\n",
       "3        0_10012                           2       0   10012\n",
       "4         0_1002                           1       0    1002\n",
       "...          ...                         ...     ...     ...\n",
       "424119    9_9469                           1       9    9469\n",
       "424120    9_9532                           1       9    9532\n",
       "424121    9_9782                           1       9    9782\n",
       "424122    9_9785                           1       9    9785\n",
       "424123    9_9904                           2       9    9904\n",
       "\n",
       "[424124 rows x 4 columns]"
      ]
     },
     "execution_count": 577,
     "metadata": {},
     "output_type": "execute_result"
    }
   ],
   "source": [
    "temp"
   ]
  },
  {
   "cell_type": "code",
   "execution_count": 583,
   "metadata": {
    "ExecuteTime": {
     "end_time": "2020-11-12T15:44:30.177098Z",
     "start_time": "2020-11-12T15:44:30.104072Z"
    },
    "scrolled": true
   },
   "outputs": [],
   "source": [
    "temp = temp[['shop_id', 'shop_item_in_x_many_months']].groupby('shop_id').sum()"
   ]
  },
  {
   "cell_type": "code",
   "execution_count": 590,
   "metadata": {
    "ExecuteTime": {
     "end_time": "2020-11-12T15:45:45.707312Z",
     "start_time": "2020-11-12T15:45:44.911923Z"
    },
    "scrolled": true
   },
   "outputs": [
    {
     "data": {
      "text/plain": [
       "<AxesSubplot:xlabel='shop_id'>"
      ]
     },
     "execution_count": 590,
     "metadata": {},
     "output_type": "execute_result"
    },
    {
     "data": {
      "image/png": "[encoded data removed]",
      "text/plain": [
       "<Figure size 864x360 with 1 Axes>"
      ]
     },
     "metadata": {
      "needs_background": "light"
     },
     "output_type": "display_data"
    }
   ],
   "source": [
    "temp.sort_values(by='shop_item_in_x_many_months').plot.bar()"
   ]
  },
  {
   "cell_type": "code",
   "execution_count": 585,
   "metadata": {
    "ExecuteTime": {
     "end_time": "2020-11-12T15:44:48.222868Z",
     "start_time": "2020-11-12T15:44:47.392279Z"
    },
    "scrolled": true
   },
   "outputs": [
    {
     "data": {
      "image/png": "[encoded data removed]",
      "text/plain": [
       "<Figure size 864x360 with 1 Axes>"
      ]
     },
     "metadata": {
      "needs_background": "light"
     },
     "output_type": "display_data"
    }
   ],
   "source": [
    "ax = temp.plot.bar()\n",
    "# ax.legend([\"Total item count\"]);"
   ]
  },
  {
   "cell_type": "code",
   "execution_count": 581,
   "metadata": {
    "ExecuteTime": {
     "end_time": "2020-11-12T15:43:46.191333Z",
     "start_time": "2020-11-12T15:43:45.975810Z"
    }
   },
   "outputs": [
    {
     "data": {
      "text/plain": [
       "array([[<AxesSubplot:title={'center':'shop_item_in_x_many_months'}>]],\n",
       "      dtype=object)"
      ]
     },
     "execution_count": 581,
     "metadata": {},
     "output_type": "execute_result"
    },
    {
     "data": {
      "image/png": "[encoded data removed]",
      "text/plain": [
       "<Figure size 864x360 with 1 Axes>"
      ]
     },
     "metadata": {
      "needs_background": "light"
     },
     "output_type": "display_data"
    }
   ],
   "source": [
    "temp[['shop_id', 'shop_item_in_x_many_months']].groupby('shop_id').sum().hist()"
   ]
  },
  {
   "cell_type": "code",
   "execution_count": null,
   "metadata": {},
   "outputs": [],
   "source": []
  },
  {
   "cell_type": "code",
   "execution_count": null,
   "metadata": {},
   "outputs": [],
   "source": []
  },
  {
   "cell_type": "code",
   "execution_count": null,
   "metadata": {},
   "outputs": [],
   "source": [
    "temp = df_sales.copy()\n",
    "temp['shop_item'] = temp['shop_id'].astype(str) + '_' + temp['item_id'].astype(str)\n",
    "# temp = df_sales_train[['shop_id', 'item_id', 'date_block_num', 'month', 'item_cnt_day']]\\\n",
    "#     .groupby(['shop_id', 'item_id', 'date_block_num', 'month'], as_index=False)\n",
    "grouped_copy['shop_item'] = grouped_copy['shop_id'].astype(str) + '_' + grouped_copy['item_id'].astype(str)\n",
    "plt.hist(grouped_copy['shop_item'].value_counts().values, log=False, bins=40)\n",
    "plt.xlabel(\"date_block_num\")\n",
    "plt.ylabel(\"shop_item cnt\")\n",
    "plt.show()"
   ]
  },
  {
   "cell_type": "code",
   "execution_count": 394,
   "metadata": {
    "ExecuteTime": {
     "end_time": "2020-11-11T17:10:20.985743Z",
     "start_time": "2020-11-11T17:10:19.166057Z"
    }
   },
   "outputs": [
    {
     "data": {
      "image/png": "[encoded data removed]",
      "text/plain": [
       "<Figure size 864x360 with 1 Axes>"
      ]
     },
     "metadata": {
      "needs_background": "light"
     },
     "output_type": "display_data"
    }
   ],
   "source": [
    "grouped_copy = grouped.reset_index()\n",
    "grouped_copy['shop_item'] = grouped_copy['shop_id'].astype(str) + '_' + grouped_copy['item_id'].astype(str)\n",
    "plt.hist(grouped_copy['shop_item'].value_counts().values, log=False, bins=40)\n",
    "plt.xlabel(\"date_block_num\")\n",
    "plt.ylabel(\"shop_item cnt\")\n",
    "plt.show()"
   ]
  },
  {
   "cell_type": "code",
   "execution_count": 372,
   "metadata": {
    "ExecuteTime": {
     "end_time": "2020-11-11T17:04:00.173836Z",
     "start_time": "2020-11-11T17:03:58.853051Z"
    }
   },
   "outputs": [
    {
     "data": {
      "image/png": "[encoded data removed]",
      "text/plain": [
       "<Figure size 432x288 with 1 Axes>"
      ]
     },
     "metadata": {
      "needs_background": "light"
     },
     "output_type": "display_data"
    },
    {
     "data": {
      "image/png": "[encoded data removed]",
      "text/plain": [
       "<Figure size 432x288 with 1 Axes>"
      ]
     },
     "metadata": {
      "needs_background": "light"
     },
     "output_type": "display_data"
    }
   ],
   "source": [
    "temp = grouped.groupby(['shop_id', 'item_id']).sum().reset_index()\n",
    "temp.columns = [ x[0] if x[1] == '' else x[0] + '_' + x[1] for x in temp.columns]\n",
    "temp['shop_item'] = temp['shop_id'].astype(str) + '_' + temp['item_id'].astype(str)\n",
    "temp['item_cnt_day_sum'].hist(log=True, bins=40)\n",
    "plt.show()\n",
    "plt.hist(np.clip(temp['item_cnt_day_sum'].values, 0, 1000), log=True, bins=20)\n",
    "plt.show()"
   ]
  },
  {
   "cell_type": "code",
   "execution_count": 318,
   "metadata": {
    "ExecuteTime": {
     "end_time": "2020-11-11T16:41:43.795439Z",
     "start_time": "2020-11-11T16:41:43.347296Z"
    }
   },
   "outputs": [
    {
     "data": {
      "image/png": "[encoded data removed]",
      "text/plain": [
       "<Figure size 432x288 with 1 Axes>"
      ]
     },
     "metadata": {
      "needs_background": "light"
     },
     "output_type": "display_data"
    },
    {
     "data": {
      "image/png": "[encoded data removed]",
      "text/plain": [
       "<Figure size 432x288 with 1 Axes>"
      ]
     },
     "metadata": {
      "needs_background": "light"
     },
     "output_type": "display_data"
    }
   ],
   "source": [
    "temp = df_sales[['shop_id', 'item_cnt_day',]]\\\n",
    "    .groupby(['shop_id'], as_index=False).agg([np.sum, np.mean, np.std, np.median])\n",
    "temp.columns = [ x[0] if x[1] == '' else x[0] + '_' + x[1] for x in temp.columns]\n",
    "temp['item_cnt_day_sum'].hist()\n",
    "plt.show()\n",
    "plt.hist(temp['item_cnt_day_sum'].values, bins=30)\n",
    "plt.show()"
   ]
  },
  {
   "cell_type": "code",
   "execution_count": 392,
   "metadata": {
    "ExecuteTime": {
     "end_time": "2020-11-11T17:08:37.733346Z",
     "start_time": "2020-11-11T17:08:36.909211Z"
    }
   },
   "outputs": [
    {
     "name": "stdout",
     "output_type": "stream",
     "text": [
      "0.50     33.0\n",
      "0.90    360.0\n",
      "0.95    653.0\n",
      "Name: item_cnt_day_sum, dtype: float64\n"
     ]
    },
    {
     "data": {
      "image/png": "[encoded data removed]",
      "text/plain": [
       "<Figure size 864x360 with 1 Axes>"
      ]
     },
     "metadata": {
      "needs_background": "light"
     },
     "output_type": "display_data"
    },
    {
     "data": {
      "image/png": "[encoded data removed]",
      "text/plain": [
       "<Figure size 864x360 with 1 Axes>"
      ]
     },
     "metadata": {
      "needs_background": "light"
     },
     "output_type": "display_data"
    }
   ],
   "source": [
    "temp = df_sales[['item_id', 'item_cnt_day',]]\\\n",
    "    .groupby(['item_id'], as_index=False).agg([np.sum, np.mean, np.std, np.median])\n",
    "temp.columns = [ x[0] if x[1] == '' else x[0] + '_' + x[1] for x in temp.columns]\n",
    "print(temp['item_cnt_day_sum'].quantile([0.5, 0.9, 0.95]))\n",
    "# before_clip_shape = temp.shape\n",
    "temp['item_cnt_day_sum'] = temp['item_cnt_day_sum'].clip(0, 2000)\n",
    "# print('before clip ', before_clip_shape,', after clip ', temp.shape)\n",
    "temp['item_cnt_day_sum'].hist(bins=30, log=True)\n",
    "plt.xlabel(\"item_id\")\n",
    "plt.ylabel(\"Sold cnt per item_id\")\n",
    "plt.show()\n",
    "t = temp.reset_index()[['item_id', 'item_cnt_day_sum']]\n",
    "plt.scatter(t['item_cnt_day_sum'].values, t['item_id'].values, marker=',')\n",
    "plt.xlabel(\"item_id\")\n",
    "plt.ylabel(\"Sold cnt per item_id\")\n",
    "plt.show()\n",
    "# plt.hist(temp['item_cnt_day_sum'].values, bins=30, log=True)\n",
    "# plt.show()"
   ]
  },
  {
   "cell_type": "code",
   "execution_count": 362,
   "metadata": {
    "ExecuteTime": {
     "end_time": "2020-11-11T16:58:15.039047Z",
     "start_time": "2020-11-11T16:58:14.860641Z"
    }
   },
   "outputs": [
    {
     "data": {
      "text/plain": [
       "Text(0, 0.5, 'item_id')"
      ]
     },
     "execution_count": 362,
     "metadata": {},
     "output_type": "execute_result"
    },
    {
     "data": {
      "image/png": "[encoded data removed]",
      "text/plain": [
       "<Figure size 432x288 with 1 Axes>"
      ]
     },
     "metadata": {
      "needs_background": "light"
     },
     "output_type": "display_data"
    }
   ],
   "source": [
    "t = temp.reset_index()[['item_id', 'item_cnt_day_sum']]\n",
    "plt.scatter(t['item_cnt_day_sum'].values, t['item_id'].values)\n",
    "plt.xlabel(\"Sold cnt per item_id\")\n",
    "plt.ylabel(\"item_id\")"
   ]
  },
  {
   "cell_type": "code",
   "execution_count": 355,
   "metadata": {
    "ExecuteTime": {
     "end_time": "2020-11-11T16:53:09.306851Z",
     "start_time": "2020-11-11T16:53:09.300466Z"
    }
   },
   "outputs": [
    {
     "data": {
      "text/plain": [
       "22169"
      ]
     },
     "execution_count": 355,
     "metadata": {},
     "output_type": "execute_result"
    }
   ],
   "source": [
    "t['item_id'].max()"
   ]
  },
  {
   "cell_type": "code",
   "execution_count": 291,
   "metadata": {
    "ExecuteTime": {
     "end_time": "2020-11-11T13:55:51.399495Z",
     "start_time": "2020-11-11T13:55:51.394694Z"
    }
   },
   "outputs": [
    {
     "data": {
      "text/plain": [
       "(424124,)"
      ]
     },
     "execution_count": 291,
     "metadata": {},
     "output_type": "execute_result"
    }
   ],
   "source": [
    "temp['item_cnt_day_sum'].values.shape"
   ]
  },
  {
   "cell_type": "code",
   "execution_count": 263,
   "metadata": {
    "ExecuteTime": {
     "end_time": "2020-11-11T00:18:37.142405Z",
     "start_time": "2020-11-11T00:18:37.107740Z"
    }
   },
   "outputs": [],
   "source": [
    "cnt_sum = temp[['item_cnt_day_sum', 'shop_item']].set_index('shop_item')"
   ]
  },
  {
   "cell_type": "code",
   "execution_count": 265,
   "metadata": {
    "ExecuteTime": {
     "end_time": "2020-11-11T00:19:14.997665Z",
     "start_time": "2020-11-11T00:19:14.362881Z"
    }
   },
   "outputs": [],
   "source": [
    "cnt_shop_item = pd.DataFrame(grouped_copy['shop_item'].value_counts())\n",
    "cnt_shop_item.columns=['cnt_shop_item']"
   ]
  },
  {
   "cell_type": "code",
   "execution_count": 271,
   "metadata": {
    "ExecuteTime": {
     "end_time": "2020-11-11T00:20:11.688119Z",
     "start_time": "2020-11-11T00:20:11.499120Z"
    }
   },
   "outputs": [],
   "source": [
    "r = cnt_shop_item.join(cnt_sum)[['cnt_shop_item', 'item_cnt_day_sum']]"
   ]
  },
  {
   "cell_type": "code",
   "execution_count": 278,
   "metadata": {
    "ExecuteTime": {
     "end_time": "2020-11-11T00:21:09.607683Z",
     "start_time": "2020-11-11T00:21:09.594476Z"
    }
   },
   "outputs": [
    {
     "data": {
      "text/html": [
       "<div>\n",
       "<style scoped>\n",
       "    .dataframe tbody tr th:only-of-type {\n",
       "        vertical-align: middle;\n",
       "    }\n",
       "\n",
       "    .dataframe tbody tr th {\n",
       "        vertical-align: top;\n",
       "    }\n",
       "\n",
       "    .dataframe thead th {\n",
       "        text-align: right;\n",
       "    }\n",
       "</style>\n",
       "<table border=\"1\" class=\"dataframe\">\n",
       "  <thead>\n",
       "    <tr style=\"text-align: right;\">\n",
       "      <th></th>\n",
       "      <th>cnt_shop_item</th>\n",
       "      <th>item_cnt_day_sum</th>\n",
       "    </tr>\n",
       "  </thead>\n",
       "  <tbody>\n",
       "    <tr>\n",
       "      <th>28_4248</th>\n",
       "      <td>34</td>\n",
       "      <td>168.0</td>\n",
       "    </tr>\n",
       "    <tr>\n",
       "      <th>25_2308</th>\n",
       "      <td>34</td>\n",
       "      <td>267.0</td>\n",
       "    </tr>\n",
       "    <tr>\n",
       "      <th>6_5823</th>\n",
       "      <td>34</td>\n",
       "      <td>239.0</td>\n",
       "    </tr>\n",
       "    <tr>\n",
       "      <th>46_7894</th>\n",
       "      <td>34</td>\n",
       "      <td>232.0</td>\n",
       "    </tr>\n",
       "    <tr>\n",
       "      <th>28_7894</th>\n",
       "      <td>34</td>\n",
       "      <td>303.0</td>\n",
       "    </tr>\n",
       "    <tr>\n",
       "      <th>...</th>\n",
       "      <td>...</td>\n",
       "      <td>...</td>\n",
       "    </tr>\n",
       "    <tr>\n",
       "      <th>42_21849</th>\n",
       "      <td>1</td>\n",
       "      <td>1.0</td>\n",
       "    </tr>\n",
       "    <tr>\n",
       "      <th>4_20732</th>\n",
       "      <td>1</td>\n",
       "      <td>1.0</td>\n",
       "    </tr>\n",
       "    <tr>\n",
       "      <th>15_2759</th>\n",
       "      <td>1</td>\n",
       "      <td>1.0</td>\n",
       "    </tr>\n",
       "    <tr>\n",
       "      <th>35_10079</th>\n",
       "      <td>1</td>\n",
       "      <td>1.0</td>\n",
       "    </tr>\n",
       "    <tr>\n",
       "      <th>10_19275</th>\n",
       "      <td>1</td>\n",
       "      <td>1.0</td>\n",
       "    </tr>\n",
       "  </tbody>\n",
       "</table>\n",
       "<p>424124 rows × 2 columns</p>\n",
       "</div>"
      ],
      "text/plain": [
       "          cnt_shop_item  item_cnt_day_sum\n",
       "28_4248              34             168.0\n",
       "25_2308              34             267.0\n",
       "6_5823               34             239.0\n",
       "46_7894              34             232.0\n",
       "28_7894              34             303.0\n",
       "...                 ...               ...\n",
       "42_21849              1               1.0\n",
       "4_20732               1               1.0\n",
       "15_2759               1               1.0\n",
       "35_10079              1               1.0\n",
       "10_19275              1               1.0\n",
       "\n",
       "[424124 rows x 2 columns]"
      ]
     },
     "execution_count": 278,
     "metadata": {},
     "output_type": "execute_result"
    }
   ],
   "source": [
    "r"
   ]
  },
  {
   "cell_type": "code",
   "execution_count": 283,
   "metadata": {
    "ExecuteTime": {
     "end_time": "2020-11-11T00:23:14.177341Z",
     "start_time": "2020-11-11T00:23:13.450963Z"
    }
   },
   "outputs": [
    {
     "data": {
      "text/plain": [
       "<matplotlib.collections.PathCollection at 0x7f3836f67610>"
      ]
     },
     "execution_count": 283,
     "metadata": {},
     "output_type": "execute_result"
    },
    {
     "data": {
      "image/png": "[encoded data removed]",
      "text/plain": [
       "<Figure size 432x288 with 1 Axes>"
      ]
     },
     "metadata": {
      "needs_background": "light"
     },
     "output_type": "display_data"
    }
   ],
   "source": [
    "plt.scatter(r.values[:, 0], r.values[:, 1])"
   ]
  },
  {
   "cell_type": "code",
   "execution_count": 282,
   "metadata": {
    "ExecuteTime": {
     "end_time": "2020-11-11T00:22:54.178201Z",
     "start_time": "2020-11-11T00:22:54.162801Z"
    }
   },
   "outputs": [
    {
     "data": {
      "text/plain": [
       "array([[1.        , 0.25673942],\n",
       "       [0.25673942, 1.        ]])"
      ]
     },
     "execution_count": 282,
     "metadata": {},
     "output_type": "execute_result"
    }
   ],
   "source": [
    "np.corrcoef(r.values[:, 0], r.values[:, 1])"
   ]
  },
  {
   "cell_type": "code",
   "execution_count": 249,
   "metadata": {
    "ExecuteTime": {
     "end_time": "2020-11-11T00:02:47.637362Z",
     "start_time": "2020-11-11T00:02:47.622020Z"
    }
   },
   "outputs": [
    {
     "data": {
      "text/html": [
       "<div>\n",
       "<style scoped>\n",
       "    .dataframe tbody tr th:only-of-type {\n",
       "        vertical-align: middle;\n",
       "    }\n",
       "\n",
       "    .dataframe tbody tr th {\n",
       "        vertical-align: top;\n",
       "    }\n",
       "\n",
       "    .dataframe thead th {\n",
       "        text-align: right;\n",
       "    }\n",
       "</style>\n",
       "<table border=\"1\" class=\"dataframe\">\n",
       "  <thead>\n",
       "    <tr style=\"text-align: right;\">\n",
       "      <th></th>\n",
       "      <th>shop_id</th>\n",
       "      <th>item_id</th>\n",
       "      <th>item_cnt_day_sum</th>\n",
       "      <th>item_cnt_day_mean</th>\n",
       "      <th>item_cnt_day_std</th>\n",
       "      <th>item_cnt_day_median</th>\n",
       "    </tr>\n",
       "  </thead>\n",
       "  <tbody>\n",
       "    <tr>\n",
       "      <th>0</th>\n",
       "      <td>0</td>\n",
       "      <td>30</td>\n",
       "      <td>31.0</td>\n",
       "      <td>3.444444</td>\n",
       "      <td>2.242271</td>\n",
       "      <td>3.0</td>\n",
       "    </tr>\n",
       "    <tr>\n",
       "      <th>1</th>\n",
       "      <td>0</td>\n",
       "      <td>31</td>\n",
       "      <td>11.0</td>\n",
       "      <td>1.571429</td>\n",
       "      <td>0.975900</td>\n",
       "      <td>1.0</td>\n",
       "    </tr>\n",
       "    <tr>\n",
       "      <th>2</th>\n",
       "      <td>0</td>\n",
       "      <td>32</td>\n",
       "      <td>16.0</td>\n",
       "      <td>2.928571</td>\n",
       "      <td>1.111873</td>\n",
       "      <td>2.5</td>\n",
       "    </tr>\n",
       "    <tr>\n",
       "      <th>3</th>\n",
       "      <td>0</td>\n",
       "      <td>33</td>\n",
       "      <td>6.0</td>\n",
       "      <td>2.000000</td>\n",
       "      <td>0.000000</td>\n",
       "      <td>2.0</td>\n",
       "    </tr>\n",
       "    <tr>\n",
       "      <th>4</th>\n",
       "      <td>0</td>\n",
       "      <td>35</td>\n",
       "      <td>15.0</td>\n",
       "      <td>2.272727</td>\n",
       "      <td>0.467099</td>\n",
       "      <td>2.0</td>\n",
       "    </tr>\n",
       "    <tr>\n",
       "      <th>...</th>\n",
       "      <td>...</td>\n",
       "      <td>...</td>\n",
       "      <td>...</td>\n",
       "      <td>...</td>\n",
       "      <td>...</td>\n",
       "      <td>...</td>\n",
       "    </tr>\n",
       "    <tr>\n",
       "      <th>424119</th>\n",
       "      <td>59</td>\n",
       "      <td>22154</td>\n",
       "      <td>1.0</td>\n",
       "      <td>1.000000</td>\n",
       "      <td>0.000000</td>\n",
       "      <td>1.0</td>\n",
       "    </tr>\n",
       "    <tr>\n",
       "      <th>424120</th>\n",
       "      <td>59</td>\n",
       "      <td>22155</td>\n",
       "      <td>1.0</td>\n",
       "      <td>1.000000</td>\n",
       "      <td>0.000000</td>\n",
       "      <td>1.0</td>\n",
       "    </tr>\n",
       "    <tr>\n",
       "      <th>424121</th>\n",
       "      <td>59</td>\n",
       "      <td>22162</td>\n",
       "      <td>16.0</td>\n",
       "      <td>5.000000</td>\n",
       "      <td>0.000000</td>\n",
       "      <td>5.0</td>\n",
       "    </tr>\n",
       "    <tr>\n",
       "      <th>424122</th>\n",
       "      <td>59</td>\n",
       "      <td>22164</td>\n",
       "      <td>6.0</td>\n",
       "      <td>4.000000</td>\n",
       "      <td>0.000000</td>\n",
       "      <td>4.0</td>\n",
       "    </tr>\n",
       "    <tr>\n",
       "      <th>424123</th>\n",
       "      <td>59</td>\n",
       "      <td>22167</td>\n",
       "      <td>4.0</td>\n",
       "      <td>3.000000</td>\n",
       "      <td>0.000000</td>\n",
       "      <td>3.0</td>\n",
       "    </tr>\n",
       "  </tbody>\n",
       "</table>\n",
       "<p>424124 rows × 6 columns</p>\n",
       "</div>"
      ],
      "text/plain": [
       "        shop_id  item_id  item_cnt_day_sum  item_cnt_day_mean  \\\n",
       "0             0       30              31.0           3.444444   \n",
       "1             0       31              11.0           1.571429   \n",
       "2             0       32              16.0           2.928571   \n",
       "3             0       33               6.0           2.000000   \n",
       "4             0       35              15.0           2.272727   \n",
       "...         ...      ...               ...                ...   \n",
       "424119       59    22154               1.0           1.000000   \n",
       "424120       59    22155               1.0           1.000000   \n",
       "424121       59    22162              16.0           5.000000   \n",
       "424122       59    22164               6.0           4.000000   \n",
       "424123       59    22167               4.0           3.000000   \n",
       "\n",
       "        item_cnt_day_std  item_cnt_day_median  \n",
       "0               2.242271                  3.0  \n",
       "1               0.975900                  1.0  \n",
       "2               1.111873                  2.5  \n",
       "3               0.000000                  2.0  \n",
       "4               0.467099                  2.0  \n",
       "...                  ...                  ...  \n",
       "424119          0.000000                  1.0  \n",
       "424120          0.000000                  1.0  \n",
       "424121          0.000000                  5.0  \n",
       "424122          0.000000                  4.0  \n",
       "424123          0.000000                  3.0  \n",
       "\n",
       "[424124 rows x 6 columns]"
      ]
     },
     "execution_count": 249,
     "metadata": {},
     "output_type": "execute_result"
    }
   ],
   "source": [
    "temp"
   ]
  },
  {
   "cell_type": "code",
   "execution_count": 244,
   "metadata": {
    "ExecuteTime": {
     "end_time": "2020-11-11T00:02:01.656621Z",
     "start_time": "2020-11-11T00:02:01.344394Z"
    }
   },
   "outputs": [],
   "source": [
    "temp_5 = df_sales_train[['shop_id', 'item_id','item_cnt_day']]\\\n",
    "    .groupby(['shop_id', 'item_id'], as_index=False).sum()"
   ]
  },
  {
   "cell_type": "code",
   "execution_count": 247,
   "metadata": {
    "ExecuteTime": {
     "end_time": "2020-11-11T00:02:19.466132Z",
     "start_time": "2020-11-11T00:02:18.504172Z"
    }
   },
   "outputs": [
    {
     "data": {
      "text/plain": [
       "<AxesSubplot:>"
      ]
     },
     "execution_count": 247,
     "metadata": {},
     "output_type": "execute_result"
    },
    {
     "data": {
      "image/png": "[encoded data removed]",
      "text/plain": [
       "<Figure size 432x288 with 1 Axes>"
      ]
     },
     "metadata": {
      "needs_background": "light"
     },
     "output_type": "display_data"
    }
   ],
   "source": [
    "temp_5['item_cnt_day'].hist(log=True, bins=20)"
   ]
  },
  {
   "cell_type": "code",
   "execution_count": null,
   "metadata": {},
   "outputs": [],
   "source": [
    "plt.hist(grouped_copy['shop_item'].value_counts().values, log=False, bins=40)"
   ]
  },
  {
   "cell_type": "code",
   "execution_count": 224,
   "metadata": {
    "ExecuteTime": {
     "end_time": "2020-11-10T23:57:25.270190Z",
     "start_time": "2020-11-10T23:57:25.265547Z"
    }
   },
   "outputs": [],
   "source": [
    "grouped_copy.columns = [ x[0] if x[1] == '' else x[0] + '_' + x[1] for x in grouped_copy.columns]"
   ]
  },
  {
   "cell_type": "code",
   "execution_count": 225,
   "metadata": {
    "ExecuteTime": {
     "end_time": "2020-11-10T23:57:29.805673Z",
     "start_time": "2020-11-10T23:57:29.799623Z"
    }
   },
   "outputs": [
    {
     "data": {
      "text/plain": [
       "Index(['shop_id', 'item_id', 'date_block_num', 'month', 'item_cnt_day_sum',\n",
       "       'item_cnt_day_mean', 'item_cnt_day_std', 'item_cnt_day_median',\n",
       "       'shop_item'],\n",
       "      dtype='object')"
      ]
     },
     "execution_count": 225,
     "metadata": {},
     "output_type": "execute_result"
    }
   ],
   "source": [
    "grouped_copy.columns"
   ]
  },
  {
   "cell_type": "code",
   "execution_count": 226,
   "metadata": {
    "ExecuteTime": {
     "end_time": "2020-11-10T23:57:35.237324Z",
     "start_time": "2020-11-10T23:57:35.217142Z"
    }
   },
   "outputs": [
    {
     "data": {
      "text/html": [
       "<div>\n",
       "<style scoped>\n",
       "    .dataframe tbody tr th:only-of-type {\n",
       "        vertical-align: middle;\n",
       "    }\n",
       "\n",
       "    .dataframe tbody tr th {\n",
       "        vertical-align: top;\n",
       "    }\n",
       "\n",
       "    .dataframe thead th {\n",
       "        text-align: right;\n",
       "    }\n",
       "</style>\n",
       "<table border=\"1\" class=\"dataframe\">\n",
       "  <thead>\n",
       "    <tr style=\"text-align: right;\">\n",
       "      <th></th>\n",
       "      <th>shop_id</th>\n",
       "      <th>item_id</th>\n",
       "      <th>date_block_num</th>\n",
       "      <th>month</th>\n",
       "      <th>item_cnt_day_sum</th>\n",
       "      <th>item_cnt_day_mean</th>\n",
       "      <th>item_cnt_day_std</th>\n",
       "      <th>item_cnt_day_median</th>\n",
       "      <th>shop_item</th>\n",
       "    </tr>\n",
       "  </thead>\n",
       "  <tbody>\n",
       "    <tr>\n",
       "      <th>0</th>\n",
       "      <td>0</td>\n",
       "      <td>30</td>\n",
       "      <td>1</td>\n",
       "      <td>2</td>\n",
       "      <td>31.0</td>\n",
       "      <td>3.444444</td>\n",
       "      <td>2.242271</td>\n",
       "      <td>3.0</td>\n",
       "      <td>0_30</td>\n",
       "    </tr>\n",
       "    <tr>\n",
       "      <th>1</th>\n",
       "      <td>0</td>\n",
       "      <td>31</td>\n",
       "      <td>1</td>\n",
       "      <td>2</td>\n",
       "      <td>11.0</td>\n",
       "      <td>1.571429</td>\n",
       "      <td>0.975900</td>\n",
       "      <td>1.0</td>\n",
       "      <td>0_31</td>\n",
       "    </tr>\n",
       "    <tr>\n",
       "      <th>2</th>\n",
       "      <td>0</td>\n",
       "      <td>32</td>\n",
       "      <td>0</td>\n",
       "      <td>1</td>\n",
       "      <td>6.0</td>\n",
       "      <td>1.500000</td>\n",
       "      <td>0.577350</td>\n",
       "      <td>1.5</td>\n",
       "      <td>0_32</td>\n",
       "    </tr>\n",
       "    <tr>\n",
       "      <th>3</th>\n",
       "      <td>0</td>\n",
       "      <td>32</td>\n",
       "      <td>1</td>\n",
       "      <td>2</td>\n",
       "      <td>10.0</td>\n",
       "      <td>1.428571</td>\n",
       "      <td>0.534522</td>\n",
       "      <td>1.0</td>\n",
       "      <td>0_32</td>\n",
       "    </tr>\n",
       "    <tr>\n",
       "      <th>4</th>\n",
       "      <td>0</td>\n",
       "      <td>33</td>\n",
       "      <td>0</td>\n",
       "      <td>1</td>\n",
       "      <td>3.0</td>\n",
       "      <td>1.000000</td>\n",
       "      <td>0.000000</td>\n",
       "      <td>1.0</td>\n",
       "      <td>0_33</td>\n",
       "    </tr>\n",
       "    <tr>\n",
       "      <th>...</th>\n",
       "      <td>...</td>\n",
       "      <td>...</td>\n",
       "      <td>...</td>\n",
       "      <td>...</td>\n",
       "      <td>...</td>\n",
       "      <td>...</td>\n",
       "      <td>...</td>\n",
       "      <td>...</td>\n",
       "      <td>...</td>\n",
       "    </tr>\n",
       "    <tr>\n",
       "      <th>1609119</th>\n",
       "      <td>59</td>\n",
       "      <td>22164</td>\n",
       "      <td>27</td>\n",
       "      <td>4</td>\n",
       "      <td>2.0</td>\n",
       "      <td>1.000000</td>\n",
       "      <td>0.000000</td>\n",
       "      <td>1.0</td>\n",
       "      <td>59_22164</td>\n",
       "    </tr>\n",
       "    <tr>\n",
       "      <th>1609120</th>\n",
       "      <td>59</td>\n",
       "      <td>22164</td>\n",
       "      <td>30</td>\n",
       "      <td>7</td>\n",
       "      <td>1.0</td>\n",
       "      <td>1.000000</td>\n",
       "      <td>NaN</td>\n",
       "      <td>1.0</td>\n",
       "      <td>59_22164</td>\n",
       "    </tr>\n",
       "    <tr>\n",
       "      <th>1609121</th>\n",
       "      <td>59</td>\n",
       "      <td>22167</td>\n",
       "      <td>9</td>\n",
       "      <td>10</td>\n",
       "      <td>1.0</td>\n",
       "      <td>1.000000</td>\n",
       "      <td>NaN</td>\n",
       "      <td>1.0</td>\n",
       "      <td>59_22167</td>\n",
       "    </tr>\n",
       "    <tr>\n",
       "      <th>1609122</th>\n",
       "      <td>59</td>\n",
       "      <td>22167</td>\n",
       "      <td>11</td>\n",
       "      <td>12</td>\n",
       "      <td>2.0</td>\n",
       "      <td>1.000000</td>\n",
       "      <td>0.000000</td>\n",
       "      <td>1.0</td>\n",
       "      <td>59_22167</td>\n",
       "    </tr>\n",
       "    <tr>\n",
       "      <th>1609123</th>\n",
       "      <td>59</td>\n",
       "      <td>22167</td>\n",
       "      <td>17</td>\n",
       "      <td>6</td>\n",
       "      <td>1.0</td>\n",
       "      <td>1.000000</td>\n",
       "      <td>NaN</td>\n",
       "      <td>1.0</td>\n",
       "      <td>59_22167</td>\n",
       "    </tr>\n",
       "  </tbody>\n",
       "</table>\n",
       "<p>1609124 rows × 9 columns</p>\n",
       "</div>"
      ],
      "text/plain": [
       "         shop_id  item_id  date_block_num  month  item_cnt_day_sum  \\\n",
       "0              0       30               1      2              31.0   \n",
       "1              0       31               1      2              11.0   \n",
       "2              0       32               0      1               6.0   \n",
       "3              0       32               1      2              10.0   \n",
       "4              0       33               0      1               3.0   \n",
       "...          ...      ...             ...    ...               ...   \n",
       "1609119       59    22164              27      4               2.0   \n",
       "1609120       59    22164              30      7               1.0   \n",
       "1609121       59    22167               9     10               1.0   \n",
       "1609122       59    22167              11     12               2.0   \n",
       "1609123       59    22167              17      6               1.0   \n",
       "\n",
       "         item_cnt_day_mean  item_cnt_day_std  item_cnt_day_median shop_item  \n",
       "0                 3.444444          2.242271                  3.0      0_30  \n",
       "1                 1.571429          0.975900                  1.0      0_31  \n",
       "2                 1.500000          0.577350                  1.5      0_32  \n",
       "3                 1.428571          0.534522                  1.0      0_32  \n",
       "4                 1.000000          0.000000                  1.0      0_33  \n",
       "...                    ...               ...                  ...       ...  \n",
       "1609119           1.000000          0.000000                  1.0  59_22164  \n",
       "1609120           1.000000               NaN                  1.0  59_22164  \n",
       "1609121           1.000000               NaN                  1.0  59_22167  \n",
       "1609122           1.000000          0.000000                  1.0  59_22167  \n",
       "1609123           1.000000               NaN                  1.0  59_22167  \n",
       "\n",
       "[1609124 rows x 9 columns]"
      ]
     },
     "execution_count": 226,
     "metadata": {},
     "output_type": "execute_result"
    }
   ],
   "source": [
    "grouped_copy"
   ]
  },
  {
   "cell_type": "code",
   "execution_count": 217,
   "metadata": {
    "ExecuteTime": {
     "end_time": "2020-11-10T23:53:47.796866Z",
     "start_time": "2020-11-10T23:53:47.776446Z"
    }
   },
   "outputs": [
    {
     "name": "stderr",
     "output_type": "stream",
     "text": [
      "/home/anti/anaconda3/envs/ml/lib/python3.8/site-packages/numpy/core/_asarray.py:83: VisibleDeprecationWarning: Creating an ndarray from ragged nested sequences (which is a list-or-tuple of lists-or-tuples-or ndarrays with different lengths or shapes) is deprecated. If you meant to do this, you must specify 'dtype=object' when creating the ndarray\n",
      "  return array(a, dtype, copy=False, order=order)\n"
     ]
    },
    {
     "ename": "KeyError",
     "evalue": "\"[('item_cnt_day', 'sum')] not in index\"",
     "output_type": "error",
     "traceback": [
      "\u001b[0;31m---------------------------------------------------------------------------\u001b[0m",
      "\u001b[0;31mKeyError\u001b[0m                                  Traceback (most recent call last)",
      "\u001b[0;32m<ipython-input-217-df6225a6d431>\u001b[0m in \u001b[0;36m<module>\u001b[0;34m\u001b[0m\n\u001b[0;32m----> 1\u001b[0;31m \u001b[0mgrouped_copy\u001b[0m\u001b[0;34m[\u001b[0m\u001b[0;34m[\u001b[0m\u001b[0;34m'shop_id'\u001b[0m\u001b[0;34m,\u001b[0m \u001b[0;34m'item_id'\u001b[0m\u001b[0;34m,\u001b[0m \u001b[0mgrouped_copy\u001b[0m\u001b[0;34m.\u001b[0m\u001b[0mcolumns\u001b[0m\u001b[0;34m[\u001b[0m\u001b[0;36m4\u001b[0m\u001b[0;34m]\u001b[0m\u001b[0;34m]\u001b[0m\u001b[0;34m]\u001b[0m\u001b[0;34m\u001b[0m\u001b[0;34m\u001b[0m\u001b[0m\n\u001b[0m",
      "\u001b[0;32m~/anaconda3/envs/ml/lib/python3.8/site-packages/pandas/core/frame.py\u001b[0m in \u001b[0;36m__getitem__\u001b[0;34m(self, key)\u001b[0m\n\u001b[1;32m   2906\u001b[0m             \u001b[0;32mif\u001b[0m \u001b[0mis_iterator\u001b[0m\u001b[0;34m(\u001b[0m\u001b[0mkey\u001b[0m\u001b[0;34m)\u001b[0m\u001b[0;34m:\u001b[0m\u001b[0;34m\u001b[0m\u001b[0;34m\u001b[0m\u001b[0m\n\u001b[1;32m   2907\u001b[0m                 \u001b[0mkey\u001b[0m \u001b[0;34m=\u001b[0m \u001b[0mlist\u001b[0m\u001b[0;34m(\u001b[0m\u001b[0mkey\u001b[0m\u001b[0;34m)\u001b[0m\u001b[0;34m\u001b[0m\u001b[0;34m\u001b[0m\u001b[0m\n\u001b[0;32m-> 2908\u001b[0;31m             \u001b[0mindexer\u001b[0m \u001b[0;34m=\u001b[0m \u001b[0mself\u001b[0m\u001b[0;34m.\u001b[0m\u001b[0mloc\u001b[0m\u001b[0;34m.\u001b[0m\u001b[0m_get_listlike_indexer\u001b[0m\u001b[0;34m(\u001b[0m\u001b[0mkey\u001b[0m\u001b[0;34m,\u001b[0m \u001b[0maxis\u001b[0m\u001b[0;34m=\u001b[0m\u001b[0;36m1\u001b[0m\u001b[0;34m,\u001b[0m \u001b[0mraise_missing\u001b[0m\u001b[0;34m=\u001b[0m\u001b[0;32mTrue\u001b[0m\u001b[0;34m)\u001b[0m\u001b[0;34m[\u001b[0m\u001b[0;36m1\u001b[0m\u001b[0;34m]\u001b[0m\u001b[0;34m\u001b[0m\u001b[0;34m\u001b[0m\u001b[0m\n\u001b[0m\u001b[1;32m   2909\u001b[0m \u001b[0;34m\u001b[0m\u001b[0m\n\u001b[1;32m   2910\u001b[0m         \u001b[0;31m# take() does not accept boolean indexers\u001b[0m\u001b[0;34m\u001b[0m\u001b[0;34m\u001b[0m\u001b[0;34m\u001b[0m\u001b[0m\n",
      "\u001b[0;32m~/anaconda3/envs/ml/lib/python3.8/site-packages/pandas/core/indexing.py\u001b[0m in \u001b[0;36m_get_listlike_indexer\u001b[0;34m(self, key, axis, raise_missing)\u001b[0m\n\u001b[1;32m   1238\u001b[0m         \u001b[0;31m# Have the index compute an indexer or return None\u001b[0m\u001b[0;34m\u001b[0m\u001b[0;34m\u001b[0m\u001b[0;34m\u001b[0m\u001b[0m\n\u001b[1;32m   1239\u001b[0m         \u001b[0;31m# if it cannot handle:\u001b[0m\u001b[0;34m\u001b[0m\u001b[0;34m\u001b[0m\u001b[0;34m\u001b[0m\u001b[0m\n\u001b[0;32m-> 1240\u001b[0;31m         \u001b[0mindexer\u001b[0m\u001b[0;34m,\u001b[0m \u001b[0mkeyarr\u001b[0m \u001b[0;34m=\u001b[0m \u001b[0max\u001b[0m\u001b[0;34m.\u001b[0m\u001b[0m_convert_listlike_indexer\u001b[0m\u001b[0;34m(\u001b[0m\u001b[0mkey\u001b[0m\u001b[0;34m)\u001b[0m\u001b[0;34m\u001b[0m\u001b[0;34m\u001b[0m\u001b[0m\n\u001b[0m\u001b[1;32m   1241\u001b[0m         \u001b[0;31m# We only act on all found values:\u001b[0m\u001b[0;34m\u001b[0m\u001b[0;34m\u001b[0m\u001b[0;34m\u001b[0m\u001b[0m\n\u001b[1;32m   1242\u001b[0m         \u001b[0;32mif\u001b[0m \u001b[0mindexer\u001b[0m \u001b[0;32mis\u001b[0m \u001b[0;32mnot\u001b[0m \u001b[0;32mNone\u001b[0m \u001b[0;32mand\u001b[0m \u001b[0;34m(\u001b[0m\u001b[0mindexer\u001b[0m \u001b[0;34m!=\u001b[0m \u001b[0;34m-\u001b[0m\u001b[0;36m1\u001b[0m\u001b[0;34m)\u001b[0m\u001b[0;34m.\u001b[0m\u001b[0mall\u001b[0m\u001b[0;34m(\u001b[0m\u001b[0;34m)\u001b[0m\u001b[0;34m:\u001b[0m\u001b[0;34m\u001b[0m\u001b[0;34m\u001b[0m\u001b[0m\n",
      "\u001b[0;32m~/anaconda3/envs/ml/lib/python3.8/site-packages/pandas/core/indexes/multi.py\u001b[0m in \u001b[0;36m_convert_listlike_indexer\u001b[0;34m(self, keyarr)\u001b[0m\n\u001b[1;32m   2395\u001b[0m             \u001b[0mmask\u001b[0m \u001b[0;34m=\u001b[0m \u001b[0mcheck\u001b[0m \u001b[0;34m==\u001b[0m \u001b[0;34m-\u001b[0m\u001b[0;36m1\u001b[0m\u001b[0;34m\u001b[0m\u001b[0;34m\u001b[0m\u001b[0m\n\u001b[1;32m   2396\u001b[0m             \u001b[0;32mif\u001b[0m \u001b[0mmask\u001b[0m\u001b[0;34m.\u001b[0m\u001b[0many\u001b[0m\u001b[0;34m(\u001b[0m\u001b[0;34m)\u001b[0m\u001b[0;34m:\u001b[0m\u001b[0;34m\u001b[0m\u001b[0;34m\u001b[0m\u001b[0m\n\u001b[0;32m-> 2397\u001b[0;31m                 \u001b[0;32mraise\u001b[0m \u001b[0mKeyError\u001b[0m\u001b[0;34m(\u001b[0m\u001b[0;34mf\"{keyarr[mask]} not in index\"\u001b[0m\u001b[0;34m)\u001b[0m\u001b[0;34m\u001b[0m\u001b[0;34m\u001b[0m\u001b[0m\n\u001b[0m\u001b[1;32m   2398\u001b[0m \u001b[0;34m\u001b[0m\u001b[0m\n\u001b[1;32m   2399\u001b[0m         \u001b[0;32mreturn\u001b[0m \u001b[0mindexer\u001b[0m\u001b[0;34m,\u001b[0m \u001b[0mkeyarr\u001b[0m\u001b[0;34m\u001b[0m\u001b[0;34m\u001b[0m\u001b[0m\n",
      "\u001b[0;31mKeyError\u001b[0m: \"[('item_cnt_day', 'sum')] not in index\""
     ]
    }
   ],
   "source": [
    "grouped_copy[['shop_id', 'item_id', grouped_copy.columns[4]]]"
   ]
  },
  {
   "cell_type": "code",
   "execution_count": 202,
   "metadata": {
    "ExecuteTime": {
     "end_time": "2020-11-10T23:32:04.892621Z",
     "start_time": "2020-11-10T23:32:04.254239Z"
    }
   },
   "outputs": [
    {
     "data": {
      "text/plain": [
       "3.7939942092406937"
      ]
     },
     "execution_count": 202,
     "metadata": {},
     "output_type": "execute_result"
    }
   ],
   "source": [
    "grouped_copy['shop_item'].value_counts().values.mean()"
   ]
  },
  {
   "cell_type": "code",
   "execution_count": 204,
   "metadata": {
    "ExecuteTime": {
     "end_time": "2020-11-10T23:32:38.476316Z",
     "start_time": "2020-11-10T23:32:37.909511Z"
    }
   },
   "outputs": [
    {
     "data": {
      "text/plain": [
       "2.0"
      ]
     },
     "execution_count": 204,
     "metadata": {},
     "output_type": "execute_result"
    }
   ],
   "source": [
    "np.median(grouped_copy['shop_item'].value_counts().values)"
   ]
  },
  {
   "cell_type": "code",
   "execution_count": 208,
   "metadata": {
    "ExecuteTime": {
     "end_time": "2020-11-10T23:33:40.511074Z",
     "start_time": "2020-11-10T23:33:39.943030Z"
    }
   },
   "outputs": [],
   "source": [
    "t = grouped_copy['shop_item'].value_counts()"
   ]
  },
  {
   "cell_type": "code",
   "execution_count": 211,
   "metadata": {
    "ExecuteTime": {
     "end_time": "2020-11-10T23:34:00.276198Z",
     "start_time": "2020-11-10T23:34:00.245679Z"
    }
   },
   "outputs": [
    {
     "name": "stdout",
     "output_type": "stream",
     "text": [
      "(278527,)\n",
      "(5834,)\n"
     ]
    }
   ],
   "source": [
    "print(t[t<4].shape)\n",
    "print(t[t>=20].shape)"
   ]
  },
  {
   "cell_type": "code",
   "execution_count": 151,
   "metadata": {
    "ExecuteTime": {
     "end_time": "2020-11-10T22:42:32.698687Z",
     "start_time": "2020-11-10T22:42:32.681968Z"
    }
   },
   "outputs": [
    {
     "data": {
      "text/html": [
       "<div>\n",
       "<style scoped>\n",
       "    .dataframe tbody tr th:only-of-type {\n",
       "        vertical-align: middle;\n",
       "    }\n",
       "\n",
       "    .dataframe tbody tr th {\n",
       "        vertical-align: top;\n",
       "    }\n",
       "\n",
       "    .dataframe thead tr th {\n",
       "        text-align: left;\n",
       "    }\n",
       "\n",
       "    .dataframe thead tr:last-of-type th {\n",
       "        text-align: right;\n",
       "    }\n",
       "</style>\n",
       "<table border=\"1\" class=\"dataframe\">\n",
       "  <thead>\n",
       "    <tr>\n",
       "      <th></th>\n",
       "      <th></th>\n",
       "      <th></th>\n",
       "      <th></th>\n",
       "      <th colspan=\"4\" halign=\"left\">item_cnt_day</th>\n",
       "    </tr>\n",
       "    <tr>\n",
       "      <th></th>\n",
       "      <th></th>\n",
       "      <th></th>\n",
       "      <th></th>\n",
       "      <th>sum</th>\n",
       "      <th>mean</th>\n",
       "      <th>std</th>\n",
       "      <th>median</th>\n",
       "    </tr>\n",
       "    <tr>\n",
       "      <th>shop_id</th>\n",
       "      <th>item_id</th>\n",
       "      <th>date_block_num</th>\n",
       "      <th>month</th>\n",
       "      <th></th>\n",
       "      <th></th>\n",
       "      <th></th>\n",
       "      <th></th>\n",
       "    </tr>\n",
       "  </thead>\n",
       "  <tbody>\n",
       "    <tr>\n",
       "      <th rowspan=\"5\" valign=\"top\">0</th>\n",
       "      <th>30</th>\n",
       "      <th>1</th>\n",
       "      <th>2</th>\n",
       "      <td>31.0</td>\n",
       "      <td>3.444444</td>\n",
       "      <td>2.242271</td>\n",
       "      <td>3.0</td>\n",
       "    </tr>\n",
       "    <tr>\n",
       "      <th>31</th>\n",
       "      <th>1</th>\n",
       "      <th>2</th>\n",
       "      <td>11.0</td>\n",
       "      <td>1.571429</td>\n",
       "      <td>0.975900</td>\n",
       "      <td>1.0</td>\n",
       "    </tr>\n",
       "    <tr>\n",
       "      <th rowspan=\"2\" valign=\"top\">32</th>\n",
       "      <th>0</th>\n",
       "      <th>1</th>\n",
       "      <td>6.0</td>\n",
       "      <td>1.500000</td>\n",
       "      <td>0.577350</td>\n",
       "      <td>1.5</td>\n",
       "    </tr>\n",
       "    <tr>\n",
       "      <th>1</th>\n",
       "      <th>2</th>\n",
       "      <td>10.0</td>\n",
       "      <td>1.428571</td>\n",
       "      <td>0.534522</td>\n",
       "      <td>1.0</td>\n",
       "    </tr>\n",
       "    <tr>\n",
       "      <th>33</th>\n",
       "      <th>0</th>\n",
       "      <th>1</th>\n",
       "      <td>3.0</td>\n",
       "      <td>1.000000</td>\n",
       "      <td>0.000000</td>\n",
       "      <td>1.0</td>\n",
       "    </tr>\n",
       "  </tbody>\n",
       "</table>\n",
       "</div>"
      ],
      "text/plain": [
       "                                     item_cnt_day                           \n",
       "                                              sum      mean       std median\n",
       "shop_id item_id date_block_num month                                        \n",
       "0       30      1              2             31.0  3.444444  2.242271    3.0\n",
       "        31      1              2             11.0  1.571429  0.975900    1.0\n",
       "        32      0              1              6.0  1.500000  0.577350    1.5\n",
       "                1              2             10.0  1.428571  0.534522    1.0\n",
       "        33      0              1              3.0  1.000000  0.000000    1.0"
      ]
     },
     "execution_count": 151,
     "metadata": {},
     "output_type": "execute_result"
    }
   ],
   "source": [
    "grouped.head()"
   ]
  },
  {
   "cell_type": "code",
   "execution_count": 150,
   "metadata": {
    "ExecuteTime": {
     "end_time": "2020-11-10T22:42:28.288263Z",
     "start_time": "2020-11-10T22:42:28.272674Z"
    }
   },
   "outputs": [
    {
     "data": {
      "text/html": [
       "<div>\n",
       "<style scoped>\n",
       "    .dataframe tbody tr th:only-of-type {\n",
       "        vertical-align: middle;\n",
       "    }\n",
       "\n",
       "    .dataframe tbody tr th {\n",
       "        vertical-align: top;\n",
       "    }\n",
       "\n",
       "    .dataframe thead tr th {\n",
       "        text-align: left;\n",
       "    }\n",
       "\n",
       "    .dataframe thead tr:last-of-type th {\n",
       "        text-align: right;\n",
       "    }\n",
       "</style>\n",
       "<table border=\"1\" class=\"dataframe\">\n",
       "  <thead>\n",
       "    <tr>\n",
       "      <th></th>\n",
       "      <th></th>\n",
       "      <th></th>\n",
       "      <th></th>\n",
       "      <th colspan=\"4\" halign=\"left\">item_cnt_day_-1</th>\n",
       "    </tr>\n",
       "    <tr>\n",
       "      <th></th>\n",
       "      <th></th>\n",
       "      <th></th>\n",
       "      <th></th>\n",
       "      <th>sum</th>\n",
       "      <th>mean</th>\n",
       "      <th>std</th>\n",
       "      <th>median</th>\n",
       "    </tr>\n",
       "    <tr>\n",
       "      <th>shop_id</th>\n",
       "      <th>item_id</th>\n",
       "      <th>date_block_num</th>\n",
       "      <th>month</th>\n",
       "      <th></th>\n",
       "      <th></th>\n",
       "      <th></th>\n",
       "      <th></th>\n",
       "    </tr>\n",
       "  </thead>\n",
       "  <tbody>\n",
       "    <tr>\n",
       "      <th rowspan=\"5\" valign=\"top\">0</th>\n",
       "      <th>30</th>\n",
       "      <th>2</th>\n",
       "      <th>2</th>\n",
       "      <td>31.0</td>\n",
       "      <td>3.444444</td>\n",
       "      <td>2.242271</td>\n",
       "      <td>3.0</td>\n",
       "    </tr>\n",
       "    <tr>\n",
       "      <th>31</th>\n",
       "      <th>2</th>\n",
       "      <th>2</th>\n",
       "      <td>11.0</td>\n",
       "      <td>1.571429</td>\n",
       "      <td>0.975900</td>\n",
       "      <td>1.0</td>\n",
       "    </tr>\n",
       "    <tr>\n",
       "      <th rowspan=\"2\" valign=\"top\">32</th>\n",
       "      <th>1</th>\n",
       "      <th>1</th>\n",
       "      <td>6.0</td>\n",
       "      <td>1.500000</td>\n",
       "      <td>0.577350</td>\n",
       "      <td>1.5</td>\n",
       "    </tr>\n",
       "    <tr>\n",
       "      <th>2</th>\n",
       "      <th>2</th>\n",
       "      <td>10.0</td>\n",
       "      <td>1.428571</td>\n",
       "      <td>0.534522</td>\n",
       "      <td>1.0</td>\n",
       "    </tr>\n",
       "    <tr>\n",
       "      <th>33</th>\n",
       "      <th>1</th>\n",
       "      <th>1</th>\n",
       "      <td>3.0</td>\n",
       "      <td>1.000000</td>\n",
       "      <td>0.000000</td>\n",
       "      <td>1.0</td>\n",
       "    </tr>\n",
       "  </tbody>\n",
       "</table>\n",
       "</div>"
      ],
      "text/plain": [
       "                                     item_cnt_day_-1                      \\\n",
       "                                                 sum      mean       std   \n",
       "shop_id item_id date_block_num month                                       \n",
       "0       30      2              2                31.0  3.444444  2.242271   \n",
       "        31      2              2                11.0  1.571429  0.975900   \n",
       "        32      1              1                 6.0  1.500000  0.577350   \n",
       "                2              2                10.0  1.428571  0.534522   \n",
       "        33      1              1                 3.0  1.000000  0.000000   \n",
       "\n",
       "                                             \n",
       "                                     median  \n",
       "shop_id item_id date_block_num month         \n",
       "0       30      2              2        3.0  \n",
       "        31      2              2        1.0  \n",
       "        32      1              1        1.5  \n",
       "                2              2        1.0  \n",
       "        33      1              1        1.0  "
      ]
     },
     "execution_count": 150,
     "metadata": {},
     "output_type": "execute_result"
    }
   ],
   "source": [
    "list_of_grouped_copy[0].head()"
   ]
  },
  {
   "cell_type": "code",
   "execution_count": 147,
   "metadata": {
    "ExecuteTime": {
     "end_time": "2020-11-10T22:39:58.258161Z",
     "start_time": "2020-11-10T22:39:58.224190Z"
    }
   },
   "outputs": [
    {
     "data": {
      "text/html": [
       "<div>\n",
       "<style scoped>\n",
       "    .dataframe tbody tr th:only-of-type {\n",
       "        vertical-align: middle;\n",
       "    }\n",
       "\n",
       "    .dataframe tbody tr th {\n",
       "        vertical-align: top;\n",
       "    }\n",
       "\n",
       "    .dataframe thead tr th {\n",
       "        text-align: left;\n",
       "    }\n",
       "\n",
       "    .dataframe thead tr:last-of-type th {\n",
       "        text-align: right;\n",
       "    }\n",
       "</style>\n",
       "<table border=\"1\" class=\"dataframe\">\n",
       "  <thead>\n",
       "    <tr>\n",
       "      <th></th>\n",
       "      <th></th>\n",
       "      <th></th>\n",
       "      <th></th>\n",
       "      <th colspan=\"4\" halign=\"left\">item_cnt_day</th>\n",
       "      <th colspan=\"4\" halign=\"left\">item_cnt_day_-1</th>\n",
       "    </tr>\n",
       "    <tr>\n",
       "      <th></th>\n",
       "      <th></th>\n",
       "      <th></th>\n",
       "      <th></th>\n",
       "      <th>sum</th>\n",
       "      <th>mean</th>\n",
       "      <th>std</th>\n",
       "      <th>median</th>\n",
       "      <th>sum</th>\n",
       "      <th>mean</th>\n",
       "      <th>std</th>\n",
       "      <th>median</th>\n",
       "    </tr>\n",
       "    <tr>\n",
       "      <th>shop_id</th>\n",
       "      <th>item_id</th>\n",
       "      <th>date_block_num</th>\n",
       "      <th>month</th>\n",
       "      <th></th>\n",
       "      <th></th>\n",
       "      <th></th>\n",
       "      <th></th>\n",
       "      <th></th>\n",
       "      <th></th>\n",
       "      <th></th>\n",
       "      <th></th>\n",
       "    </tr>\n",
       "  </thead>\n",
       "  <tbody>\n",
       "    <tr>\n",
       "      <th rowspan=\"5\" valign=\"top\">0</th>\n",
       "      <th>30</th>\n",
       "      <th>1</th>\n",
       "      <th>2</th>\n",
       "      <td>31.0</td>\n",
       "      <td>3.444444</td>\n",
       "      <td>2.242271</td>\n",
       "      <td>3.0</td>\n",
       "      <td>NaN</td>\n",
       "      <td>NaN</td>\n",
       "      <td>NaN</td>\n",
       "      <td>NaN</td>\n",
       "    </tr>\n",
       "    <tr>\n",
       "      <th>31</th>\n",
       "      <th>1</th>\n",
       "      <th>2</th>\n",
       "      <td>11.0</td>\n",
       "      <td>1.571429</td>\n",
       "      <td>0.975900</td>\n",
       "      <td>1.0</td>\n",
       "      <td>NaN</td>\n",
       "      <td>NaN</td>\n",
       "      <td>NaN</td>\n",
       "      <td>NaN</td>\n",
       "    </tr>\n",
       "    <tr>\n",
       "      <th rowspan=\"2\" valign=\"top\">32</th>\n",
       "      <th>0</th>\n",
       "      <th>1</th>\n",
       "      <td>6.0</td>\n",
       "      <td>1.500000</td>\n",
       "      <td>0.577350</td>\n",
       "      <td>1.5</td>\n",
       "      <td>NaN</td>\n",
       "      <td>NaN</td>\n",
       "      <td>NaN</td>\n",
       "      <td>NaN</td>\n",
       "    </tr>\n",
       "    <tr>\n",
       "      <th>1</th>\n",
       "      <th>2</th>\n",
       "      <td>10.0</td>\n",
       "      <td>1.428571</td>\n",
       "      <td>0.534522</td>\n",
       "      <td>1.0</td>\n",
       "      <td>NaN</td>\n",
       "      <td>NaN</td>\n",
       "      <td>NaN</td>\n",
       "      <td>NaN</td>\n",
       "    </tr>\n",
       "    <tr>\n",
       "      <th>33</th>\n",
       "      <th>0</th>\n",
       "      <th>1</th>\n",
       "      <td>3.0</td>\n",
       "      <td>1.000000</td>\n",
       "      <td>0.000000</td>\n",
       "      <td>1.0</td>\n",
       "      <td>NaN</td>\n",
       "      <td>NaN</td>\n",
       "      <td>NaN</td>\n",
       "      <td>NaN</td>\n",
       "    </tr>\n",
       "    <tr>\n",
       "      <th>...</th>\n",
       "      <th>...</th>\n",
       "      <th>...</th>\n",
       "      <th>...</th>\n",
       "      <td>...</td>\n",
       "      <td>...</td>\n",
       "      <td>...</td>\n",
       "      <td>...</td>\n",
       "      <td>...</td>\n",
       "      <td>...</td>\n",
       "      <td>...</td>\n",
       "      <td>...</td>\n",
       "    </tr>\n",
       "    <tr>\n",
       "      <th rowspan=\"5\" valign=\"top\">59</th>\n",
       "      <th rowspan=\"2\" valign=\"top\">22164</th>\n",
       "      <th>27</th>\n",
       "      <th>4</th>\n",
       "      <td>2.0</td>\n",
       "      <td>1.000000</td>\n",
       "      <td>0.000000</td>\n",
       "      <td>1.0</td>\n",
       "      <td>NaN</td>\n",
       "      <td>NaN</td>\n",
       "      <td>NaN</td>\n",
       "      <td>NaN</td>\n",
       "    </tr>\n",
       "    <tr>\n",
       "      <th>30</th>\n",
       "      <th>7</th>\n",
       "      <td>1.0</td>\n",
       "      <td>1.000000</td>\n",
       "      <td>NaN</td>\n",
       "      <td>1.0</td>\n",
       "      <td>NaN</td>\n",
       "      <td>NaN</td>\n",
       "      <td>NaN</td>\n",
       "      <td>NaN</td>\n",
       "    </tr>\n",
       "    <tr>\n",
       "      <th rowspan=\"3\" valign=\"top\">22167</th>\n",
       "      <th>9</th>\n",
       "      <th>10</th>\n",
       "      <td>1.0</td>\n",
       "      <td>1.000000</td>\n",
       "      <td>NaN</td>\n",
       "      <td>1.0</td>\n",
       "      <td>NaN</td>\n",
       "      <td>NaN</td>\n",
       "      <td>NaN</td>\n",
       "      <td>NaN</td>\n",
       "    </tr>\n",
       "    <tr>\n",
       "      <th>11</th>\n",
       "      <th>12</th>\n",
       "      <td>2.0</td>\n",
       "      <td>1.000000</td>\n",
       "      <td>0.000000</td>\n",
       "      <td>1.0</td>\n",
       "      <td>NaN</td>\n",
       "      <td>NaN</td>\n",
       "      <td>NaN</td>\n",
       "      <td>NaN</td>\n",
       "    </tr>\n",
       "    <tr>\n",
       "      <th>17</th>\n",
       "      <th>6</th>\n",
       "      <td>1.0</td>\n",
       "      <td>1.000000</td>\n",
       "      <td>NaN</td>\n",
       "      <td>1.0</td>\n",
       "      <td>NaN</td>\n",
       "      <td>NaN</td>\n",
       "      <td>NaN</td>\n",
       "      <td>NaN</td>\n",
       "    </tr>\n",
       "  </tbody>\n",
       "</table>\n",
       "<p>1609124 rows × 8 columns</p>\n",
       "</div>"
      ],
      "text/plain": [
       "                                     item_cnt_day                             \\\n",
       "                                              sum      mean       std median   \n",
       "shop_id item_id date_block_num month                                           \n",
       "0       30      1              2             31.0  3.444444  2.242271    3.0   \n",
       "        31      1              2             11.0  1.571429  0.975900    1.0   \n",
       "        32      0              1              6.0  1.500000  0.577350    1.5   \n",
       "                1              2             10.0  1.428571  0.534522    1.0   \n",
       "        33      0              1              3.0  1.000000  0.000000    1.0   \n",
       "...                                           ...       ...       ...    ...   \n",
       "59      22164   27             4              2.0  1.000000  0.000000    1.0   \n",
       "                30             7              1.0  1.000000       NaN    1.0   \n",
       "        22167   9              10             1.0  1.000000       NaN    1.0   \n",
       "                11             12             2.0  1.000000  0.000000    1.0   \n",
       "                17             6              1.0  1.000000       NaN    1.0   \n",
       "\n",
       "                                     item_cnt_day_-1                  \n",
       "                                                 sum mean std median  \n",
       "shop_id item_id date_block_num month                                  \n",
       "0       30      1              2                 NaN  NaN NaN    NaN  \n",
       "        31      1              2                 NaN  NaN NaN    NaN  \n",
       "        32      0              1                 NaN  NaN NaN    NaN  \n",
       "                1              2                 NaN  NaN NaN    NaN  \n",
       "        33      0              1                 NaN  NaN NaN    NaN  \n",
       "...                                              ...  ...  ..    ...  \n",
       "59      22164   27             4                 NaN  NaN NaN    NaN  \n",
       "                30             7                 NaN  NaN NaN    NaN  \n",
       "        22167   9              10                NaN  NaN NaN    NaN  \n",
       "                11             12                NaN  NaN NaN    NaN  \n",
       "                17             6                 NaN  NaN NaN    NaN  \n",
       "\n",
       "[1609124 rows x 8 columns]"
      ]
     },
     "execution_count": 147,
     "metadata": {},
     "output_type": "execute_result"
    }
   ],
   "source": [
    "temp"
   ]
  },
  {
   "cell_type": "code",
   "execution_count": 154,
   "metadata": {
    "ExecuteTime": {
     "end_time": "2020-11-10T22:44:00.430336Z",
     "start_time": "2020-11-10T22:44:00.298513Z"
    },
    "scrolled": true
   },
   "outputs": [],
   "source": [
    "grouped_copy = grouped.reset_index()\n",
    "first = grouped_copy[(grouped_copy['date_block_num'] == 1) & (grouped_copy['shop_id'] == 0)]\n",
    "second = grouped_copy[(grouped_copy['date_block_num'] == 2) & (grouped_copy['shop_id'] == 0)]"
   ]
  },
  {
   "cell_type": "code",
   "execution_count": 158,
   "metadata": {
    "ExecuteTime": {
     "end_time": "2020-11-10T22:44:33.927101Z",
     "start_time": "2020-11-10T22:44:33.913885Z"
    }
   },
   "outputs": [
    {
     "data": {
      "text/plain": [
       "array([], dtype=int64)"
      ]
     },
     "execution_count": 158,
     "metadata": {},
     "output_type": "execute_result"
    }
   ],
   "source": [
    "np.intersect1d(first['item_id'].values, second['item_id'].values)"
   ]
  },
  {
   "cell_type": "code",
   "execution_count": null,
   "metadata": {},
   "outputs": [],
   "source": []
  },
  {
   "cell_type": "code",
   "execution_count": 44,
   "metadata": {
    "ExecuteTime": {
     "end_time": "2020-11-10T16:16:55.608749Z",
     "start_time": "2020-11-10T16:16:55.555322Z"
    },
    "scrolled": true
   },
   "outputs": [
    {
     "ename": "KeyError",
     "evalue": "'item_cnt_month'",
     "output_type": "error",
     "traceback": [
      "\u001b[0;31m---------------------------------------------------------------------------\u001b[0m",
      "\u001b[0;31mKeyError\u001b[0m                                  Traceback (most recent call last)",
      "\u001b[0;32m~/anaconda3/envs/ml/lib/python3.8/site-packages/pandas/core/indexes/base.py\u001b[0m in \u001b[0;36mget_loc\u001b[0;34m(self, key, method, tolerance)\u001b[0m\n\u001b[1;32m   2888\u001b[0m             \u001b[0;32mtry\u001b[0m\u001b[0;34m:\u001b[0m\u001b[0;34m\u001b[0m\u001b[0;34m\u001b[0m\u001b[0m\n\u001b[0;32m-> 2889\u001b[0;31m                 \u001b[0;32mreturn\u001b[0m \u001b[0mself\u001b[0m\u001b[0;34m.\u001b[0m\u001b[0m_engine\u001b[0m\u001b[0;34m.\u001b[0m\u001b[0mget_loc\u001b[0m\u001b[0;34m(\u001b[0m\u001b[0mcasted_key\u001b[0m\u001b[0;34m)\u001b[0m\u001b[0;34m\u001b[0m\u001b[0;34m\u001b[0m\u001b[0m\n\u001b[0m\u001b[1;32m   2890\u001b[0m             \u001b[0;32mexcept\u001b[0m \u001b[0mKeyError\u001b[0m \u001b[0;32mas\u001b[0m \u001b[0merr\u001b[0m\u001b[0;34m:\u001b[0m\u001b[0;34m\u001b[0m\u001b[0;34m\u001b[0m\u001b[0m\n",
      "\u001b[0;32mpandas/_libs/index.pyx\u001b[0m in \u001b[0;36mpandas._libs.index.IndexEngine.get_loc\u001b[0;34m()\u001b[0m\n",
      "\u001b[0;32mpandas/_libs/index.pyx\u001b[0m in \u001b[0;36mpandas._libs.index.IndexEngine.get_loc\u001b[0;34m()\u001b[0m\n",
      "\u001b[0;32mpandas/_libs/hashtable_class_helper.pxi\u001b[0m in \u001b[0;36mpandas._libs.hashtable.PyObjectHashTable.get_item\u001b[0;34m()\u001b[0m\n",
      "\u001b[0;32mpandas/_libs/hashtable_class_helper.pxi\u001b[0m in \u001b[0;36mpandas._libs.hashtable.PyObjectHashTable.get_item\u001b[0;34m()\u001b[0m\n",
      "\u001b[0;31mKeyError\u001b[0m: 'item_cnt_month'",
      "\nThe above exception was the direct cause of the following exception:\n",
      "\u001b[0;31mKeyError\u001b[0m                                  Traceback (most recent call last)",
      "\u001b[0;32m<ipython-input-44-e48a5d5eb1ec>\u001b[0m in \u001b[0;36m<module>\u001b[0;34m\u001b[0m\n\u001b[0;32m----> 1\u001b[0;31m \u001b[0mgrouped\u001b[0m\u001b[0;34m[\u001b[0m\u001b[0;34m'item_cnt_month'\u001b[0m\u001b[0;34m]\u001b[0m \u001b[0;34m=\u001b[0m \u001b[0mnp\u001b[0m\u001b[0;34m.\u001b[0m\u001b[0mclip\u001b[0m\u001b[0;34m(\u001b[0m\u001b[0mgrouped\u001b[0m\u001b[0;34m[\u001b[0m\u001b[0;34m'item_cnt_month'\u001b[0m\u001b[0;34m]\u001b[0m\u001b[0;34m,\u001b[0m \u001b[0;36m0\u001b[0m\u001b[0;34m,\u001b[0m \u001b[0;36m20\u001b[0m\u001b[0;34m)\u001b[0m\u001b[0;34m\u001b[0m\u001b[0;34m\u001b[0m\u001b[0m\n\u001b[0m",
      "\u001b[0;32m~/anaconda3/envs/ml/lib/python3.8/site-packages/pandas/core/frame.py\u001b[0m in \u001b[0;36m__getitem__\u001b[0;34m(self, key)\u001b[0m\n\u001b[1;32m   2899\u001b[0m         \u001b[0;32mif\u001b[0m \u001b[0mis_single_key\u001b[0m\u001b[0;34m:\u001b[0m\u001b[0;34m\u001b[0m\u001b[0;34m\u001b[0m\u001b[0m\n\u001b[1;32m   2900\u001b[0m             \u001b[0;32mif\u001b[0m \u001b[0mself\u001b[0m\u001b[0;34m.\u001b[0m\u001b[0mcolumns\u001b[0m\u001b[0;34m.\u001b[0m\u001b[0mnlevels\u001b[0m \u001b[0;34m>\u001b[0m \u001b[0;36m1\u001b[0m\u001b[0;34m:\u001b[0m\u001b[0;34m\u001b[0m\u001b[0;34m\u001b[0m\u001b[0m\n\u001b[0;32m-> 2901\u001b[0;31m                 \u001b[0;32mreturn\u001b[0m \u001b[0mself\u001b[0m\u001b[0;34m.\u001b[0m\u001b[0m_getitem_multilevel\u001b[0m\u001b[0;34m(\u001b[0m\u001b[0mkey\u001b[0m\u001b[0;34m)\u001b[0m\u001b[0;34m\u001b[0m\u001b[0;34m\u001b[0m\u001b[0m\n\u001b[0m\u001b[1;32m   2902\u001b[0m             \u001b[0mindexer\u001b[0m \u001b[0;34m=\u001b[0m \u001b[0mself\u001b[0m\u001b[0;34m.\u001b[0m\u001b[0mcolumns\u001b[0m\u001b[0;34m.\u001b[0m\u001b[0mget_loc\u001b[0m\u001b[0;34m(\u001b[0m\u001b[0mkey\u001b[0m\u001b[0;34m)\u001b[0m\u001b[0;34m\u001b[0m\u001b[0;34m\u001b[0m\u001b[0m\n\u001b[1;32m   2903\u001b[0m             \u001b[0;32mif\u001b[0m \u001b[0mis_integer\u001b[0m\u001b[0;34m(\u001b[0m\u001b[0mindexer\u001b[0m\u001b[0;34m)\u001b[0m\u001b[0;34m:\u001b[0m\u001b[0;34m\u001b[0m\u001b[0;34m\u001b[0m\u001b[0m\n",
      "\u001b[0;32m~/anaconda3/envs/ml/lib/python3.8/site-packages/pandas/core/frame.py\u001b[0m in \u001b[0;36m_getitem_multilevel\u001b[0;34m(self, key)\u001b[0m\n\u001b[1;32m   2949\u001b[0m     \u001b[0;32mdef\u001b[0m \u001b[0m_getitem_multilevel\u001b[0m\u001b[0;34m(\u001b[0m\u001b[0mself\u001b[0m\u001b[0;34m,\u001b[0m \u001b[0mkey\u001b[0m\u001b[0;34m)\u001b[0m\u001b[0;34m:\u001b[0m\u001b[0;34m\u001b[0m\u001b[0;34m\u001b[0m\u001b[0m\n\u001b[1;32m   2950\u001b[0m         \u001b[0;31m# self.columns is a MultiIndex\u001b[0m\u001b[0;34m\u001b[0m\u001b[0;34m\u001b[0m\u001b[0;34m\u001b[0m\u001b[0m\n\u001b[0;32m-> 2951\u001b[0;31m         \u001b[0mloc\u001b[0m \u001b[0;34m=\u001b[0m \u001b[0mself\u001b[0m\u001b[0;34m.\u001b[0m\u001b[0mcolumns\u001b[0m\u001b[0;34m.\u001b[0m\u001b[0mget_loc\u001b[0m\u001b[0;34m(\u001b[0m\u001b[0mkey\u001b[0m\u001b[0;34m)\u001b[0m\u001b[0;34m\u001b[0m\u001b[0;34m\u001b[0m\u001b[0m\n\u001b[0m\u001b[1;32m   2952\u001b[0m         \u001b[0;32mif\u001b[0m \u001b[0misinstance\u001b[0m\u001b[0;34m(\u001b[0m\u001b[0mloc\u001b[0m\u001b[0;34m,\u001b[0m \u001b[0;34m(\u001b[0m\u001b[0mslice\u001b[0m\u001b[0;34m,\u001b[0m \u001b[0mnp\u001b[0m\u001b[0;34m.\u001b[0m\u001b[0mndarray\u001b[0m\u001b[0;34m)\u001b[0m\u001b[0;34m)\u001b[0m\u001b[0;34m:\u001b[0m\u001b[0;34m\u001b[0m\u001b[0;34m\u001b[0m\u001b[0m\n\u001b[1;32m   2953\u001b[0m             \u001b[0mnew_columns\u001b[0m \u001b[0;34m=\u001b[0m \u001b[0mself\u001b[0m\u001b[0;34m.\u001b[0m\u001b[0mcolumns\u001b[0m\u001b[0;34m[\u001b[0m\u001b[0mloc\u001b[0m\u001b[0;34m]\u001b[0m\u001b[0;34m\u001b[0m\u001b[0;34m\u001b[0m\u001b[0m\n",
      "\u001b[0;32m~/anaconda3/envs/ml/lib/python3.8/site-packages/pandas/core/indexes/multi.py\u001b[0m in \u001b[0;36mget_loc\u001b[0;34m(self, key, method)\u001b[0m\n\u001b[1;32m   2698\u001b[0m         \u001b[0;32mif\u001b[0m \u001b[0;32mnot\u001b[0m \u001b[0misinstance\u001b[0m\u001b[0;34m(\u001b[0m\u001b[0mkey\u001b[0m\u001b[0;34m,\u001b[0m \u001b[0;34m(\u001b[0m\u001b[0mtuple\u001b[0m\u001b[0;34m,\u001b[0m \u001b[0mlist\u001b[0m\u001b[0;34m)\u001b[0m\u001b[0;34m)\u001b[0m\u001b[0;34m:\u001b[0m\u001b[0;34m\u001b[0m\u001b[0;34m\u001b[0m\u001b[0m\n\u001b[1;32m   2699\u001b[0m             \u001b[0;31m# not including list here breaks some indexing, xref #30892\u001b[0m\u001b[0;34m\u001b[0m\u001b[0;34m\u001b[0m\u001b[0;34m\u001b[0m\u001b[0m\n\u001b[0;32m-> 2700\u001b[0;31m             \u001b[0mloc\u001b[0m \u001b[0;34m=\u001b[0m \u001b[0mself\u001b[0m\u001b[0;34m.\u001b[0m\u001b[0m_get_level_indexer\u001b[0m\u001b[0;34m(\u001b[0m\u001b[0mkey\u001b[0m\u001b[0;34m,\u001b[0m \u001b[0mlevel\u001b[0m\u001b[0;34m=\u001b[0m\u001b[0;36m0\u001b[0m\u001b[0;34m)\u001b[0m\u001b[0;34m\u001b[0m\u001b[0;34m\u001b[0m\u001b[0m\n\u001b[0m\u001b[1;32m   2701\u001b[0m             \u001b[0;32mreturn\u001b[0m \u001b[0m_maybe_to_slice\u001b[0m\u001b[0;34m(\u001b[0m\u001b[0mloc\u001b[0m\u001b[0;34m)\u001b[0m\u001b[0;34m\u001b[0m\u001b[0;34m\u001b[0m\u001b[0m\n\u001b[1;32m   2702\u001b[0m \u001b[0;34m\u001b[0m\u001b[0m\n",
      "\u001b[0;32m~/anaconda3/envs/ml/lib/python3.8/site-packages/pandas/core/indexes/multi.py\u001b[0m in \u001b[0;36m_get_level_indexer\u001b[0;34m(self, key, level, indexer)\u001b[0m\n\u001b[1;32m   2963\u001b[0m         \u001b[0;32melse\u001b[0m\u001b[0;34m:\u001b[0m\u001b[0;34m\u001b[0m\u001b[0;34m\u001b[0m\u001b[0m\n\u001b[1;32m   2964\u001b[0m \u001b[0;34m\u001b[0m\u001b[0m\n\u001b[0;32m-> 2965\u001b[0;31m             \u001b[0mcode\u001b[0m \u001b[0;34m=\u001b[0m \u001b[0mself\u001b[0m\u001b[0;34m.\u001b[0m\u001b[0m_get_loc_single_level_index\u001b[0m\u001b[0;34m(\u001b[0m\u001b[0mlevel_index\u001b[0m\u001b[0;34m,\u001b[0m \u001b[0mkey\u001b[0m\u001b[0;34m)\u001b[0m\u001b[0;34m\u001b[0m\u001b[0;34m\u001b[0m\u001b[0m\n\u001b[0m\u001b[1;32m   2966\u001b[0m \u001b[0;34m\u001b[0m\u001b[0m\n\u001b[1;32m   2967\u001b[0m             \u001b[0;32mif\u001b[0m \u001b[0mlevel\u001b[0m \u001b[0;34m>\u001b[0m \u001b[0;36m0\u001b[0m \u001b[0;32mor\u001b[0m \u001b[0mself\u001b[0m\u001b[0;34m.\u001b[0m\u001b[0mlexsort_depth\u001b[0m \u001b[0;34m==\u001b[0m \u001b[0;36m0\u001b[0m\u001b[0;34m:\u001b[0m\u001b[0;34m\u001b[0m\u001b[0;34m\u001b[0m\u001b[0m\n",
      "\u001b[0;32m~/anaconda3/envs/ml/lib/python3.8/site-packages/pandas/core/indexes/multi.py\u001b[0m in \u001b[0;36m_get_loc_single_level_index\u001b[0;34m(self, level_index, key)\u001b[0m\n\u001b[1;32m   2632\u001b[0m             \u001b[0;32mreturn\u001b[0m \u001b[0;34m-\u001b[0m\u001b[0;36m1\u001b[0m\u001b[0;34m\u001b[0m\u001b[0;34m\u001b[0m\u001b[0m\n\u001b[1;32m   2633\u001b[0m         \u001b[0;32melse\u001b[0m\u001b[0;34m:\u001b[0m\u001b[0;34m\u001b[0m\u001b[0;34m\u001b[0m\u001b[0m\n\u001b[0;32m-> 2634\u001b[0;31m             \u001b[0;32mreturn\u001b[0m \u001b[0mlevel_index\u001b[0m\u001b[0;34m.\u001b[0m\u001b[0mget_loc\u001b[0m\u001b[0;34m(\u001b[0m\u001b[0mkey\u001b[0m\u001b[0;34m)\u001b[0m\u001b[0;34m\u001b[0m\u001b[0;34m\u001b[0m\u001b[0m\n\u001b[0m\u001b[1;32m   2635\u001b[0m \u001b[0;34m\u001b[0m\u001b[0m\n\u001b[1;32m   2636\u001b[0m     \u001b[0;32mdef\u001b[0m \u001b[0mget_loc\u001b[0m\u001b[0;34m(\u001b[0m\u001b[0mself\u001b[0m\u001b[0;34m,\u001b[0m \u001b[0mkey\u001b[0m\u001b[0;34m,\u001b[0m \u001b[0mmethod\u001b[0m\u001b[0;34m=\u001b[0m\u001b[0;32mNone\u001b[0m\u001b[0;34m)\u001b[0m\u001b[0;34m:\u001b[0m\u001b[0;34m\u001b[0m\u001b[0;34m\u001b[0m\u001b[0m\n",
      "\u001b[0;32m~/anaconda3/envs/ml/lib/python3.8/site-packages/pandas/core/indexes/base.py\u001b[0m in \u001b[0;36mget_loc\u001b[0;34m(self, key, method, tolerance)\u001b[0m\n\u001b[1;32m   2889\u001b[0m                 \u001b[0;32mreturn\u001b[0m \u001b[0mself\u001b[0m\u001b[0;34m.\u001b[0m\u001b[0m_engine\u001b[0m\u001b[0;34m.\u001b[0m\u001b[0mget_loc\u001b[0m\u001b[0;34m(\u001b[0m\u001b[0mcasted_key\u001b[0m\u001b[0;34m)\u001b[0m\u001b[0;34m\u001b[0m\u001b[0;34m\u001b[0m\u001b[0m\n\u001b[1;32m   2890\u001b[0m             \u001b[0;32mexcept\u001b[0m \u001b[0mKeyError\u001b[0m \u001b[0;32mas\u001b[0m \u001b[0merr\u001b[0m\u001b[0;34m:\u001b[0m\u001b[0;34m\u001b[0m\u001b[0;34m\u001b[0m\u001b[0m\n\u001b[0;32m-> 2891\u001b[0;31m                 \u001b[0;32mraise\u001b[0m \u001b[0mKeyError\u001b[0m\u001b[0;34m(\u001b[0m\u001b[0mkey\u001b[0m\u001b[0;34m)\u001b[0m \u001b[0;32mfrom\u001b[0m \u001b[0merr\u001b[0m\u001b[0;34m\u001b[0m\u001b[0;34m\u001b[0m\u001b[0m\n\u001b[0m\u001b[1;32m   2892\u001b[0m \u001b[0;34m\u001b[0m\u001b[0m\n\u001b[1;32m   2893\u001b[0m         \u001b[0;32mif\u001b[0m \u001b[0mtolerance\u001b[0m \u001b[0;32mis\u001b[0m \u001b[0;32mnot\u001b[0m \u001b[0;32mNone\u001b[0m\u001b[0;34m:\u001b[0m\u001b[0;34m\u001b[0m\u001b[0;34m\u001b[0m\u001b[0m\n",
      "\u001b[0;31mKeyError\u001b[0m: 'item_cnt_month'"
     ]
    }
   ],
   "source": [
    "grouped['item_cnt_month'] = np.clip(grouped['item_cnt_month'], 0, 20)"
   ]
  },
  {
   "cell_type": "markdown",
   "metadata": {},
   "source": [
    "### Create train and test data"
   ]
  },
  {
   "cell_type": "code",
   "execution_count": 246,
   "metadata": {
    "ExecuteTime": {
     "end_time": "2020-11-09T23:00:06.406789Z",
     "start_time": "2020-11-09T23:00:06.402580Z"
    }
   },
   "outputs": [
    {
     "data": {
      "text/plain": [
       "array([ 0,  1,  2,  3,  4,  5,  6,  7,  8,  9, 10, 11, 12, 13, 14, 15, 16,\n",
       "       17, 18, 19, 20, 21, 22, 23, 24, 25, 26, 27, 28])"
      ]
     },
     "execution_count": 246,
     "metadata": {},
     "output_type": "execute_result"
    }
   ],
   "source": [
    "t[:-s]"
   ]
  },
  {
   "cell_type": "code",
   "execution_count": 247,
   "metadata": {
    "ExecuteTime": {
     "end_time": "2020-11-09T23:00:06.412755Z",
     "start_time": "2020-11-09T23:00:06.408610Z"
    }
   },
   "outputs": [
    {
     "data": {
      "text/plain": [
       "array([29, 30, 31, 32, 33])"
      ]
     },
     "execution_count": 247,
     "metadata": {},
     "output_type": "execute_result"
    }
   ],
   "source": [
    "t[-s:]"
   ]
  },
  {
   "cell_type": "code",
   "execution_count": 248,
   "metadata": {
    "ExecuteTime": {
     "end_time": "2020-11-09T23:00:06.516191Z",
     "start_time": "2020-11-09T23:00:06.414458Z"
    }
   },
   "outputs": [],
   "source": [
    "# This is train/test split\n",
    "s = 5\n",
    "\n",
    "feature_columns = ['shop_id', 'item_id', 'item_cnt_month', 'month']\n",
    "target_column = 'item_cnt_month'\n",
    "train = grouped[feature_columns][grouped['date_block_num'].isin(t[:-s])]\n",
    "test = grouped[feature_columns][grouped['date_block_num'].isin(t[-s:])]"
   ]
  },
  {
   "cell_type": "code",
   "execution_count": 249,
   "metadata": {
    "ExecuteTime": {
     "end_time": "2020-11-09T23:00:06.550121Z",
     "start_time": "2020-11-09T23:00:06.537014Z"
    },
    "scrolled": true
   },
   "outputs": [],
   "source": [
    "train_data = lgb.Dataset(train.drop([target_column], axis=1), \\\n",
    "                         label=train[target_column], \\\n",
    "#                          feature_name=['shop_id', 'item_id', 'month'], \\\n",
    "                        categorical_feature=['shop_id', 'item_id', 'month'],\n",
    "#                          categorical_feature='name:shop_id,item_id,month', \\\n",
    "                         free_raw_data=False)\n",
    "test_data = lgb.Dataset(test.drop([target_column], axis=1), \\\n",
    "                        label=test[target_column], \\\n",
    "#                         feature_name=['shop_id', 'item_id', 'month'], \\\n",
    "                        categorical_feature=['shop_id', 'item_id', 'month'], \\\n",
    "#                         categorical_feature='name:shop_id,item_id,month', \\\n",
    "                        reference=train_data, \\\n",
    "                        free_raw_data=False)"
   ]
  },
  {
   "cell_type": "code",
   "execution_count": 258,
   "metadata": {
    "ExecuteTime": {
     "end_time": "2020-11-09T23:00:50.240379Z",
     "start_time": "2020-11-09T23:00:50.235922Z"
    }
   },
   "outputs": [],
   "source": [
    "param = {'num_leaves': 100,\n",
    "         'objective': 'rmse',\n",
    "#          'is_provide_training_metric': True,\n",
    "#          'min_data_in_leaf': 20,\n",
    "#          'max_depth': 5,\n",
    "         'learning_rate ': 0.1,\n",
    "#          'max_bin': 5000,\n",
    "        }\n",
    "param['metric'] = 'rmse'"
   ]
  },
  {
   "cell_type": "code",
   "execution_count": 259,
   "metadata": {
    "ExecuteTime": {
     "end_time": "2020-11-09T23:00:52.831942Z",
     "start_time": "2020-11-09T23:00:50.434585Z"
    },
    "scrolled": true
   },
   "outputs": [
    {
     "name": "stdout",
     "output_type": "stream",
     "text": [
      "[1]\ttraining's rmse: 2.5186\tvalid_1's rmse: 2.23015\n",
      "[2]\ttraining's rmse: 2.44297\tvalid_1's rmse: 2.18845\n",
      "[3]\ttraining's rmse: 2.37965\tvalid_1's rmse: 2.16596\n",
      "[4]\ttraining's rmse: 2.32471\tvalid_1's rmse: 2.1555\n",
      "[5]\ttraining's rmse: 2.2787\tvalid_1's rmse: 2.15711\n",
      "[6]\ttraining's rmse: 2.23917\tvalid_1's rmse: 2.16471\n",
      "[7]\ttraining's rmse: 2.20652\tvalid_1's rmse: 2.17835\n",
      "[8]\ttraining's rmse: 2.17616\tvalid_1's rmse: 2.19766\n",
      "[9]\ttraining's rmse: 2.15077\tvalid_1's rmse: 2.21626\n",
      "[10]\ttraining's rmse: 2.1272\tvalid_1's rmse: 2.23678\n",
      "[11]\ttraining's rmse: 2.10697\tvalid_1's rmse: 2.25664\n",
      "[12]\ttraining's rmse: 2.08807\tvalid_1's rmse: 2.27848\n",
      "[13]\ttraining's rmse: 2.07231\tvalid_1's rmse: 2.29704\n",
      "[14]\ttraining's rmse: 2.05691\tvalid_1's rmse: 2.31489\n",
      "[15]\ttraining's rmse: 2.04029\tvalid_1's rmse: 2.33344\n",
      "[16]\ttraining's rmse: 2.02712\tvalid_1's rmse: 2.35292\n",
      "[17]\ttraining's rmse: 2.01291\tvalid_1's rmse: 2.36719\n",
      "[18]\ttraining's rmse: 2.00145\tvalid_1's rmse: 2.38367\n",
      "[19]\ttraining's rmse: 1.98743\tvalid_1's rmse: 2.3968\n",
      "[20]\ttraining's rmse: 1.97677\tvalid_1's rmse: 2.40777\n"
     ]
    }
   ],
   "source": [
    "num_round = 20\n",
    "bst = lgb.train(param, train_data, num_round, valid_sets=[train_data, test_data])"
   ]
  },
  {
   "cell_type": "code",
   "execution_count": 262,
   "metadata": {
    "ExecuteTime": {
     "end_time": "2020-11-09T23:01:03.471923Z",
     "start_time": "2020-11-09T23:01:03.308869Z"
    }
   },
   "outputs": [],
   "source": [
    "pred = bst.predict(test.drop([target_column], axis=1))\n",
    "sortted = np.argsort(pred)\n",
    "# pred = np.clip(pred, 0, 20)"
   ]
  },
  {
   "cell_type": "code",
   "execution_count": 265,
   "metadata": {
    "ExecuteTime": {
     "end_time": "2020-11-09T23:01:27.467388Z",
     "start_time": "2020-11-09T23:01:27.459884Z"
    }
   },
   "outputs": [
    {
     "data": {
      "text/plain": [
       "2.408022786392369"
      ]
     },
     "execution_count": 265,
     "metadata": {},
     "output_type": "execute_result"
    }
   ],
   "source": [
    "mean_squared_error(test['item_cnt_month'], pred, squared=False)"
   ]
  },
  {
   "cell_type": "code",
   "execution_count": 263,
   "metadata": {
    "ExecuteTime": {
     "end_time": "2020-11-09T23:01:03.544642Z",
     "start_time": "2020-11-09T23:01:03.529530Z"
    }
   },
   "outputs": [
    {
     "data": {
      "text/plain": [
       "2.408022786392369"
      ]
     },
     "execution_count": 263,
     "metadata": {},
     "output_type": "execute_result"
    }
   ],
   "source": [
    "mean_squared_error(test.iloc[sortted]['item_cnt_month'], pred[sortted], squared=False)"
   ]
  },
  {
   "cell_type": "code",
   "execution_count": 243,
   "metadata": {
    "ExecuteTime": {
     "end_time": "2020-11-09T22:59:05.384617Z",
     "start_time": "2020-11-09T22:59:04.996563Z"
    }
   },
   "outputs": [
    {
     "data": {
      "text/plain": [
       "<matplotlib.collections.PathCollection at 0x7f3aa10fa160>"
      ]
     },
     "execution_count": 243,
     "metadata": {},
     "output_type": "execute_result"
    },
    {
     "data": {
      "image/png": "[encoded data removed]",
      "text/plain": [
       "<Figure size 432x288 with 1 Axes>"
      ]
     },
     "metadata": {
      "needs_background": "light"
     },
     "output_type": "display_data"
    }
   ],
   "source": [
    "plt.scatter(test.iloc[sortted]['item_cnt_month'], \\\n",
    "            pred[sortted])"
   ]
  },
  {
   "cell_type": "code",
   "execution_count": 176,
   "metadata": {
    "ExecuteTime": {
     "end_time": "2020-11-09T22:43:04.891809Z",
     "start_time": "2020-11-09T22:43:04.882352Z"
    },
    "scrolled": true
   },
   "outputs": [],
   "source": [
    "reg = LinearRegression().fit(np.expand_dims(train.iloc[sortted]['item_cnt_month'].values, axis=1), pred[sortted])"
   ]
  },
  {
   "cell_type": "code",
   "execution_count": 177,
   "metadata": {
    "ExecuteTime": {
     "end_time": "2020-11-09T22:43:05.951637Z",
     "start_time": "2020-11-09T22:43:05.945721Z"
    }
   },
   "outputs": [
    {
     "data": {
      "text/plain": [
       "12.012130221179039"
      ]
     },
     "execution_count": 177,
     "metadata": {},
     "output_type": "execute_result"
    }
   ],
   "source": [
    "pred[sortted].max()"
   ]
  },
  {
   "cell_type": "code",
   "execution_count": 178,
   "metadata": {
    "ExecuteTime": {
     "end_time": "2020-11-09T22:43:08.332970Z",
     "start_time": "2020-11-09T22:43:08.321863Z"
    }
   },
   "outputs": [
    {
     "data": {
      "text/plain": [
       "0.5330686693825866"
      ]
     },
     "execution_count": 178,
     "metadata": {},
     "output_type": "execute_result"
    }
   ],
   "source": [
    "reg.score(np.expand_dims(train.iloc[sortted]['item_cnt_month'].values, axis=1), pred[sortted])"
   ]
  },
  {
   "cell_type": "code",
   "execution_count": 127,
   "metadata": {
    "ExecuteTime": {
     "end_time": "2020-11-09T21:08:25.910422Z",
     "start_time": "2020-11-09T21:08:25.858684Z"
    }
   },
   "outputs": [],
   "source": [
    "l_pred = reg.predict(np.expand_dims(train.iloc[sortted]['item_cnt_month'].values, axis=1))"
   ]
  },
  {
   "cell_type": "code",
   "execution_count": 128,
   "metadata": {
    "ExecuteTime": {
     "end_time": "2020-11-09T21:08:37.046054Z",
     "start_time": "2020-11-09T21:08:34.578089Z"
    }
   },
   "outputs": [
    {
     "data": {
      "text/plain": [
       "<matplotlib.collections.PathCollection at 0x7f3aa11e9550>"
      ]
     },
     "execution_count": 128,
     "metadata": {},
     "output_type": "execute_result"
    },
    {
     "data": {
      "image/png": "[encoded data removed]",
      "text/plain": [
       "<Figure size 432x288 with 1 Axes>"
      ]
     },
     "metadata": {
      "needs_background": "light"
     },
     "output_type": "display_data"
    }
   ],
   "source": [
    "plt.scatter(train.iloc[sortted]['item_cnt_month'], \\\n",
    "            l_pred)"
   ]
  },
  {
   "cell_type": "code",
   "execution_count": 108,
   "metadata": {
    "ExecuteTime": {
     "end_time": "2020-11-09T21:03:22.658726Z",
     "start_time": "2020-11-09T21:03:20.209657Z"
    }
   },
   "outputs": [
    {
     "data": {
      "text/plain": [
       "<matplotlib.collections.PathCollection at 0x7f397d06fd30>"
      ]
     },
     "execution_count": 108,
     "metadata": {},
     "output_type": "execute_result"
    },
    {
     "data": {
      "image/png": "[encoded data removed]",
      "text/plain": [
       "<Figure size 432x288 with 1 Axes>"
      ]
     },
     "metadata": {
      "needs_background": "light"
     },
     "output_type": "display_data"
    }
   ],
   "source": [
    "sortted = np.argsort(pred)\n",
    "plt.scatter(train.iloc[sortted]['item_cnt_month'], \\\n",
    "            pred[sortted])"
   ]
  },
  {
   "cell_type": "code",
   "execution_count": 132,
   "metadata": {
    "ExecuteTime": {
     "end_time": "2020-11-09T21:52:12.270956Z",
     "start_time": "2020-11-09T21:52:12.205244Z"
    }
   },
   "outputs": [
    {
     "data": {
      "text/plain": [
       "5.506395504239178"
      ]
     },
     "execution_count": 132,
     "metadata": {},
     "output_type": "execute_result"
    }
   ],
   "source": [
    "mean_squared_error(train.iloc[sortted]['item_cnt_month'], pred[sortted], squared=False)"
   ]
  },
  {
   "cell_type": "code",
   "execution_count": null,
   "metadata": {},
   "outputs": [],
   "source": []
  },
  {
   "cell_type": "code",
   "execution_count": null,
   "metadata": {},
   "outputs": [],
   "source": []
  },
  {
   "cell_type": "code",
   "execution_count": 250,
   "metadata": {
    "ExecuteTime": {
     "end_time": "2020-11-09T11:32:29.456609Z",
     "start_time": "2020-11-09T11:32:29.451593Z"
    }
   },
   "outputs": [
    {
     "name": "stdout",
     "output_type": "stream",
     "text": [
      "(1547915, 4)\n",
      "(61209, 4)\n",
      "(1609124, 5)\n"
     ]
    }
   ],
   "source": [
    "print(train.shape)\n",
    "print(test.shape)\n",
    "print(grouped.shape)\n",
    "\n",
    "dtrain = xgb.DMatrix(train, label=train[target_column].values)\n",
    "dtest = xgb.DMatrix(test, label=test[target_column].values)"
   ]
  },
  {
   "cell_type": "code",
   "execution_count": 263,
   "metadata": {
    "ExecuteTime": {
     "end_time": "2020-11-09T11:42:18.971769Z",
     "start_time": "2020-11-09T11:42:08.230043Z"
    },
    "scrolled": true
   },
   "outputs": [
    {
     "name": "stdout",
     "output_type": "stream",
     "text": [
      "[0]\teval-rmse:11.69006\n",
      "[1]\teval-rmse:8.80441\n",
      "[2]\teval-rmse:7.11031\n",
      "[3]\teval-rmse:6.28963\n",
      "[4]\teval-rmse:5.70264\n",
      "[5]\teval-rmse:5.30658\n",
      "[6]\teval-rmse:5.29830\n",
      "[7]\teval-rmse:5.05847\n",
      "[8]\teval-rmse:5.04535\n",
      "[9]\teval-rmse:4.87273\n",
      "[10]\teval-rmse:4.85358\n",
      "[11]\teval-rmse:4.74306\n",
      "[12]\teval-rmse:4.73428\n",
      "[13]\teval-rmse:4.63248\n",
      "[14]\teval-rmse:4.63058\n",
      "[15]\teval-rmse:4.62705\n",
      "[16]\teval-rmse:4.56458\n",
      "[17]\teval-rmse:4.55043\n",
      "[18]\teval-rmse:4.49565\n",
      "[19]\teval-rmse:4.50035\n",
      "[20]\teval-rmse:4.49924\n",
      "[21]\teval-rmse:4.49773\n",
      "[22]\teval-rmse:4.45610\n",
      "[23]\teval-rmse:4.43644\n",
      "[24]\teval-rmse:4.43617\n",
      "[25]\teval-rmse:4.43389\n",
      "[26]\teval-rmse:4.43690\n",
      "[27]\teval-rmse:4.43535\n",
      "[28]\teval-rmse:4.43478\n",
      "[29]\teval-rmse:4.43761\n",
      "[30]\teval-rmse:4.43459\n",
      "[31]\teval-rmse:4.43591\n",
      "[32]\teval-rmse:4.43067\n",
      "[33]\teval-rmse:4.42501\n",
      "[34]\teval-rmse:4.42445\n",
      "[35]\teval-rmse:4.42444\n",
      "[36]\teval-rmse:4.40050\n",
      "[37]\teval-rmse:4.40014\n",
      "[38]\teval-rmse:4.39755\n",
      "[39]\teval-rmse:4.40168\n",
      "[40]\teval-rmse:4.40158\n",
      "[41]\teval-rmse:4.40131\n",
      "[42]\teval-rmse:4.40136\n",
      "[43]\teval-rmse:4.38301\n",
      "[44]\teval-rmse:4.38499\n",
      "[45]\teval-rmse:4.38494\n",
      "[46]\teval-rmse:4.37003\n",
      "[47]\teval-rmse:4.36982\n",
      "[48]\teval-rmse:4.37091\n",
      "[49]\teval-rmse:4.36162\n",
      "[50]\teval-rmse:4.36133\n",
      "[51]\teval-rmse:4.36141\n",
      "[52]\teval-rmse:4.36183\n",
      "[53]\teval-rmse:4.36126\n",
      "[54]\teval-rmse:4.36042\n",
      "[55]\teval-rmse:4.35960\n",
      "[56]\teval-rmse:4.34992\n",
      "[57]\teval-rmse:4.34992\n",
      "[58]\teval-rmse:4.34983\n",
      "[59]\teval-rmse:4.34998\n",
      "[60]\teval-rmse:4.34936\n",
      "[61]\teval-rmse:4.34908\n",
      "[62]\teval-rmse:4.34911\n",
      "[63]\teval-rmse:4.34900\n",
      "[64]\teval-rmse:4.34889\n",
      "[65]\teval-rmse:4.34883\n",
      "[66]\teval-rmse:4.34258\n",
      "[67]\teval-rmse:4.34202\n",
      "[68]\teval-rmse:4.34127\n",
      "[69]\teval-rmse:4.34271\n",
      "[70]\teval-rmse:4.34224\n",
      "[71]\teval-rmse:4.34229\n",
      "[72]\teval-rmse:4.34237\n",
      "[73]\teval-rmse:4.34226\n",
      "[74]\teval-rmse:4.33755\n",
      "[75]\teval-rmse:4.33689\n",
      "[76]\teval-rmse:4.34495\n",
      "[77]\teval-rmse:4.34546\n",
      "[78]\teval-rmse:4.34466\n",
      "[79]\teval-rmse:4.34564\n",
      "[80]\teval-rmse:4.34537\n",
      "[81]\teval-rmse:4.34487\n",
      "[82]\teval-rmse:4.34490\n",
      "[83]\teval-rmse:4.34488\n",
      "[84]\teval-rmse:4.34481\n",
      "[85]\teval-rmse:4.34568\n",
      "[86]\teval-rmse:4.34546\n",
      "[87]\teval-rmse:4.34567\n",
      "[88]\teval-rmse:4.34557\n",
      "[89]\teval-rmse:4.34559\n",
      "[90]\teval-rmse:4.34558\n",
      "[91]\teval-rmse:4.34523\n",
      "[92]\teval-rmse:4.34516\n",
      "[93]\teval-rmse:4.34520\n",
      "[94]\teval-rmse:4.34478\n",
      "[95]\teval-rmse:4.34455\n",
      "[96]\teval-rmse:4.34583\n",
      "[97]\teval-rmse:4.34222\n",
      "[98]\teval-rmse:4.34217\n",
      "[99]\teval-rmse:4.34223\n"
     ]
    }
   ],
   "source": [
    "# THERE MIGHT BE BETTER OBJECTIVES\n",
    "param = {'max_depth':3, 'eta':1, 'objective':'reg:squarederror', 'eval_metric': 'rmse'}\n",
    "num_round = 10\n",
    "bst = xgb.train(param, dtrain, num_round, evals=[(dtest, 'eval')], verbose_eval=True)"
   ]
  },
  {
   "cell_type": "code",
   "execution_count": 195,
   "metadata": {
    "ExecuteTime": {
     "end_time": "2020-11-09T10:28:04.143200Z",
     "start_time": "2020-11-09T10:28:04.140749Z"
    },
    "scrolled": true
   },
   "outputs": [],
   "source": [
    "# Try clipping the values into 0:20, but models RMSE should already help against the more rear features."
   ]
  },
  {
   "cell_type": "markdown",
   "metadata": {
    "heading_collapsed": true
   },
   "source": [
    "## Playground quiz"
   ]
  },
  {
   "cell_type": "code",
   "execution_count": 55,
   "metadata": {
    "hidden": true
   },
   "outputs": [],
   "source": [
    "from sklearn.metrics import log_loss\n",
    "import numpy as np"
   ]
  },
  {
   "cell_type": "code",
   "execution_count": 67,
   "metadata": {
    "hidden": true
   },
   "outputs": [
    {
     "name": "stdout",
     "output_type": "stream",
     "text": [
      "0.7710689317245613\n"
     ]
    }
   ],
   "source": [
    "C = 0.3\n",
    "L = 1.01\n",
    "res = (-L - np.log(1-C)) / (np.log(C) - np.log(1-C))\n",
    "print(res)"
   ]
  },
  {
   "cell_type": "markdown",
   "metadata": {},
   "source": [
    "## Playground lab"
   ]
  },
  {
   "cell_type": "code",
   "execution_count": 161,
   "metadata": {
    "ExecuteTime": {
     "end_time": "2020-11-04T21:35:47.621923Z",
     "start_time": "2020-11-04T21:35:47.572893Z"
    }
   },
   "outputs": [],
   "source": [
    "from sklearn.metrics import log_loss"
   ]
  },
  {
   "cell_type": "code",
   "execution_count": 178,
   "metadata": {
    "ExecuteTime": {
     "end_time": "2020-11-04T21:39:52.160298Z",
     "start_time": "2020-11-04T21:39:52.152261Z"
    }
   },
   "outputs": [
    {
     "data": {
      "text/plain": [
       "0.6931471805599453"
      ]
     },
     "execution_count": 178,
     "metadata": {},
     "output_type": "execute_result"
    }
   ],
   "source": [
    "log_loss([0, 1, 1, 1], [[0.5, 0.5], [0.5, 0.5,], [0.5, 0.5], [0.5, 0.5]])"
   ]
  },
  {
   "cell_type": "code",
   "execution_count": null,
   "metadata": {},
   "outputs": [],
   "source": []
  }
 ],
 "metadata": {
  "kernelspec": {
   "display_name": "Python 3",
   "language": "python",
   "name": "python3"
  },
  "language_info": {
   "codemirror_mode": {
    "name": "ipython",
    "version": 3
   },
   "file_extension": ".py",
   "mimetype": "text/x-python",
   "name": "python",
   "nbconvert_exporter": "python",
   "pygments_lexer": "ipython3",
   "version": "3.8.5"
  },
  "toc-autonumbering": true,
  "toc-showtags": false
 },
 "nbformat": 4,
 "nbformat_minor": 4
}
